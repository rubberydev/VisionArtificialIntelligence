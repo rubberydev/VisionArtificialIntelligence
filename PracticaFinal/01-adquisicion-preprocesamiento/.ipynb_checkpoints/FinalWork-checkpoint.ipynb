{
 "cells": [
  {
   "cell_type": "markdown",
   "metadata": {},
   "source": [
    "![Curso de Visión Artificial](images/encabezado.png)"
   ]
  },
  {
   "cell_type": "markdown",
   "metadata": {},
   "source": [
    "<div style=\"padding:10px; border-radius:10px; border:2px solid #0F7CCC;\">\n",
    "<span style=\"color:#0F7CCC\"><h1>Integrantes:</h1></span>\n",
    "<span style=\"color:#0F7CCC\"><h3>Camilo Vahos.</h3></span>\n",
    "<span style=\"color:#0F7CCC\"><h3>Julian Herrera G.</h3></span>"
   ]
  },
  {
   "cell_type": "markdown",
   "metadata": {},
   "source": [
    "<h1>Adquisicion y pre-procesamiento.</h1>\n",
    "\n",
    "<h3>Primera entrega, pasos a tener en cuenta: </h3>\n",
    "<ul>\n",
    "    <li>Desarrollo de la Solución (aproximadamente 5 páginas).</li>\n",
    "    <li>El Proceso de Adquisición.</li>\n",
    "    <li>El Proceso de Pre-procesamiento (Aplicación de transformaciones lineales y no lineales; filtros de suavizado y realzado, y revisión de los espacios de color).</li>\n",
    "    <li>Se debe indicar qué se hizo y cómo se hizo, mostrando los problemas encontrados y la solución que dieron a los mismos (incluya imágenes que muestre la aplicación en un caso bueno y uno malo).</li>\n",
    "    <li>También se espera que proporcione una discusión de los resultados (por ejemplo, cuál de los pasos fueron    fáciles y cuáles más difíciles, qué fue posible realizar, qué no fue posible hacer y por qué).</li>\n",
    "</ul>"
   ]
  },
  {
   "cell_type": "code",
   "execution_count": null,
   "metadata": {},
   "outputs": [],
   "source": [
    "# Siempre que usemos matplotlib en Jupyter es necesario poner esta línea antes de cualquier otra\n",
    "%matplotlib inline\n",
    "\n",
    "# Importamos las bibliotecas necesarias y les asigamos un alias\n",
    "import skimage                           # Biblioteca para la manipulación de imágenes\n",
    "import numpy as np                       # Biblioteca para la manipulación de matrices\n",
    "\n",
    "# Importamos algunos paquetes específicos\n",
    "from matplotlib import pyplot as plt     # Biblioteca para crear graficas y mostrar las imágenes en pantalla\n",
    "\n",
    "from skimage import io                   # Paquete para lectura/escritura de imágenes\n",
    "from skimage import color                # Paquete con las operaciones de transformaciones entre espacios de color\n",
    "from skimage import exposure             # Paquete con las funciones para calcular y alterar el histograma\n",
    "from skimage import filters              # Paquete que contiene las máscaras y filtros de suavizado y realzado\n",
    "from skimage import util                 # Paquete que contiene las funciones para cambiar el tipo de dato \n",
    "                                         #de las imágenes\n",
    "from scipy import ndimage                # Usamos esta biblioteca para realizar la operación de convolución\n",
    "import skdemo\n",
    "from skimage import morphology           # Para crear el kernel de convolución en los filtros no lienales\n",
    "\n",
    "\n",
    "##################\n",
    "\n",
    "from skimage import morphology           # Para crear el kernel de convolución en los filtros no lienales\n",
    "from skimage import transform            # Esta biblioteca es la que contiene la implementación de Hough\n",
    "from skimage import measure              # Esta biblioteca contiene el método de etiquetado de regiones\n",
    "from skimage import feature              # Esta biblioteca es la que contiene la implementación del cann\n",
    "\n",
    "# Con este nos aseguramos que las imagenes en niveles de gris, se vean como tal siempre.\n",
    "plt.rcParams['image.cmap'] = 'gray'\n",
    "plt.rcParams['image.interpolation'] = 'none'\n"
   ]
  },
  {
   "cell_type": "code",
   "execution_count": null,
   "metadata": {},
   "outputs": [],
   "source": [
    "image_1 = io.imread(\"images/good/image1.jpeg\")\n",
    "image_2 = io.imread(\"images/good/image2.jpeg\")\n",
    "image_3 = io.imread(\"images/good/image3.jpeg\")\n",
    "image_4 = io.imread(\"images/good/image4.jpeg\")\n",
    "image_5 = io.imread(\"images/good/image5.jpeg\")\n",
    "image_6 = io.imread(\"images/good/image6.jpeg\")\n",
    "image_7 = io.imread(\"images/good/image7.jpeg\")\n",
    "image_8 = io.imread(\"images/good/image8.jpeg\")\n",
    "image_9 = io.imread(\"images/good/image9.jpeg\")\n",
    "image_10 = io.imread(\"images/good/image10.jpeg\")\n",
    "image_11 = io.imread(\"images/good/image11.jpeg\")\n",
    "image_12 = io.imread(\"images/good/image12.jpeg\")\n",
    "image_13 = io.imread(\"images/bad/image13.jpeg\")\n",
    "image_14 = io.imread(\"images/bad/image14.jpeg\")\n",
    "image_15 = io.imread(\"images/bad/image15.jpeg\")\n",
    "image_16 = io.imread(\"images/bad/image16.jpeg\")\n",
    "image_17 = io.imread(\"images/bad/image17.jpeg\")\n",
    "image_18 = io.imread(\"images/bad/image18.jpeg\")\n",
    "image_19 = io.imread(\"images/bad/image19.jpeg\")\n",
    "image_20 = io.imread(\"images/bad/image20.jpeg\")\n",
    "image_21 = io.imread(\"images/bad/image21.jpeg\")\n",
    "image_22 = io.imread(\"images/bad/image22.jpeg\")\n",
    "image_23 = io.imread(\"images/bad/image23.jpeg\")\n",
    "\n",
    "#single images\n",
    "print(\"Type of image is {}\".format(image_1.dtype))\n",
    "skdemo.imshow_with_histogram(image_1)\n",
    "skdemo.imshow_with_histogram(image_2)\n",
    "skdemo.imshow_with_histogram(image_3)\n",
    "skdemo.imshow_with_histogram(image_4)\n",
    "skdemo.imshow_with_histogram(image_5)\n",
    "skdemo.imshow_with_histogram(image_6)\n",
    "skdemo.imshow_with_histogram(image_7)\n",
    "skdemo.imshow_with_histogram(image_8)\n",
    "skdemo.imshow_with_histogram(image_9)\n",
    "skdemo.imshow_with_histogram(image_10)\n",
    "skdemo.imshow_with_histogram(image_11)\n",
    "skdemo.imshow_with_histogram(image_12)\n"
   ]
  },
  {
   "cell_type": "code",
   "execution_count": null,
   "metadata": {},
   "outputs": [],
   "source": [
    "# Sets of oranges\n",
    "skdemo.imshow_with_histogram(image_13)\n",
    "skdemo.imshow_with_histogram(image_14)\n",
    "skdemo.imshow_with_histogram(image_15)\n",
    "skdemo.imshow_with_histogram(image_16)\n",
    "skdemo.imshow_with_histogram(image_17)\n",
    "skdemo.imshow_with_histogram(image_18)\n",
    "skdemo.imshow_with_histogram(image_19)\n",
    "skdemo.imshow_with_histogram(image_20)\n",
    "skdemo.imshow_with_histogram(image_21)\n",
    "skdemo.imshow_with_histogram(image_22)\n",
    "skdemo.imshow_with_histogram(image_23)"
   ]
  },
  {
   "cell_type": "markdown",
   "metadata": {},
   "source": [
    "<div style=\"padding:10px; border-radius:10px; border:2px solid #0F7CCC;\">\n",
    "<span style=\"color:#0F7CCC\"><h3>AUMENTO DE BRILLO</h3></span>\n",
    "<span style=\"color:#0F7CCC\"><h2>Analisis y observaciones</h2></span>\n",
    "    <ul>\n",
    "        <li>Esta operación se aplicó después de analizar los histogramas de las imágenes y determinar según estos, cuales imágenes necesitaban u mayor brillo tenían la posibilidad de ser aumentado</li>\n",
    "        <li>Es importante tener en cuenta que a medida que se aumenta el brillo, el histograma de la imagen se corre a la derecha generando mayor luminosidad en la imagen, se debe tener cuidado con esta operación para evitar saturar la imagen demasiado llegando al nivel máximo de sus niveles de gris</li>\n",
    "        <li>Para realizar este tipo de operaciones es mejor trabajar con imagenes de tipo real, ya que  al aumentar el brillo de la imagen se genera una saturación de los niveles de gris, por tanto se debe  realizar la operación correspondiente para que dichos niveles que superen el máximo no se reinicien si no que sean saturados al nivel de gris mayor que para este caso seria 1 </li>\n",
    "    </ul>\n",
    "   \n",
    "    \n",
    "   \n",
    "</div>"
   ]
  },
  {
   "cell_type": "code",
   "execution_count": null,
   "metadata": {},
   "outputs": [],
   "source": [
    "def transformacion_lineal(img, a):\n",
    "    b = 0.1\n",
    "    out = img.copy()\n",
    "    # Cambiamos la representación de la imagen a real:\n",
    "    out = skimage.img_as_float64(img)\n",
    "    \n",
    "    if a == 1 and b > 0 :\n",
    "        out = a * out + b\n",
    "        out = np.clip(out, 0, 1)\n",
    "    elif a == 1 and b < 0 :\n",
    "        out = a * out + b\n",
    "        out = np.clip(out, 0, 1)\n",
    "    elif  a > 0 and b == 0 :\n",
    "        out = a * out + b\n",
    "        out = np.clip(out, 0, 1);\n",
    "    elif a == 0 and b == 0 :\n",
    "        out = 1 - out\n",
    "    else:\n",
    "        out = img\n",
    "        \n",
    "    return out "
   ]
  },
  {
   "cell_type": "code",
   "execution_count": null,
   "metadata": {
    "scrolled": true
   },
   "outputs": [],
   "source": [
    "\n",
    "#Naranjas buenas\n",
    "skdemo.imshow_with_histogram(transformacion_lineal(image_1, 1))\n",
    "skdemo.imshow_with_histogram(transformacion_lineal(image_2, 1))\n",
    "skdemo.imshow_with_histogram(transformacion_lineal(image_3, 1))\n",
    "skdemo.imshow_with_histogram(transformacion_lineal(image_4, 1))\n",
    "skdemo.imshow_with_histogram(transformacion_lineal(image_5, 1))\n",
    "skdemo.imshow_with_histogram(transformacion_lineal(image_6, 1))\n",
    "skdemo.imshow_with_histogram(transformacion_lineal(image_7, 1))\n",
    "skdemo.imshow_with_histogram(transformacion_lineal(image_8, 1))\n",
    "skdemo.imshow_with_histogram(transformacion_lineal(image_9, 1))\n",
    "skdemo.imshow_with_histogram(transformacion_lineal(image_10, 1))\n",
    "skdemo.imshow_with_histogram(transformacion_lineal(image_11, 1))\n",
    "skdemo.imshow_with_histogram(transformacion_lineal(image_12, 1))\n",
    "\n",
    "\n",
    "print(\"1 ==> {} 17 ==> {} 23 ==> {}\".format(image_1.shape,image_23.shape,image_17.shape))"
   ]
  },
  {
   "cell_type": "code",
   "execution_count": null,
   "metadata": {},
   "outputs": [],
   "source": [
    "\n",
    "#naranjas malas\n",
    "skdemo.imshow_with_histogram(transformacion_lineal(image_13, 1))\n",
    "skdemo.imshow_with_histogram(transformacion_lineal(image_14, 1))\n",
    "skdemo.imshow_with_histogram(transformacion_lineal(image_15, 1))\n",
    "skdemo.imshow_with_histogram(transformacion_lineal(image_16, 1))\n",
    "skdemo.imshow_with_histogram(transformacion_lineal(image_17, 1))\n",
    "skdemo.imshow_with_histogram(transformacion_lineal(image_18, 1))\n",
    "skdemo.imshow_with_histogram(transformacion_lineal(image_19, 1))\n",
    "skdemo.imshow_with_histogram(transformacion_lineal(image_20, 1))\n",
    "skdemo.imshow_with_histogram(transformacion_lineal(image_21, 1))\n",
    "skdemo.imshow_with_histogram(transformacion_lineal(image_22, 1))\n",
    "skdemo.imshow_with_histogram(transformacion_lineal(image_23, 1))"
   ]
  },
  {
   "cell_type": "markdown",
   "metadata": {},
   "source": [
    "<div style=\"padding:10px; border-radius:10px; border:2px solid #0F7CCC;\">\n",
    "<span style=\"color:#0F7CCC\"><h3>DISMINUCIÓN DE BRILLO</h3></span>\n",
    "<span style=\"color:#0F7CCC\"><h2>Analisis y observaciones</h2></span>\n",
    "    <ul>\n",
    "        <li>Para el caso de nuestras imágenes no se hace tan relevante hacer el proceso de disminucion de brillo ya que al mirarlas se puede notar que tienen un brillo adecuado y que solo en algunas se hace necesario realizar un pequeño aumento del mismo, mas sin embargo teniendo en cuenta que el proceso debe ser el mismo para todas las imagenes optamos por hacer una transformacion lineal que tiene un efecto de aumento de brillo no muy significativo.</li>\n",
    "    </ul>\n",
    "</div>"
   ]
  },
  {
   "cell_type": "markdown",
   "metadata": {},
   "source": [
    "<div style=\"padding:10px; border-radius:10px; border:2px solid #0F7CCC;\">\n",
    "<span style=\"color:#0F7CCC\"><h3>ESTIRAMIENTO</h3></span>\n",
    "<span style=\"color:#0F7CCC\"><h2>Analisis y observaciones</h2></span>\n",
    "    <ul>\n",
    "    <li>Para el dominio y alcance de nuestra aplicacion este proceso no es relevante o aporta para las fases       posteriores.</li>\n",
    "</ul>\n",
    "</div>"
   ]
  },
  {
   "cell_type": "markdown",
   "metadata": {},
   "source": [
    "<div style=\"padding:10px; border-radius:10px; border:2px solid #0F7CCC;\">\n",
    "<span style=\"color:#0F7CCC\"><h3>NEGATIVO</h3></span>\n",
    "<span style=\"color:#0F7CCC\"><h2>Analisis y observaciones</h2></span>\n",
    "    <ul>\n",
    "        <li>Para el dominio y alcance de nuestra aplicacion este proceso no es relevante o aporta para las fases posteriores.</li>\n",
    "    </ul>\n",
    "</div>"
   ]
  },
  {
   "cell_type": "markdown",
   "metadata": {},
   "source": [
    "<div style=\"padding:10px; border-radius:10px; border:2px solid #0F7CCC;\">\n",
    "<span style=\"color:#0F7CCC\"><h3>EXPANSIÓN</h3></span>\n",
    "<span style=\"color:#0F7CCC\"><h2>Analisis y observaciones</h2></span>\n",
    "    <ul>\n",
    "        <li>Es evidente que al realizar la operación de expansion el contraste en las imagenes es mas alto</li>\n",
    "        <li>los pixeles que estaban generando picos en el histograma de la imagene original fueron redistribuidos aprupandose en el valor mayor 255</li>\n",
    "        <li>Para el dominio y alcance de nuestra aplicacion este proceso no es relevante o aporta para las fases posteriores.</li>\n",
    "    </ul>\n",
    "</div>"
   ]
  },
  {
   "cell_type": "code",
   "execution_count": null,
   "metadata": {},
   "outputs": [],
   "source": [
    "img_contraste_1 = exposure.rescale_intensity(image_1.copy(), in_range=(0, 190))\n",
    "skdemo.imshow_with_histogram(img_contraste_1);\n",
    "img_contraste_2 = exposure.rescale_intensity(image_2.copy(), in_range=(0, 190))\n",
    "skdemo.imshow_with_histogram(img_contraste_2);\n",
    "img_contraste_3 = exposure.rescale_intensity(image_3.copy(), in_range=(0, 190))\n",
    "skdemo.imshow_with_histogram(img_contraste_3);\n",
    "img_contraste_4 = exposure.rescale_intensity(image_4.copy(), in_range=(0, 190))\n",
    "skdemo.imshow_with_histogram(img_contraste_4);\n",
    "img_contraste_5 = exposure.rescale_intensity(image_5.copy(), in_range=(0, 190))\n",
    "skdemo.imshow_with_histogram(img_contraste_5);\n",
    "img_contraste_6 = exposure.rescale_intensity(image_6.copy(), in_range=(0, 190))\n",
    "skdemo.imshow_with_histogram(img_contraste_6);\n",
    "img_contraste_7 = exposure.rescale_intensity(image_7.copy(), in_range=(0, 190))\n",
    "skdemo.imshow_with_histogram(img_contraste_7);\n",
    "img_contraste_8 = exposure.rescale_intensity(image_8.copy(), in_range=(0, 190))\n",
    "skdemo.imshow_with_histogram(img_contraste_8);\n",
    "img_contraste_9 = exposure.rescale_intensity(image_9.copy(), in_range=(0, 190))\n",
    "skdemo.imshow_with_histogram(img_contraste_9);\n",
    "img_contraste_10 = exposure.rescale_intensity(image_10.copy(), in_range=(0, 190))\n",
    "skdemo.imshow_with_histogram(img_contraste_10);\n",
    "img_contraste_11 = exposure.rescale_intensity(image_11.copy(), in_range=(0, 190))\n",
    "skdemo.imshow_with_histogram(img_contraste_11);\n",
    "img_contraste_12 = exposure.rescale_intensity(image_12.copy(), in_range=(0, 190))\n",
    "skdemo.imshow_with_histogram(img_contraste_12);\n",
    "img_contraste_13 = exposure.rescale_intensity(image_13.copy(), in_range=(0, 190))\n",
    "skdemo.imshow_with_histogram(img_contraste_13);\n",
    "img_contraste_14 = exposure.rescale_intensity(image_14.copy(), in_range=(0, 190))\n",
    "skdemo.imshow_with_histogram(img_contraste_14);\n",
    "img_contraste_15 = exposure.rescale_intensity(image_15.copy(), in_range=(0, 190))\n",
    "skdemo.imshow_with_histogram(img_contraste_15);\n",
    "img_contraste_16 = exposure.rescale_intensity(image_16.copy(), in_range=(0, 190))\n",
    "skdemo.imshow_with_histogram(img_contraste_16);\n",
    "img_contraste_17 = exposure.rescale_intensity(image_17.copy(), in_range=(0, 190))\n",
    "skdemo.imshow_with_histogram(img_contraste_17);\n",
    "img_contraste_18 = exposure.rescale_intensity(image_18.copy(), in_range=(0, 190))\n",
    "skdemo.imshow_with_histogram(img_contraste_18);\n",
    "img_contraste_19 = exposure.rescale_intensity(image_19.copy(), in_range=(0, 190))\n",
    "skdemo.imshow_with_histogram(img_contraste_19);\n",
    "img_contraste_20 = exposure.rescale_intensity(image_20.copy(), in_range=(0, 190))\n",
    "skdemo.imshow_with_histogram(img_contraste_20);\n",
    "img_contraste_21 = exposure.rescale_intensity(image_21.copy(), in_range=(0, 190))\n",
    "skdemo.imshow_with_histogram(img_contraste_21);\n",
    "img_contraste_22 = exposure.rescale_intensity(image_22.copy(), in_range=(0, 190))\n",
    "skdemo.imshow_with_histogram(img_contraste_22);\n",
    "img_contraste_23 = exposure.rescale_intensity(image_23.copy(), in_range=(0, 190))\n",
    "skdemo.imshow_with_histogram(img_contraste_23);"
   ]
  },
  {
   "cell_type": "markdown",
   "metadata": {},
   "source": [
    "<div style=\"padding:10px; border-radius:10px; border:2px solid #0F7CCC;\">\n",
    "<span style=\"color:#0F7CCC\"><h3>ECUALIZACIÓN</h3></span>\n",
    "<span style=\"color:#0F7CCC\"><h2>Analisis y observaciones</h2></span>\n",
    "    <ul>\n",
    "        <li>Al realizar el proceso de ecualización se realiza una distribucion uniforme del histograma, pero se marca  mas los detalles del fondo y no tanto los de las naranjas, esto debido a la distribucion uniforme de los valores de intensidad, generando un contraste artifical alto</li>\n",
    "    </ul>\n",
    "</div>"
   ]
  },
  {
   "cell_type": "code",
   "execution_count": null,
   "metadata": {},
   "outputs": [],
   "source": [
    "img_ecualizada_1 = exposure.equalize_hist(image_1.copy())\n",
    "ax_image_1, ax_hist_1 = skdemo.imshow_with_histogram(img_ecualizada_1)\n",
    "skdemo.plot_cdf(img_ecualizada_1, ax=ax_hist_1.twinx())\n",
    "\n",
    "img_ecualizada_2 = exposure.equalize_hist(image_2.copy())\n",
    "ax_image_2, ax_hist_2 = skdemo.imshow_with_histogram(img_ecualizada_2)\n",
    "skdemo.plot_cdf(img_ecualizada_2, ax=ax_hist_2.twinx())\n",
    "\n",
    "img_ecualizada_3 = exposure.equalize_hist(image_3.copy())\n",
    "ax_image_3, ax_hist_3 = skdemo.imshow_with_histogram(img_ecualizada_3)\n",
    "skdemo.plot_cdf(img_ecualizada_3, ax=ax_hist_3.twinx())\n",
    "\n",
    "img_ecualizada_4 = exposure.equalize_hist(image_4.copy())\n",
    "ax_image_4, ax_hist_4 = skdemo.imshow_with_histogram(img_ecualizada_4)\n",
    "skdemo.plot_cdf(img_ecualizada_4, ax=ax_hist_4.twinx())\n",
    "\n",
    "img_ecualizada_5 = exposure.equalize_hist(image_5.copy())\n",
    "ax_image_5, ax_hist_5 = skdemo.imshow_with_histogram(img_ecualizada_5)\n",
    "skdemo.plot_cdf(img_ecualizada_5, ax=ax_hist_5.twinx())\n",
    "\n",
    "img_ecualizada_6 = exposure.equalize_hist(image_6.copy())\n",
    "ax_image_6, ax_hist_6 = skdemo.imshow_with_histogram(img_ecualizada_6)\n",
    "skdemo.plot_cdf(img_ecualizada_6, ax=ax_hist_6.twinx())\n",
    "\n",
    "img_ecualizada_7 = exposure.equalize_hist(image_7.copy())\n",
    "ax_image_7, ax_hist_7 = skdemo.imshow_with_histogram(img_ecualizada_7)\n",
    "skdemo.plot_cdf(img_ecualizada_7, ax=ax_hist_7.twinx())\n",
    "\n",
    "img_ecualizada_8 = exposure.equalize_hist(image_8.copy())\n",
    "ax_image_8, ax_hist_8 = skdemo.imshow_with_histogram(img_ecualizada_8)\n",
    "skdemo.plot_cdf(img_ecualizada_8, ax=ax_hist_8.twinx())\n",
    "\n",
    "img_ecualizada_9 = exposure.equalize_hist(image_9.copy())\n",
    "ax_image_9, ax_hist_9 = skdemo.imshow_with_histogram(img_ecualizada_9)\n",
    "skdemo.plot_cdf(img_ecualizada_9, ax=ax_hist_9.twinx())\n",
    "\n",
    "img_ecualizada_10 = exposure.equalize_hist(image_10.copy())\n",
    "ax_image_10, ax_hist_10 = skdemo.imshow_with_histogram(img_ecualizada_10)\n",
    "skdemo.plot_cdf(img_ecualizada_10, ax=ax_hist_10.twinx())\n",
    "\n",
    "img_ecualizada_11 = exposure.equalize_hist(image_11.copy())\n",
    "ax_image_11, ax_hist_11 = skdemo.imshow_with_histogram(img_ecualizada_11)\n",
    "skdemo.plot_cdf(img_ecualizada_11, ax=ax_hist_11.twinx())\n",
    "\n",
    "img_ecualizada_12 = exposure.equalize_hist(image_12.copy())\n",
    "ax_image_12, ax_hist_12 = skdemo.imshow_with_histogram(img_ecualizada_12)\n",
    "skdemo.plot_cdf(img_ecualizada_12, ax=ax_hist_12.twinx())\n",
    "\n"
   ]
  },
  {
   "cell_type": "markdown",
   "metadata": {},
   "source": [
    "<div style=\"padding:10px; border-radius:10px; border:2px solid #0F7CCC;\">\n",
    "<span style=\"color:#0F7CCC\"><h3>ECUALIZACIÓN ADAPTATIVA</h3></span>\n",
    "<span style=\"color:#0F7CCC\"><h2>Analisis y observaciones</h2></span>\n",
    "    <ul>\n",
    "        <li>Con la ecualización adaptativa es evidente el mejoramiento en el contraste de la imagen de manera general e incluso los detalles en las naranjas son mas notorios</li>\n",
    "        <li>Con estas imagenes podemos trabajar comodamente ya que al tener una completa ecualizacion de ellas, se puede observar en detalle la textura y los defectos en la piel de la fruta, lo que nos puede facilitar el proceso de segmentacion de los defectos, que es lo que se busca con este sistema de vision.</li>\n",
    "    </ul>\n",
    "</div>"
   ]
  },
  {
   "cell_type": "code",
   "execution_count": null,
   "metadata": {},
   "outputs": [],
   "source": [
    "brigth_image_enhanced_1 = transformacion_lineal(image_1, 1)\n",
    "img_ecualizada_ad_1 = exposure.equalize_adapthist(brigth_image_enhanced_1.copy())\n",
    "ax_image_1, ax_hist_1 = skdemo.imshow_with_histogram(img_ecualizada_ad_1)\n",
    "skdemo.plot_cdf(img_ecualizada_ad_1, ax=ax_hist_1.twinx())\n",
    "\n",
    "brigth_image_enhanced_2 = transformacion_lineal(image_2, 1)\n",
    "img_ecualizada_ad_2 = exposure.equalize_adapthist(brigth_image_enhanced_2.copy())\n",
    "ax_image_2, ax_hist_2 = skdemo.imshow_with_histogram(img_ecualizada_ad_2)\n",
    "skdemo.plot_cdf(img_ecualizada_ad_2, ax=ax_hist_2.twinx())\n",
    "\n",
    "brigth_image_enhanced_3 = transformacion_lineal(image_3, 1)\n",
    "img_ecualizada_ad_3 = exposure.equalize_adapthist(brigth_image_enhanced_3.copy())\n",
    "ax_image_3, ax_hist_3 = skdemo.imshow_with_histogram(img_ecualizada_ad_3)\n",
    "skdemo.plot_cdf(img_ecualizada_ad_3, ax=ax_hist_3.twinx())\n",
    "\n",
    "brigth_image_enhanced_4 = transformacion_lineal(image_4, 1)\n",
    "img_ecualizada_ad_4 = exposure.equalize_adapthist(brigth_image_enhanced_4.copy())\n",
    "ax_image_4, ax_hist_4 = skdemo.imshow_with_histogram(img_ecualizada_ad_4)\n",
    "skdemo.plot_cdf(img_ecualizada_ad_4, ax=ax_hist_4.twinx())\n",
    "\n",
    "brigth_image_enhanced_5 = transformacion_lineal(image_5, 1)\n",
    "img_ecualizada_ad_5 = exposure.equalize_adapthist(brigth_image_enhanced_5.copy())\n",
    "ax_image_5, ax_hist_5 = skdemo.imshow_with_histogram(img_ecualizada_ad_5)\n",
    "skdemo.plot_cdf(img_ecualizada_ad_5, ax=ax_hist_5.twinx())\n",
    "\n",
    "brigth_image_enhanced_6 = transformacion_lineal(image_6, 1)\n",
    "img_ecualizada_ad_6 = exposure.equalize_adapthist(brigth_image_enhanced_6.copy())\n",
    "ax_image_6, ax_hist_6 = skdemo.imshow_with_histogram(img_ecualizada_ad_6)\n",
    "skdemo.plot_cdf(img_ecualizada_ad_6, ax=ax_hist_6.twinx())\n",
    "\n",
    "brigth_image_enhanced_7 = transformacion_lineal(image_7, 1)\n",
    "img_ecualizada_ad_7 = exposure.equalize_adapthist(brigth_image_enhanced_7.copy())\n",
    "ax_image_7, ax_hist_7 = skdemo.imshow_with_histogram(img_ecualizada_ad_7)\n",
    "skdemo.plot_cdf(img_ecualizada_ad_7, ax=ax_hist_7.twinx())\n",
    "\n",
    "img_ecualizada_ad_8 = exposure.equalize_adapthist(image_8.copy())\n",
    "ax_image_8, ax_hist_8 = skdemo.imshow_with_histogram(img_ecualizada_ad_8)\n",
    "skdemo.plot_cdf(img_ecualizada_ad_8, ax=ax_hist_8.twinx())\n",
    "\n",
    "img_ecualizada_ad_9 = exposure.equalize_adapthist(image_9.copy())\n",
    "ax_image_9, ax_hist_9 = skdemo.imshow_with_histogram(img_ecualizada_ad_9)\n",
    "skdemo.plot_cdf(img_ecualizada_ad_9, ax=ax_hist_9.twinx())\n",
    "\n",
    "img_ecualizada_ad_10 = exposure.equalize_adapthist(image_10.copy())\n",
    "ax_image_10, ax_hist_10 = skdemo.imshow_with_histogram(img_ecualizada_ad_10)\n",
    "skdemo.plot_cdf(img_ecualizada_ad_10, ax=ax_hist_10.twinx())\n",
    "\n",
    "img_ecualizada_ad_11 = exposure.equalize_adapthist(image_11.copy())\n",
    "ax_image_11, ax_hist_11 = skdemo.imshow_with_histogram(img_ecualizada_ad_11)\n",
    "skdemo.plot_cdf(img_ecualizada_ad_11, ax=ax_hist_11.twinx())\n",
    "\n",
    "img_ecualizada_ad_12 = exposure.equalize_adapthist(image_12.copy())\n",
    "ax_image_12, ax_hist_12 = skdemo.imshow_with_histogram(img_ecualizada_ad_12)\n",
    "skdemo.plot_cdf(img_ecualizada_ad_12, ax=ax_hist_12.twinx())\n"
   ]
  },
  {
   "cell_type": "code",
   "execution_count": null,
   "metadata": {},
   "outputs": [],
   "source": [
    "img_ecualizada_ad_13 = exposure.equalize_adapthist(image_13.copy())\n",
    "ax_image_13, ax_hist_13 = skdemo.imshow_with_histogram(img_ecualizada_ad_13)\n",
    "skdemo.plot_cdf(img_ecualizada_ad_13, ax=ax_hist_13.twinx())\n",
    "\n",
    "img_ecualizada_ad_14 = exposure.equalize_adapthist(image_14.copy())\n",
    "ax_image_14, ax_hist_14 = skdemo.imshow_with_histogram(img_ecualizada_ad_14)\n",
    "skdemo.plot_cdf(img_ecualizada_ad_14, ax=ax_hist_14.twinx())\n",
    "\n",
    "img_ecualizada_ad_15 = exposure.equalize_adapthist(image_15.copy())\n",
    "ax_image_15, ax_hist_15 = skdemo.imshow_with_histogram(img_ecualizada_ad_15)\n",
    "skdemo.plot_cdf(img_ecualizada_ad_15, ax=ax_hist_15.twinx())\n",
    "\n",
    "img_ecualizada_ad_16 = exposure.equalize_adapthist(image_16.copy())\n",
    "ax_image_16, ax_hist_16 = skdemo.imshow_with_histogram(img_ecualizada_ad_16)\n",
    "skdemo.plot_cdf(img_ecualizada_ad_16, ax=ax_hist_16.twinx())\n",
    "\n",
    "img_ecualizada_ad_17 = exposure.equalize_adapthist(image_17.copy())\n",
    "ax_image_17, ax_hist_17 = skdemo.imshow_with_histogram(img_ecualizada_ad_17)\n",
    "skdemo.plot_cdf(img_ecualizada_ad_17, ax=ax_hist_17.twinx())\n",
    "\n",
    "img_ecualizada_ad_18 = exposure.equalize_adapthist(image_18.copy())\n",
    "ax_image_18, ax_hist_18 = skdemo.imshow_with_histogram(img_ecualizada_ad_18)\n",
    "skdemo.plot_cdf(img_ecualizada_ad_18, ax=ax_hist_18.twinx())\n",
    "\n",
    "img_ecualizada_ad_19 = exposure.equalize_adapthist(image_19.copy())\n",
    "ax_image_19, ax_hist_19 = skdemo.imshow_with_histogram(img_ecualizada_ad_19)\n",
    "skdemo.plot_cdf(img_ecualizada_ad_19, ax=ax_hist_19.twinx())\n",
    "\n",
    "img_ecualizada_ad_20 = exposure.equalize_adapthist(image_20.copy())\n",
    "ax_image_20, ax_hist_20 = skdemo.imshow_with_histogram(img_ecualizada_ad_20)\n",
    "skdemo.plot_cdf(img_ecualizada_ad_20, ax=ax_hist_20.twinx())\n",
    "\n",
    "img_ecualizada_ad_21 = exposure.equalize_adapthist(image_21.copy())\n",
    "ax_image_21, ax_hist_21 = skdemo.imshow_with_histogram(img_ecualizada_ad_21)\n",
    "skdemo.plot_cdf(img_ecualizada_ad_21, ax=ax_hist_21.twinx())\n",
    "\n",
    "img_ecualizada_ad_22 = exposure.equalize_adapthist(image_22.copy())\n",
    "ax_image_22, ax_hist_22 = skdemo.imshow_with_histogram(img_ecualizada_ad_22)\n",
    "skdemo.plot_cdf(img_ecualizada_ad_22, ax=ax_hist_22.twinx())\n",
    "\n",
    "img_ecualizada_ad_23 = exposure.equalize_adapthist(image_23.copy())\n",
    "ax_image_23, ax_hist_23 = skdemo.imshow_with_histogram(img_ecualizada_ad_23)\n",
    "skdemo.plot_cdf(img_ecualizada_ad_23, ax=ax_hist_23.twinx())"
   ]
  },
  {
   "cell_type": "markdown",
   "metadata": {},
   "source": [
    "<div style=\"padding:10px; border-radius:10px; border:2px solid #0F7CCC;\">\n",
    "<span style=\"color:#0F7CCC\"><h3>FILTROS DE SUAVIZADO</h3></span>\n",
    "<span style=\"color:#0F7CCC\"><h2>Filtro de Suavizado Promedio</h2></span>\n",
    "    <ul>\n",
    "        <li>Entre mayor sea el Kernel de convolución la textura de las naranjas se hace mas suave y pierde detalles</li>\n",
    "        <li>En las imagenes 23,20,19 al realizar el filtro promedio se logra resaltar sus imperfecciones debido a que el ruido al rededor de estas se disminuye y sobresale el defecto</li>\n",
    "        <li>aparentemente este tipo de filtros resulta util cuando la naranja tiene defectos de forma en su textura, pero no es tan util para detectar manchas en la piel de la fruta ya que al suavizarla este tipo de detalles se atenua</li>\n",
    "    </ul>\n",
    "</div>"
   ]
  },
  {
   "cell_type": "code",
   "execution_count": null,
   "metadata": {},
   "outputs": [],
   "source": [
    "# Cargamos una de las imágenes en niveles de gris\n",
    "image_1_gray = color.rgb2gray(image_1.copy())\n",
    "# Aplicamos el filtro promedio de 5x5 usando skimage\n",
    "avg_1 = filters.rank.mean(image_1_gray.copy(), np.ones((11,11)))\n",
    "\n",
    "print(\"Type of image is {}\".format(image_3.dtype))\n",
    "\n",
    "image_2_gray = color.rgb2gray(image_2.copy())\n",
    "avg_2 = filters.rank.mean(image_2_gray.copy(), np.ones((11,11)))\n",
    "image_3_gray = color.rgb2gray(image_3.copy())\n",
    "avg_3 = filters.rank.mean(image_3_gray.copy(), np.ones((11,11)))\n",
    "image_4_gray = color.rgb2gray(image_4.copy())\n",
    "avg_4 = filters.rank.mean(image_4_gray.copy(), np.ones((11,11)))\n",
    "\n",
    "\n",
    "f, plots = plt.subplots(4, 2, figsize=(20, 17))\n",
    "for (plts,org,mean) in zip(plots,[image_1_gray,image_2_gray,image_3_gray,image_4_gray],[avg_1,avg_2,avg_3,avg_4]):\n",
    "    plts[0].imshow(org)\n",
    "    plts[0].set_title('Original',fontsize=16)\n",
    "    plts[1].imshow(mean)\n",
    "    plts[1].set_title('Promedio',fontsize=16)\n",
    "    \n",
    "image_5_gray = color.rgb2gray(image_5.copy())\n",
    "avg_5 = filters.rank.mean(image_5_gray.copy(), np.ones((11,11)))\n",
    "image_6_gray = color.rgb2gray(image_6.copy())\n",
    "avg_6 = filters.rank.mean(image_6_gray.copy(), np.ones((11,11)))\n",
    "image_7_gray = color.rgb2gray(image_7.copy())\n",
    "avg_7 = filters.rank.mean(image_7_gray.copy(), np.ones((11,11)))\n",
    "image_8_gray = color.rgb2gray(image_8.copy())\n",
    "avg_8 = filters.rank.mean(image_8_gray.copy(), np.ones((11,11)))\n",
    "\n",
    "f, plots = plt.subplots(4, 2, figsize=(20, 17))\n",
    "for (plts,org,mean) in zip(plots,[image_5_gray,image_6_gray,image_7_gray,image_8_gray],[avg_5,avg_6,avg_7,avg_8]):\n",
    "    plts[0].imshow(org)\n",
    "    plts[0].set_title('Original',fontsize=16)\n",
    "    plts[1].imshow(mean)\n",
    "    plts[1].set_title('Promedio',fontsize=16)\n",
    "    \n",
    "image_9_gray = color.rgb2gray(image_9.copy())\n",
    "avg_9 = filters.rank.mean(image_9_gray.copy(), np.ones((11,11)))\n",
    "image_10_gray = color.rgb2gray(image_10.copy())\n",
    "avg_10 = filters.rank.mean(image_10_gray.copy(), np.ones((11,11)))\n",
    "image_11_gray = color.rgb2gray(image_11.copy())\n",
    "avg_11 = filters.rank.mean(image_11_gray.copy(), np.ones((11,11)))\n",
    "image_12_gray = color.rgb2gray(image_12.copy())\n",
    "avg_12 = filters.rank.mean(image_12_gray.copy(), np.ones((11,11)))\n",
    "\n",
    "f, plots = plt.subplots(4, 2, figsize=(20, 17))\n",
    "for (plts,org,mean) in zip(plots,[image_9_gray,image_10_gray,image_11_gray,image_12_gray],[avg_9,avg_10,avg_11,avg_12]):\n",
    "    plts[0].imshow(org)\n",
    "    plts[0].set_title('Original',fontsize=16)\n",
    "    plts[1].imshow(mean)\n",
    "    plts[1].set_title('Promedio',fontsize=16)\n",
    "    \n",
    "    \n",
    "image_13_gray = color.rgb2gray(image_13.copy())\n",
    "avg_13 = filters.rank.mean(image_13_gray.copy(), np.ones((11,11)))\n",
    "image_14_gray = color.rgb2gray(image_14.copy())\n",
    "avg_14 = filters.rank.mean(image_14_gray.copy(), np.ones((11,11)))\n",
    "image_15_gray = color.rgb2gray(image_15.copy())\n",
    "avg_15 = filters.rank.mean(image_15_gray.copy(), np.ones((11,11)))\n",
    "image_16_gray = color.rgb2gray(image_16.copy())\n",
    "avg_16 = filters.rank.mean(image_16_gray.copy(), np.ones((11,11)))\n",
    "\n",
    "f, plots = plt.subplots(4, 2, figsize=(20, 17))\n",
    "for (plts,org,mean) in zip(plots,[image_13_gray,image_14_gray,image_15_gray,image_16_gray],[avg_13,avg_14,avg_15,avg_16]):\n",
    "    plts[0].imshow(org)\n",
    "    plts[0].set_title('Original',fontsize=16)\n",
    "    plts[1].imshow(mean)\n",
    "    plts[1].set_title('Promedio',fontsize=16)\n",
    "    \n",
    "    \n",
    "image_17_gray = color.rgb2gray(image_17.copy())\n",
    "avg_17 = filters.rank.mean(image_17_gray.copy(), np.ones((11,11)))\n",
    "image_18_gray = color.rgb2gray(image_18.copy())\n",
    "avg_18 = filters.rank.mean(image_18_gray.copy(), np.ones((11,11)))\n",
    "image_19_gray = color.rgb2gray(image_19.copy())\n",
    "avg_19 = filters.rank.mean(image_19_gray.copy(), np.ones((11,11)))\n",
    "image_20_gray = color.rgb2gray(image_20.copy())\n",
    "avg_20 = filters.rank.mean(image_20_gray.copy(), np.ones((11,11)))\n",
    "\n",
    "f, plots = plt.subplots(4, 2, figsize=(20, 17))\n",
    "for (plts,org,mean) in zip(plots,[image_17_gray,image_18_gray,image_19_gray,image_20_gray],[avg_17,avg_18,avg_19,avg_20]):\n",
    "    plts[0].imshow(org)\n",
    "    plts[0].set_title('Original',fontsize=16)\n",
    "    plts[1].imshow(mean)\n",
    "    plts[1].set_title('Promedio',fontsize=16)\n",
    "    \n",
    "    \n",
    "image_21_gray = color.rgb2gray(image_21.copy())\n",
    "avg_21 = filters.rank.mean(image_21_gray.copy(), np.ones((11,11)))\n",
    "image_22_gray = color.rgb2gray(image_22.copy())\n",
    "avg_22 = filters.rank.mean(image_22_gray.copy(), np.ones((11,11)))\n",
    "image_23_gray = color.rgb2gray(image_23.copy())\n",
    "avg_23 = filters.rank.mean(image_23_gray.copy(), np.ones((11,11)))\n",
    "\n",
    "f, plots = plt.subplots(3, 2, figsize=(20, 17))\n",
    "for (plts,org,mean) in zip(plots,[image_21_gray,image_22_gray,image_23_gray],[avg_21,avg_22,avg_23]):\n",
    "    plts[0].imshow(org)\n",
    "    plts[0].set_title('Original',fontsize=16)\n",
    "    plts[1].imshow(mean)\n",
    "    plts[1].set_title('Promedio',fontsize=16)\n",
    "   "
   ]
  },
  {
   "cell_type": "markdown",
   "metadata": {},
   "source": [
    "<div style=\"padding:10px; border-radius:10px; border:2px solid #0F7CCC;\">\n",
    "<span style=\"color:#0F7CCC\"><h3>FILTROS DE SUAVIZADO</h3></span>\n",
    "<span style=\"color:#0F7CCC\"><h2>Filtro Gaussinao</h2></span>\n",
    "    <ul>\n",
    "        <li>Se utiliza un 𝜎 con diferentes valores dado que a mayor sea este mas suavizada sera la imagen y viceversa para verificar su comportamiento, nuevamente se observa que la textura de las naranjas es suavizada perdiendo los detalles de manchas y defectos en la piel, y solo en algunas imagenes como en la 23 y 20 estos defectos se ven mas nitidos.</li>\n",
    "    </ul>\n",
    "</div>"
   ]
  },
  {
   "cell_type": "code",
   "execution_count": null,
   "metadata": {},
   "outputs": [],
   "source": [
    "gauss_1 = filters.gaussian(image_1_gray.copy(), sigma=3.0)\n",
    "gauss_2 = filters.gaussian(image_2_gray.copy(), sigma=3.0)\n",
    "gauss_3 = filters.gaussian(image_3_gray.copy(), sigma=3.0)\n",
    "gauss_4 = filters.gaussian(image_4_gray.copy(), sigma=3.0)\n",
    "\n",
    "f, plots = plt.subplots(4, 2, figsize=(20, 17))\n",
    "for (plts,org,gaussian) in zip(plots,[image_1_gray,image_2_gray,image_3_gray,image_4_gray],[gauss_1,gauss_2,gauss_3, gauss_4]):\n",
    "    plts[0].imshow(org)\n",
    "    plts[0].set_title('Original',fontsize=16)\n",
    "    plts[1].imshow(gaussian)\n",
    "    plts[1].set_title('Gaussiano',fontsize=16)\n",
    "    \n",
    "gauss_5 = filters.gaussian(image_5_gray.copy(), sigma=3.0)\n",
    "gauss_6 = filters.gaussian(image_6_gray.copy(), sigma=3.0)\n",
    "gauss_7 = filters.gaussian(image_7_gray.copy(), sigma=3.0)\n",
    "gauss_8 = filters.gaussian(image_8_gray.copy(), sigma=3.0)\n",
    "\n",
    "f, plots = plt.subplots(4, 2, figsize=(20, 17))\n",
    "for (plts,org,gaussian) in zip(plots,[image_5_gray,image_6_gray,image_7_gray,image_8_gray],[gauss_5,gauss_6,gauss_7, gauss_8]):\n",
    "    plts[0].imshow(org)\n",
    "    plts[0].set_title('Original',fontsize=16)\n",
    "    plts[1].imshow(gaussian)\n",
    "    plts[1].set_title('Gaussiano',fontsize=16)\n",
    "    \n",
    "gauss_9 = filters.gaussian(image_9_gray.copy(), sigma=3.0)\n",
    "gauss_10 = filters.gaussian(image_10_gray.copy(), sigma=3.0)\n",
    "gauss_11 = filters.gaussian(image_11_gray.copy(), sigma=3.0)\n",
    "gauss_12 = filters.gaussian(image_12_gray.copy(), sigma=3.0)\n",
    "\n",
    "f, plots = plt.subplots(4, 2, figsize=(20, 17))\n",
    "for (plts,org,gaussian) in zip(plots,[image_9_gray,image_10_gray,image_11_gray,image_12_gray],[gauss_9,gauss_10,gauss_11, gauss_12]):\n",
    "    plts[0].imshow(org)\n",
    "    plts[0].set_title('Original',fontsize=16)\n",
    "    plts[1].imshow(gaussian)\n",
    "    plts[1].set_title('Gaussiano',fontsize=16)\n",
    "    \n",
    "gauss_13 = filters.gaussian(image_13_gray.copy(), sigma=3.0)\n",
    "gauss_14 = filters.gaussian(image_14_gray.copy(), sigma=3.0)\n",
    "gauss_15 = filters.gaussian(image_15_gray.copy(), sigma=3.0)\n",
    "gauss_16 = filters.gaussian(image_16_gray.copy(), sigma=3.0)\n",
    "\n",
    "f, plots = plt.subplots(4, 2, figsize=(20, 17))\n",
    "for (plts,org,gaussian) in zip(plots,[image_13_gray,image_14_gray,image_15_gray,image_16_gray],[gauss_13,gauss_14,gauss_15, gauss_16]):\n",
    "    plts[0].imshow(org)\n",
    "    plts[0].set_title('Original',fontsize=16)\n",
    "    plts[1].imshow(gaussian)\n",
    "    plts[1].set_title('Gaussiano',fontsize=16)\n",
    "    \n",
    "gauss_17 = filters.gaussian(image_17_gray.copy(), sigma=3.0)\n",
    "gauss_18 = filters.gaussian(image_18_gray.copy(), sigma=3.0)\n",
    "gauss_19 = filters.gaussian(image_19_gray.copy(), sigma=3.0)\n",
    "gauss_20 = filters.gaussian(image_20_gray.copy(), sigma=3.0)\n",
    "\n",
    "f, plots = plt.subplots(4, 2, figsize=(20, 17))\n",
    "for (plts,org,gaussian) in zip(plots,[image_17_gray,image_18_gray,image_19_gray,image_20_gray],[gauss_17,gauss_18,gauss_19, gauss_20]):\n",
    "    plts[0].imshow(org)\n",
    "    plts[0].set_title('Original',fontsize=16)\n",
    "    plts[1].imshow(gaussian)\n",
    "    plts[1].set_title('Gaussiano',fontsize=16)\n",
    "    \n",
    "gauss_21 = filters.gaussian(image_21_gray.copy(), sigma=3.0)\n",
    "gauss_22 = filters.gaussian(image_22_gray.copy(), sigma=3.0)\n",
    "gauss_23 = filters.gaussian(image_23_gray.copy(), sigma=3.0)\n",
    "\n",
    "\n",
    "f, plots = plt.subplots(3, 2, figsize=(20, 17))\n",
    "for (plts,org,gaussian) in zip(plots,[image_21_gray,image_22_gray,image_23_gray],[gauss_21,gauss_22,gauss_23]):\n",
    "    plts[0].imshow(org)\n",
    "    plts[0].set_title('Original',fontsize=16)\n",
    "    plts[1].imshow(gaussian)\n",
    "    plts[1].set_title('Gaussiano',fontsize=16)"
   ]
  },
  {
   "cell_type": "markdown",
   "metadata": {},
   "source": [
    "<div style=\"padding:10px; border-radius:10px; border:2px solid #0F7CCC;\">\n",
    "<span style=\"color:#0F7CCC\"><h3>FILTROS DE REALZADO</h3></span>\n",
    "<span style=\"color:#0F7CCC\"><h2>Máscara Unsharp</h2></span>\n",
    "    <ul>\n",
    "        <li>Teniendo en cuenta que este filtro es usado para resaltar bordes en la imagen, se realiza en todas las imagenes para lograr identificar o realzar los defectos en la fruta, al analizar la imagen realzada podemos notar que los defectos como manchas, fisuras y cortes se ven mucho mas claras.</li>\n",
    "        <li>IMPORTANTE: hacer contraste con los resultados despues de aplicar Canny, sobel, robert y todos estos metodos de extraccion de bordes.</li>\n",
    "    </ul>\n",
    "</div>"
   ]
  },
  {
   "cell_type": "code",
   "execution_count": null,
   "metadata": {},
   "outputs": [],
   "source": [
    "def mascara_Unsharp(img):\n",
    "    out_Un = img.copy()\n",
    "    # Cambiamos la representación de la imagen a real:\n",
    "    out_Un= skimage.img_as_float64(img)\n",
    "    radius = 3 # Radio del filtro gaussiano \n",
    "    amount = 2 # Cantidad de veces que se suman los bordes a la imagen original\n",
    "    # Como la imagen es a color, el proceso debe hacerse en cada canal\n",
    "    b_R = filters.gaussian(out_Un[:,:,0], sigma=radius, mode='reflect')\n",
    "    R = out_Un[:,:,0] + (out_Un[:,:,0] - b_R) * amount\n",
    "\n",
    "    b_G = filters.gaussian(out_Un[:,:,1], sigma=radius, mode='reflect')\n",
    "    G = out_Un[:,:,1] + (out_Un[:,:,1] - b_G) * amount\n",
    "\n",
    "    b_B = filters.gaussian(out_Un[:,:,2], sigma=radius, mode='reflect')\n",
    "    B = out_Un[:,:,2] + (out_Un[:,:,2] - b_B) * amount\n",
    "    # La función np.clip corrige los valores de la imagen para que queden en el rango adecuado [0, 1]\n",
    "    out_unsharp = np.zeros(out_Un.shape)\n",
    "    out_unsharp[:,:,0] = np.clip(R, 0, 1)\n",
    "    out_unsharp[:,:,1] = np.clip(G, 0, 1)\n",
    "    out_unsharp[:,:,2] = np.clip(B, 0, 1)\n",
    "    # Recuerde que el borde es: original - suavizada\n",
    "    # Además, para visualizar los bordes sumamos el valor 0.5 (o 128 en imágenes uint8) a esos bordes\n",
    "    edges = np.zeros(out_Un.shape)\n",
    "    edges[:,:,0] = np.clip(out_Un[:,:,0] - b_R, 0, 1)+0.5\n",
    "    edges[:,:,1] = np.clip(out_Un[:,:,1] - b_G, 0, 1)+0.5\n",
    "    edges[:,:,2] = np.clip(out_Un[:,:,2] - b_B, 0, 1)+0.5\n",
    "    \n",
    "    return out_Un, edges, out_unsharp\n"
   ]
  },
  {
   "cell_type": "code",
   "execution_count": null,
   "metadata": {},
   "outputs": [],
   "source": [
    "original_5, bordes_5, realzada_5 = mascara_Unsharp(image_5.copy())\n",
    "original_6, bordes_6, realzada_6 = mascara_Unsharp(image_6.copy())\n",
    "original_8, bordes_8, realzada_8 = mascara_Unsharp(image_8.copy())\n",
    "\n",
    "\n",
    "f, plots = plt.subplots(3, 3, figsize=(20, 17))\n",
    "for (plts,org,bordes, realzada) in zip(plots,[original_5,original_6,original_8],[bordes_5,bordes_6,bordes_8],[realzada_5,realzada_6,realzada_8]):\n",
    "    plts[0].imshow(org)\n",
    "    plts[0].set_title('Original',fontsize=16)\n",
    "    plts[1].imshow(bordes)\n",
    "    plts[1].set_title('Bordes',fontsize=16)\n",
    "    plts[2].imshow(realzada)\n",
    "    plts[2].set_title('Realzada',fontsize=16)\n",
    "    \n",
    "original_16, bordes_16, realzada_16 = mascara_Unsharp(image_16.copy())\n",
    "original_18, bordes_18, realzada_18 = mascara_Unsharp(image_18.copy())\n",
    "original_20, bordes_20, realzada_20 = mascara_Unsharp(image_20.copy())\n",
    "\n",
    "\n",
    "f, plots = plt.subplots(3, 3, figsize=(20, 17))\n",
    "for (plts,org,bordes, realzada) in zip(plots,[original_16,original_18,original_20],[bordes_16,bordes_18,bordes_20],[realzada_16,realzada_18,realzada_20]):\n",
    "    plts[0].imshow(org)\n",
    "    plts[0].set_title('Original',fontsize=16)\n",
    "    plts[1].imshow(bordes)\n",
    "    plts[1].set_title('Bordes',fontsize=16)\n",
    "    plts[2].imshow(realzada)\n",
    "    plts[2].set_title('Realzada',fontsize=16)"
   ]
  },
  {
   "cell_type": "markdown",
   "metadata": {},
   "source": [
    "<div style=\"padding:10px; border-radius:10px; border:2px solid #0F7CCC;\">\n",
    "<span style=\"color:#0F7CCC\"><h3>FILTROS DE REALZADO</h3></span>\n",
    "<span style=\"color:#0F7CCC\"><h2>Filtro Laplaciano</h2></span>\n",
    "    <ul>\n",
    "        <li>La aplicación de este filtro no es muy significativa para nuestro objetivo, ya que al ser un filtro tan sensible a la presencia de ruido genera en las imágenes distorsión y confusión entre los detalles de interés en las naranjas y el ruido generado</li>\n",
    "    </ul>\n",
    "</div>"
   ]
  },
  {
   "cell_type": "code",
   "execution_count": null,
   "metadata": {},
   "outputs": [],
   "source": [
    "def Filtro_Laplaciano(img):\n",
    "\n",
    "    # Trabejemos ahora solo con un solo canal\n",
    "    img_gray = color.rgb2gray(img)\n",
    "\n",
    "    # Aplicamos el operador laplaciano usando la función de skimage\n",
    "    img_lp1 = filters.laplace(img_gray)\n",
    "    img_1 = np.clip(img_gray + img_lp1, 0, 1)\n",
    "\n",
    "    # Este kernel es el mismo usado en la función filters.laplace\n",
    "    k1 = np.array([[0, -1, 0], \n",
    "                   [-1, 4, -1], \n",
    "                   [0, -1, 0]])\n",
    "\n",
    "    img_lp2 = ndimage.convolve(img_gray, k1)\n",
    "    img_2 = np.clip(img_gray + img_lp2, 0, 1)\n",
    "\n",
    "    k2 = np.array([[-1, -1, -1], \n",
    "                   [-1, 8, -1], \n",
    "                   [-1, -1, -1]])\n",
    "\n",
    "    img_lp3 = ndimage.convolve(img_gray, k2)\n",
    "    img_3 = np.clip(img_gray + img_lp3, 0, 1)\n",
    "    \n",
    "    return img_lp1, img_lp2, img_lp3, img_1, img_2, img_3"
   ]
  },
  {
   "cell_type": "code",
   "execution_count": null,
   "metadata": {},
   "outputs": [],
   "source": [
    "Laplaciano_skimage_5, Laplaciano4_5, Laplacinao8_5, Imagen_Realzada_skimage_5, Imagen_Realzada_Lap4_5, Imagen_Realzada_Lap8_5  = Filtro_Laplaciano(image_5.copy())\n",
    "Laplaciano_skimage_6, Laplaciano4_6, Laplacinao8_6, Imagen_Realzada_skimage_6, Imagen_Realzada_Lap4_6, Imagen_Realzada_Lap8_6  = Filtro_Laplaciano(image_6.copy())\n",
    "Laplaciano_skimage_8, Laplaciano4_8, Laplacinao8_8, Imagen_Realzada_skimage_8, Imagen_Realzada_Lap4_8, Imagen_Realzada_Lap8_8  = Filtro_Laplaciano(image_8.copy())\n",
    "\n",
    "List_Laplaciano_skimage_1 = [Laplaciano_skimage_5,Laplaciano_skimage_6,Laplaciano_skimage_8]\n",
    "List_Laplaciano4_1 = [Laplaciano4_5,Laplaciano4_6,Laplaciano4_8]\n",
    "List_Laplacinao8_1 = [Laplacinao8_5,Laplacinao8_6,Laplacinao8_8]\n",
    "List_realzada_skimage_1 = [Imagen_Realzada_skimage_5,Imagen_Realzada_skimage_6,Imagen_Realzada_skimage_8]\n",
    "List_Realzada_Lap4_1 = [Imagen_Realzada_Lap4_5,Imagen_Realzada_Lap4_6,Imagen_Realzada_Lap4_8]\n",
    "List_Realzada_Lap8_1 = [Imagen_Realzada_Lap8_5,Imagen_Realzada_Lap8_6,Imagen_Realzada_Lap8_8]\n",
    "\n",
    "\n",
    "f, plots = plt.subplots(3, 6, figsize=(20, 17))\n",
    "for (plts,lp_Skimage,lp_4, lp_8,realzada_Skimage,realzada_lp_4, realzada_lp_8) in zip(plots,List_Laplaciano_skimage_1,List_Laplaciano4_1,List_Laplacinao8_1, List_realzada_skimage_1, List_Realzada_Lap4_1, List_Realzada_Lap8_1):\n",
    "    plts[0].imshow(lp_Skimage)\n",
    "    plts[0].set_title('Laplaciano skimage',fontsize=16)\n",
    "    plts[1].imshow(lp_4)\n",
    "    plts[1].set_title('Laplaciano 4',fontsize=16)\n",
    "    plts[2].imshow(lp_8)\n",
    "    plts[2].set_title('Laplacinao 8',fontsize=16)\n",
    "    plts[3].imshow(realzada_Skimage)\n",
    "    plts[3].set_title('Realzada skimage',fontsize=16)\n",
    "    plts[4].imshow(realzada_lp_4)\n",
    "    plts[4].set_title('Realzada Lap 4',fontsize=16)\n",
    "    plts[5].imshow(realzada_lp_8)\n",
    "    plts[5].set_title('Realzada Lap 8',fontsize=16)\n",
    "\n",
    "    \n",
    "Laplaciano_skimage_16, Laplaciano4_16, Laplacinao8_16, Imagen_Realzada_skimage_16, Imagen_Realzada_Lap4_16, Imagen_Realzada_Lap8_16  = Filtro_Laplaciano(image_16.copy())\n",
    "Laplaciano_skimage_18, Laplaciano4_18, Laplacinao8_18, Imagen_Realzada_skimage_18, Imagen_Realzada_Lap4_18, Imagen_Realzada_Lap8_18  = Filtro_Laplaciano(image_18.copy())\n",
    "Laplaciano_skimage_20, Laplaciano4_20, Laplacinao8_20, Imagen_Realzada_skimage_20, Imagen_Realzada_Lap4_20, Imagen_Realzada_Lap8_20  = Filtro_Laplaciano(image_20.copy())\n",
    "\n",
    "List_Laplaciano_skimage_2 = [Laplaciano_skimage_16,Laplaciano_skimage_18,Laplaciano_skimage_20]\n",
    "List_Laplaciano4_2 = [Laplaciano4_16,Laplaciano4_18,Laplaciano4_20]\n",
    "List_Laplacinao8_2 = [Laplacinao8_16,Laplacinao8_18,Laplacinao8_20]\n",
    "List_realzada_skimage_2 = [Imagen_Realzada_skimage_16,Imagen_Realzada_skimage_18,Imagen_Realzada_skimage_20]\n",
    "List_Realzada_Lap4_2 = [Imagen_Realzada_Lap4_16,Imagen_Realzada_Lap4_18,Imagen_Realzada_Lap4_20]\n",
    "List_Realzada_Lap8_2 = [Imagen_Realzada_Lap8_16,Imagen_Realzada_Lap8_18,Imagen_Realzada_Lap8_20]\n",
    "\n",
    "\n",
    "f, plots = plt.subplots(3, 6, figsize=(20, 17))\n",
    "for (plts,lp_Skimage,lp_4, lp_8,realzada_Skimage,realzada_lp_4, realzada_lp_8) in zip(plots,List_Laplaciano_skimage_2,List_Laplaciano4_2,List_Laplacinao8_2, List_realzada_skimage_2, List_Realzada_Lap4_2, List_Realzada_Lap8_2):\n",
    "    plts[0].imshow(lp_Skimage)\n",
    "    plts[0].set_title('Laplaciano skimage',fontsize=16)\n",
    "    plts[1].imshow(lp_4)\n",
    "    plts[1].set_title('Laplaciano 4',fontsize=16)\n",
    "    plts[2].imshow(lp_8)\n",
    "    plts[2].set_title('Laplacinao 8',fontsize=16)\n",
    "    plts[3].imshow(realzada_Skimage)\n",
    "    plts[3].set_title('Realzada skimage',fontsize=16)\n",
    "    plts[4].imshow(realzada_lp_4)\n",
    "    plts[4].set_title('Realzada Lap 4',fontsize=16)\n",
    "    plts[5].imshow(realzada_lp_8)\n",
    "    plts[5].set_title('Realzada Lap 8',fontsize=16)"
   ]
  },
  {
   "cell_type": "markdown",
   "metadata": {},
   "source": [
    "<div style=\"padding:10px; border-radius:10px; border:2px solid #0F7CCC;\">\n",
    "<span style=\"color:#0F7CCC\"><h3>FILTROS NO LINEALES</h3></span>\n",
    "<span style=\"color:#0F7CCC\"><h2>Filtro mediana</h2></span>"
   ]
  },
  {
   "cell_type": "code",
   "execution_count": null,
   "metadata": {},
   "outputs": [],
   "source": [
    "#function to evaluate filter media \n",
    "# param: image\n",
    "def apply_filter_median(image):\n",
    "    \n",
    "    # Kernel de convolución\n",
    "    k = morphology.square(3)\n",
    "\n",
    "    image_median_R = filters.rank.median(color.rgb2gray(skimage.img_as_float(image[:,:,0])) , k)\n",
    "    image_median_G = filters.rank.median(color.rgb2gray(skimage.img_as_float(image[:,:,1])) , k)\n",
    "    image_median_B = filters.rank.median(color.rgb2gray(skimage.img_as_float(image[:,:,2])) , k)\n",
    "\n",
    "    titles = [\"Imagen Original\", \"Imagen con filtro mediana ch red\", \"Imagen con filtro mediana ch green\", \"Imagen con filtro mediana ch blue\"]\n",
    "    skdemo.imshow_all(image, image_median_R, image_median_G, image_median_B, titles=titles)\n",
    "    "
   ]
  },
  {
   "cell_type": "code",
   "execution_count": null,
   "metadata": {},
   "outputs": [],
   "source": [
    "apply_filter_median(image_1)"
   ]
  },
  {
   "cell_type": "code",
   "execution_count": null,
   "metadata": {},
   "outputs": [],
   "source": [
    "apply_filter_median(image_2)"
   ]
  },
  {
   "cell_type": "code",
   "execution_count": null,
   "metadata": {},
   "outputs": [],
   "source": [
    "apply_filter_median(image_3)"
   ]
  },
  {
   "cell_type": "code",
   "execution_count": null,
   "metadata": {},
   "outputs": [],
   "source": [
    "apply_filter_median(image_4)"
   ]
  },
  {
   "cell_type": "code",
   "execution_count": null,
   "metadata": {},
   "outputs": [],
   "source": [
    "apply_filter_median(image_5)"
   ]
  },
  {
   "cell_type": "code",
   "execution_count": null,
   "metadata": {},
   "outputs": [],
   "source": [
    "apply_filter_median(image_6)"
   ]
  },
  {
   "cell_type": "code",
   "execution_count": null,
   "metadata": {},
   "outputs": [],
   "source": [
    "apply_filter_median(image_7)"
   ]
  },
  {
   "cell_type": "code",
   "execution_count": null,
   "metadata": {},
   "outputs": [],
   "source": [
    "apply_filter_median(image_8)"
   ]
  },
  {
   "cell_type": "code",
   "execution_count": null,
   "metadata": {},
   "outputs": [],
   "source": [
    "apply_filter_median(image_9)"
   ]
  },
  {
   "cell_type": "code",
   "execution_count": null,
   "metadata": {},
   "outputs": [],
   "source": [
    "apply_filter_median(image_10)"
   ]
  },
  {
   "cell_type": "code",
   "execution_count": null,
   "metadata": {},
   "outputs": [],
   "source": [
    "apply_filter_median(image_11)"
   ]
  },
  {
   "cell_type": "code",
   "execution_count": null,
   "metadata": {},
   "outputs": [],
   "source": [
    "apply_filter_median(image_12)"
   ]
  },
  {
   "cell_type": "code",
   "execution_count": null,
   "metadata": {},
   "outputs": [],
   "source": [
    "apply_filter_median(image_13)"
   ]
  },
  {
   "cell_type": "code",
   "execution_count": null,
   "metadata": {},
   "outputs": [],
   "source": [
    "apply_filter_median(image_14)"
   ]
  },
  {
   "cell_type": "code",
   "execution_count": null,
   "metadata": {},
   "outputs": [],
   "source": [
    "apply_filter_median(image_15)"
   ]
  },
  {
   "cell_type": "code",
   "execution_count": null,
   "metadata": {},
   "outputs": [],
   "source": [
    "apply_filter_median(image_16)"
   ]
  },
  {
   "cell_type": "code",
   "execution_count": null,
   "metadata": {},
   "outputs": [],
   "source": [
    "apply_filter_median(image_17)"
   ]
  },
  {
   "cell_type": "code",
   "execution_count": null,
   "metadata": {},
   "outputs": [],
   "source": [
    "apply_filter_median(image_18)"
   ]
  },
  {
   "cell_type": "code",
   "execution_count": null,
   "metadata": {},
   "outputs": [],
   "source": [
    "apply_filter_median(image_19)"
   ]
  },
  {
   "cell_type": "code",
   "execution_count": null,
   "metadata": {},
   "outputs": [],
   "source": [
    "apply_filter_median(image_20)"
   ]
  },
  {
   "cell_type": "code",
   "execution_count": null,
   "metadata": {},
   "outputs": [],
   "source": [
    "apply_filter_median(image_21)"
   ]
  },
  {
   "cell_type": "code",
   "execution_count": null,
   "metadata": {},
   "outputs": [],
   "source": [
    "apply_filter_median(image_22)"
   ]
  },
  {
   "cell_type": "code",
   "execution_count": null,
   "metadata": {},
   "outputs": [],
   "source": [
    "apply_filter_median(image_23)"
   ]
  },
  {
   "cell_type": "markdown",
   "metadata": {},
   "source": [
    "<div style=\"padding:10px; border-radius:10px; border:2px solid #0F7CCC;\">\n",
    "<span style=\"color:#0F7CCC\"><h2>Filtro maximo</h2></span>"
   ]
  },
  {
   "cell_type": "code",
   "execution_count": null,
   "metadata": {},
   "outputs": [],
   "source": [
    "#function to evaluate filter maximum\n",
    "# param: image\n",
    "def apply_filter_maximum(image):\n",
    "    \n",
    "    # Kernel de convolución\n",
    "    k = morphology.square(3)\n",
    "\n",
    "    R = filters.rank.maximum(color.rgb2gray(skimage.img_as_float(image[:,:,0])) , k)\n",
    "    G = filters.rank.maximum(color.rgb2gray(skimage.img_as_float(image[:,:,1])) , k)\n",
    "    B = filters.rank.maximum(color.rgb2gray(skimage.img_as_float(image[:,:,2])) , k)\n",
    "\n",
    "    # Componemos la imagen RGB en la imagen de salida\n",
    "    img_orange_max = color.gray2rgb(R)\n",
    "    img_orange_max[:,:,1] = G\n",
    "    img_orange_max[:,:,2] = B\n",
    "    \n",
    "    titles = [\"Imagen Original\", \"Imagen con filtro maximo\"]\n",
    "    skdemo.imshow_all(image, img_orange_max, titles=titles)"
   ]
  },
  {
   "cell_type": "code",
   "execution_count": null,
   "metadata": {},
   "outputs": [],
   "source": [
    "apply_filter_maximum(image_1)"
   ]
  },
  {
   "cell_type": "code",
   "execution_count": null,
   "metadata": {},
   "outputs": [],
   "source": [
    "apply_filter_maximum(image_2)"
   ]
  },
  {
   "cell_type": "code",
   "execution_count": null,
   "metadata": {},
   "outputs": [],
   "source": [
    "apply_filter_maximum(image_3)"
   ]
  },
  {
   "cell_type": "code",
   "execution_count": null,
   "metadata": {},
   "outputs": [],
   "source": [
    "apply_filter_maximum(image_4)"
   ]
  },
  {
   "cell_type": "code",
   "execution_count": null,
   "metadata": {},
   "outputs": [],
   "source": [
    "apply_filter_maximum(image_5)"
   ]
  },
  {
   "cell_type": "code",
   "execution_count": null,
   "metadata": {},
   "outputs": [],
   "source": [
    "apply_filter_maximum(image_6)"
   ]
  },
  {
   "cell_type": "code",
   "execution_count": null,
   "metadata": {},
   "outputs": [],
   "source": [
    "apply_filter_maximum(image_7)"
   ]
  },
  {
   "cell_type": "code",
   "execution_count": null,
   "metadata": {},
   "outputs": [],
   "source": [
    "apply_filter_maximum(image_8)"
   ]
  },
  {
   "cell_type": "code",
   "execution_count": null,
   "metadata": {},
   "outputs": [],
   "source": [
    "apply_filter_maximum(image_9)"
   ]
  },
  {
   "cell_type": "code",
   "execution_count": null,
   "metadata": {},
   "outputs": [],
   "source": [
    "apply_filter_maximum(image_10)"
   ]
  },
  {
   "cell_type": "code",
   "execution_count": null,
   "metadata": {},
   "outputs": [],
   "source": [
    "apply_filter_maximum(image_11)"
   ]
  },
  {
   "cell_type": "code",
   "execution_count": null,
   "metadata": {},
   "outputs": [],
   "source": [
    "apply_filter_maximum(image_12)"
   ]
  },
  {
   "cell_type": "code",
   "execution_count": null,
   "metadata": {},
   "outputs": [],
   "source": [
    "apply_filter_maximum(image_13)"
   ]
  },
  {
   "cell_type": "code",
   "execution_count": null,
   "metadata": {},
   "outputs": [],
   "source": [
    "apply_filter_maximum(image_14)"
   ]
  },
  {
   "cell_type": "code",
   "execution_count": null,
   "metadata": {},
   "outputs": [],
   "source": [
    "apply_filter_maximum(image_15)"
   ]
  },
  {
   "cell_type": "code",
   "execution_count": null,
   "metadata": {},
   "outputs": [],
   "source": [
    "apply_filter_maximum(image_16)"
   ]
  },
  {
   "cell_type": "code",
   "execution_count": null,
   "metadata": {},
   "outputs": [],
   "source": [
    "apply_filter_maximum(image_17)"
   ]
  },
  {
   "cell_type": "code",
   "execution_count": null,
   "metadata": {},
   "outputs": [],
   "source": [
    "apply_filter_maximum(image_18)"
   ]
  },
  {
   "cell_type": "code",
   "execution_count": null,
   "metadata": {},
   "outputs": [],
   "source": [
    "apply_filter_maximum(image_19)"
   ]
  },
  {
   "cell_type": "code",
   "execution_count": null,
   "metadata": {},
   "outputs": [],
   "source": [
    "apply_filter_maximum(image_20)"
   ]
  },
  {
   "cell_type": "code",
   "execution_count": null,
   "metadata": {},
   "outputs": [],
   "source": [
    "apply_filter_maximum(image_21)"
   ]
  },
  {
   "cell_type": "code",
   "execution_count": null,
   "metadata": {},
   "outputs": [],
   "source": [
    "apply_filter_maximum(image_22)"
   ]
  },
  {
   "cell_type": "code",
   "execution_count": null,
   "metadata": {},
   "outputs": [],
   "source": [
    "apply_filter_maximum(image_23)"
   ]
  },
  {
   "cell_type": "markdown",
   "metadata": {},
   "source": [
    "<div style=\"padding:10px; border-radius:10px; border:2px solid #0F7CCC;\">\n",
    "<span style=\"color:#0F7CCC\"><h2>Filtro minimo</h2></span>"
   ]
  },
  {
   "cell_type": "code",
   "execution_count": null,
   "metadata": {},
   "outputs": [],
   "source": [
    "\n",
    "#function to evaluate filter minimum\n",
    "# param: image\n",
    "def apply_filter_minimum(image):\n",
    "    \n",
    "    # Kernel de convolución\n",
    "    k = morphology.square(4)\n",
    "\n",
    "    R = filters.rank.minimum(color.rgb2gray(skimage.img_as_float(image[:,:,0])) , k)\n",
    "    G = filters.rank.minimum(color.rgb2gray(skimage.img_as_float(image[:,:,1])) , k)\n",
    "    B = filters.rank.minimum(color.rgb2gray(skimage.img_as_float(image[:,:,2])) , k)\n",
    "\n",
    "    # Componemos la imagen RGB en la imagen de salida\n",
    "    img_orange_min = color.gray2rgb(R)\n",
    "    img_orange_min[:,:,1] = G\n",
    "    img_orange_min[:,:,2] = B\n",
    "    \n",
    "    titles = [\"Imagen Original\", \"Imagen con filtro minimo\"]\n",
    "    skdemo.imshow_all(image, img_orange_min, titles=titles)"
   ]
  },
  {
   "cell_type": "code",
   "execution_count": null,
   "metadata": {},
   "outputs": [],
   "source": [
    "apply_filter_minimum(image_1)"
   ]
  },
  {
   "cell_type": "code",
   "execution_count": null,
   "metadata": {},
   "outputs": [],
   "source": [
    "apply_filter_minimum(image_2)"
   ]
  },
  {
   "cell_type": "code",
   "execution_count": null,
   "metadata": {},
   "outputs": [],
   "source": [
    "apply_filter_minimum(image_3)"
   ]
  },
  {
   "cell_type": "code",
   "execution_count": null,
   "metadata": {},
   "outputs": [],
   "source": [
    "apply_filter_minimum(image_4)"
   ]
  },
  {
   "cell_type": "code",
   "execution_count": null,
   "metadata": {},
   "outputs": [],
   "source": [
    "apply_filter_minimum(image_5)"
   ]
  },
  {
   "cell_type": "code",
   "execution_count": null,
   "metadata": {},
   "outputs": [],
   "source": [
    "apply_filter_minimum(image_6)"
   ]
  },
  {
   "cell_type": "code",
   "execution_count": null,
   "metadata": {},
   "outputs": [],
   "source": [
    "apply_filter_minimum(image_7)"
   ]
  },
  {
   "cell_type": "code",
   "execution_count": null,
   "metadata": {},
   "outputs": [],
   "source": [
    "apply_filter_minimum(image_8)"
   ]
  },
  {
   "cell_type": "code",
   "execution_count": null,
   "metadata": {},
   "outputs": [],
   "source": [
    "apply_filter_minimum(image_9)"
   ]
  },
  {
   "cell_type": "code",
   "execution_count": null,
   "metadata": {},
   "outputs": [],
   "source": [
    "apply_filter_minimum(image_10)"
   ]
  },
  {
   "cell_type": "code",
   "execution_count": null,
   "metadata": {},
   "outputs": [],
   "source": [
    "apply_filter_minimum(image_11)"
   ]
  },
  {
   "cell_type": "code",
   "execution_count": null,
   "metadata": {},
   "outputs": [],
   "source": [
    "apply_filter_minimum(image_12)"
   ]
  },
  {
   "cell_type": "code",
   "execution_count": null,
   "metadata": {},
   "outputs": [],
   "source": [
    "apply_filter_minimum(image_13)"
   ]
  },
  {
   "cell_type": "code",
   "execution_count": null,
   "metadata": {},
   "outputs": [],
   "source": [
    "apply_filter_minimum(image_14)"
   ]
  },
  {
   "cell_type": "code",
   "execution_count": null,
   "metadata": {},
   "outputs": [],
   "source": [
    "apply_filter_minimum(image_15)"
   ]
  },
  {
   "cell_type": "code",
   "execution_count": null,
   "metadata": {},
   "outputs": [],
   "source": [
    "apply_filter_minimum(image_16)"
   ]
  },
  {
   "cell_type": "code",
   "execution_count": null,
   "metadata": {},
   "outputs": [],
   "source": [
    "apply_filter_minimum(image_17)"
   ]
  },
  {
   "cell_type": "code",
   "execution_count": null,
   "metadata": {},
   "outputs": [],
   "source": [
    "apply_filter_minimum(image_18)"
   ]
  },
  {
   "cell_type": "code",
   "execution_count": null,
   "metadata": {},
   "outputs": [],
   "source": [
    "apply_filter_minimum(image_19)"
   ]
  },
  {
   "cell_type": "code",
   "execution_count": null,
   "metadata": {},
   "outputs": [],
   "source": [
    "apply_filter_minimum(image_20)"
   ]
  },
  {
   "cell_type": "code",
   "execution_count": null,
   "metadata": {},
   "outputs": [],
   "source": [
    "apply_filter_minimum(image_21)"
   ]
  },
  {
   "cell_type": "code",
   "execution_count": null,
   "metadata": {},
   "outputs": [],
   "source": [
    "apply_filter_minimum(image_22)"
   ]
  },
  {
   "cell_type": "code",
   "execution_count": null,
   "metadata": {},
   "outputs": [],
   "source": [
    "apply_filter_minimum(image_23)"
   ]
  },
  {
   "cell_type": "markdown",
   "metadata": {},
   "source": [
    "<div style=\"padding:10px; border-radius:10px; border:2px solid #0F7CCC;\">\n",
    "<span style=\"color:#0F7CCC\"><h3>ESPACIOS DE COLOR</h3></span>\n",
    " <ul>   \n",
    "    <li>Como nuestro objetivo es extraer los defectos de la naranja es claro que estos defectos no tienen un color caracterisitico o unico, es por esta razon que los espacios de color no aportan suficiente informacion para lograr el objetivo de este proceso.</li>\n",
    "</ul>"
   ]
  },
  {
   "cell_type": "code",
   "execution_count": null,
   "metadata": {},
   "outputs": [],
   "source": [
    "def transform_spaces_color(image, type_transf = 'gray'):\n",
    "    print(\"input type: \", image.dtype)\n",
    "    \n",
    "    if(type_transf == 'gray'):\n",
    "        output_image = color.rgb2gray(image)\n",
    "    elif(type_transf == 'lab'):\n",
    "        output_image = color.rgb2lab(image)\n",
    "    elif(type_transf == 'yiq'):\n",
    "        output_image = color.rgb2yiq(image)\n",
    "    elif(type_transf == 'yuv'):\n",
    "        output_image = color.rgb2yuv(image)\n",
    "    elif(type_transf == 'hsv'):\n",
    "        output_image = color.rgb2hsv(image)\n",
    "    elif(type_transf == 'xyz'):\n",
    "        output_image = color.rgb2xyz(image)\n",
    "    else:\n",
    "        output_image = color.rgb2ycbcr(image)\n",
    "        \n",
    "    if(output_image.dtype == 'ubyte' or output_image.dtype == 'uint16'):\n",
    "        final_image = np.clip(output_image, 0, 255)\n",
    "    elif(output_image.dtype == \"float\" or output_image.dtype == \"float64\" or output_image.dtype == \"float32\"):\n",
    "        final_image = np.clip(output_image, 0, 1)\n",
    "     \n",
    "    print(\"output type: \", final_image.dtype)\n",
    "    print(\"shapes: \", final_image.shape)\n",
    "    skdemo.imshow_with_histogram(final_image)\n",
    "    \n",
    "    return final_image"
   ]
  },
  {
   "cell_type": "code",
   "execution_count": null,
   "metadata": {},
   "outputs": [],
   "source": [
    "transform_spaces_color(image_1)"
   ]
  },
  {
   "cell_type": "code",
   "execution_count": null,
   "metadata": {},
   "outputs": [],
   "source": [
    "transform_spaces_color(image_2)"
   ]
  },
  {
   "cell_type": "code",
   "execution_count": null,
   "metadata": {},
   "outputs": [],
   "source": [
    "transform_spaces_color(image_3)"
   ]
  },
  {
   "cell_type": "code",
   "execution_count": null,
   "metadata": {},
   "outputs": [],
   "source": [
    "transform_spaces_color(image_4)"
   ]
  },
  {
   "cell_type": "code",
   "execution_count": null,
   "metadata": {},
   "outputs": [],
   "source": [
    "transform_spaces_color(image_5)"
   ]
  },
  {
   "cell_type": "code",
   "execution_count": null,
   "metadata": {},
   "outputs": [],
   "source": [
    "transform_spaces_color(image_6)"
   ]
  },
  {
   "cell_type": "code",
   "execution_count": null,
   "metadata": {},
   "outputs": [],
   "source": [
    "transform_spaces_color(image_7)"
   ]
  },
  {
   "cell_type": "code",
   "execution_count": null,
   "metadata": {},
   "outputs": [],
   "source": [
    "transform_spaces_color(image_8)"
   ]
  },
  {
   "cell_type": "code",
   "execution_count": null,
   "metadata": {},
   "outputs": [],
   "source": [
    "transform_spaces_color(image_9)"
   ]
  },
  {
   "cell_type": "code",
   "execution_count": null,
   "metadata": {},
   "outputs": [],
   "source": [
    "transform_spaces_color(image_10)"
   ]
  },
  {
   "cell_type": "code",
   "execution_count": null,
   "metadata": {},
   "outputs": [],
   "source": [
    "transform_spaces_color(image_11)"
   ]
  },
  {
   "cell_type": "code",
   "execution_count": null,
   "metadata": {},
   "outputs": [],
   "source": [
    "transform_spaces_color(image_12)"
   ]
  },
  {
   "cell_type": "code",
   "execution_count": null,
   "metadata": {},
   "outputs": [],
   "source": [
    "transform_spaces_color(image_13)"
   ]
  },
  {
   "cell_type": "code",
   "execution_count": null,
   "metadata": {},
   "outputs": [],
   "source": [
    "transform_spaces_color(image_14)"
   ]
  },
  {
   "cell_type": "code",
   "execution_count": null,
   "metadata": {},
   "outputs": [],
   "source": [
    "transform_spaces_color(image_15)"
   ]
  },
  {
   "cell_type": "code",
   "execution_count": null,
   "metadata": {},
   "outputs": [],
   "source": [
    "transform_spaces_color(image_16)"
   ]
  },
  {
   "cell_type": "code",
   "execution_count": null,
   "metadata": {},
   "outputs": [],
   "source": [
    "transform_spaces_color(image_17)"
   ]
  },
  {
   "cell_type": "code",
   "execution_count": null,
   "metadata": {},
   "outputs": [],
   "source": [
    "transform_spaces_color(image_18)"
   ]
  },
  {
   "cell_type": "code",
   "execution_count": null,
   "metadata": {},
   "outputs": [],
   "source": [
    "transform_spaces_color(image_19)"
   ]
  },
  {
   "cell_type": "code",
   "execution_count": null,
   "metadata": {},
   "outputs": [],
   "source": [
    "transform_spaces_color(image_20)"
   ]
  },
  {
   "cell_type": "code",
   "execution_count": null,
   "metadata": {},
   "outputs": [],
   "source": [
    "transform_spaces_color(image_21)"
   ]
  },
  {
   "cell_type": "code",
   "execution_count": null,
   "metadata": {},
   "outputs": [],
   "source": [
    "transform_spaces_color(image_22)"
   ]
  },
  {
   "cell_type": "code",
   "execution_count": null,
   "metadata": {},
   "outputs": [],
   "source": [
    "transform_spaces_color(image_23)"
   ]
  },
  {
   "cell_type": "markdown",
   "metadata": {},
   "source": [
    "<div style=\"padding:10px; border-radius:10px; border:2px solid #0F7CCC;\">\n",
    "<span style=\"color:#0F7CCC\"><h3>LAB</h3></span>"
   ]
  },
  {
   "cell_type": "code",
   "execution_count": null,
   "metadata": {},
   "outputs": [],
   "source": [
    "result_1 = transform_spaces_color(image_1,  type_transf = 'lab')\n",
    "skdemo.imshow_with_histogram(result_1[:,:,0])\n",
    "skdemo.imshow_with_histogram(result_1[:,:,1])\n",
    "skdemo.imshow_with_histogram(result_1[:,:,2])"
   ]
  },
  {
   "cell_type": "code",
   "execution_count": null,
   "metadata": {},
   "outputs": [],
   "source": [
    "result_2 = transform_spaces_color(image_2,  type_transf = 'lab')\n",
    "skdemo.imshow_with_histogram(result_2[:,:,0])\n",
    "skdemo.imshow_with_histogram(result_2[:,:,1])\n",
    "skdemo.imshow_with_histogram(result_2[:,:,2])"
   ]
  },
  {
   "cell_type": "code",
   "execution_count": null,
   "metadata": {},
   "outputs": [],
   "source": [
    "result = transform_spaces_color(image_3,  type_transf = 'lab')\n",
    "skdemo.imshow_with_histogram(result[:,:,0])\n",
    "skdemo.imshow_with_histogram(result[:,:,1])\n",
    "skdemo.imshow_with_histogram(result[:,:,2])"
   ]
  },
  {
   "cell_type": "code",
   "execution_count": null,
   "metadata": {},
   "outputs": [],
   "source": [
    "result = transform_spaces_color(image_4,  type_transf = 'lab')\n",
    "skdemo.imshow_with_histogram(result[:,:,0])\n",
    "skdemo.imshow_with_histogram(result[:,:,1])\n",
    "skdemo.imshow_with_histogram(result[:,:,2])"
   ]
  },
  {
   "cell_type": "code",
   "execution_count": null,
   "metadata": {},
   "outputs": [],
   "source": [
    "result = transform_spaces_color(image_5,  type_transf = 'lab')\n",
    "skdemo.imshow_with_histogram(result[:,:,0])\n",
    "skdemo.imshow_with_histogram(result[:,:,1])\n",
    "skdemo.imshow_with_histogram(result[:,:,2])"
   ]
  },
  {
   "cell_type": "code",
   "execution_count": null,
   "metadata": {},
   "outputs": [],
   "source": [
    "result = transform_spaces_color(image_6,  type_transf = 'lab')\n",
    "skdemo.imshow_with_histogram(result[:,:,0])\n",
    "skdemo.imshow_with_histogram(result[:,:,1])\n",
    "skdemo.imshow_with_histogram(result[:,:,2])"
   ]
  },
  {
   "cell_type": "code",
   "execution_count": null,
   "metadata": {},
   "outputs": [],
   "source": [
    "result = transform_spaces_color(image_7,  type_transf = 'lab')\n",
    "skdemo.imshow_with_histogram(result[:,:,0])\n",
    "skdemo.imshow_with_histogram(result[:,:,1])\n",
    "skdemo.imshow_with_histogram(result[:,:,2])"
   ]
  },
  {
   "cell_type": "code",
   "execution_count": null,
   "metadata": {},
   "outputs": [],
   "source": [
    "result = transform_spaces_color(image_8,  type_transf = 'lab')\n",
    "skdemo.imshow_with_histogram(result[:,:,0])\n",
    "skdemo.imshow_with_histogram(result[:,:,1])\n",
    "skdemo.imshow_with_histogram(result[:,:,2])"
   ]
  },
  {
   "cell_type": "code",
   "execution_count": null,
   "metadata": {},
   "outputs": [],
   "source": [
    "result = transform_spaces_color(image_9,  type_transf = 'lab')\n",
    "skdemo.imshow_with_histogram(result[:,:,0])\n",
    "skdemo.imshow_with_histogram(result[:,:,1])\n",
    "skdemo.imshow_with_histogram(result[:,:,2])"
   ]
  },
  {
   "cell_type": "code",
   "execution_count": null,
   "metadata": {},
   "outputs": [],
   "source": [
    "result = transform_spaces_color(image_10,  type_transf = 'lab')\n",
    "skdemo.imshow_with_histogram(result[:,:,0])\n",
    "skdemo.imshow_with_histogram(result[:,:,1])\n",
    "skdemo.imshow_with_histogram(result[:,:,2])"
   ]
  },
  {
   "cell_type": "code",
   "execution_count": null,
   "metadata": {},
   "outputs": [],
   "source": [
    "result = transform_spaces_color(image_17,  type_transf = 'lab')\n",
    "skdemo.imshow_with_histogram(result[:,:,0])\n",
    "skdemo.imshow_with_histogram(result[:,:,1])\n",
    "skdemo.imshow_with_histogram(result[:,:,2])"
   ]
  },
  {
   "cell_type": "code",
   "execution_count": null,
   "metadata": {},
   "outputs": [],
   "source": [
    "result = transform_spaces_color(image_18,  type_transf = 'lab')\n",
    "skdemo.imshow_with_histogram(result[:,:,0])\n",
    "skdemo.imshow_with_histogram(result[:,:,1])\n",
    "skdemo.imshow_with_histogram(result[:,:,2])"
   ]
  },
  {
   "cell_type": "code",
   "execution_count": null,
   "metadata": {},
   "outputs": [],
   "source": [
    "result = transform_spaces_color(image_19,  type_transf = 'lab')\n",
    "skdemo.imshow_with_histogram(result[:,:,0])\n",
    "skdemo.imshow_with_histogram(result[:,:,1])\n",
    "skdemo.imshow_with_histogram(result[:,:,2])"
   ]
  },
  {
   "cell_type": "code",
   "execution_count": null,
   "metadata": {},
   "outputs": [],
   "source": [
    "result = transform_spaces_color(image_20,  type_transf = 'lab')\n",
    "skdemo.imshow_with_histogram(result[:,:,0])\n",
    "skdemo.imshow_with_histogram(result[:,:,1])\n",
    "skdemo.imshow_with_histogram(result[:,:,2])"
   ]
  },
  {
   "cell_type": "code",
   "execution_count": null,
   "metadata": {},
   "outputs": [],
   "source": [
    "result = transform_spaces_color(image_21,  type_transf = 'lab')\n",
    "skdemo.imshow_with_histogram(result[:,:,0])\n",
    "skdemo.imshow_with_histogram(result[:,:,1])\n",
    "skdemo.imshow_with_histogram(result[:,:,2])"
   ]
  },
  {
   "cell_type": "code",
   "execution_count": null,
   "metadata": {},
   "outputs": [],
   "source": [
    "result = transform_spaces_color(image_22,  type_transf = 'lab')\n",
    "skdemo.imshow_with_histogram(result[:,:,0])\n",
    "skdemo.imshow_with_histogram(result[:,:,1])\n",
    "skdemo.imshow_with_histogram(result[:,:,2])"
   ]
  },
  {
   "cell_type": "code",
   "execution_count": null,
   "metadata": {},
   "outputs": [],
   "source": [
    "result = transform_spaces_color(image_23,  type_transf = 'lab')\n",
    "skdemo.imshow_with_histogram(result[:,:,0])\n",
    "skdemo.imshow_with_histogram(result[:,:,1])\n",
    "skdemo.imshow_with_histogram(result[:,:,2])"
   ]
  },
  {
   "cell_type": "markdown",
   "metadata": {},
   "source": [
    "<div style=\"padding:10px; border-radius:10px; border:2px solid #0F7CCC;\">\n",
    "<span style=\"color:#0F7CCC\"><h3>YIQ</h3></span>"
   ]
  },
  {
   "cell_type": "code",
   "execution_count": null,
   "metadata": {},
   "outputs": [],
   "source": [
    "result = transform_spaces_color(image_1,  type_transf = 'yiq')\n",
    "skdemo.imshow_with_histogram(result[:,:,0])\n",
    "skdemo.imshow_with_histogram(result[:,:,1])\n",
    "skdemo.imshow_with_histogram(result[:,:,2])"
   ]
  },
  {
   "cell_type": "code",
   "execution_count": null,
   "metadata": {},
   "outputs": [],
   "source": [
    "result = transform_spaces_color(image_2,  type_transf = 'yiq')\n",
    "skdemo.imshow_with_histogram(result[:,:,0])\n",
    "skdemo.imshow_with_histogram(result[:,:,1])\n",
    "skdemo.imshow_with_histogram(result[:,:,2])"
   ]
  },
  {
   "cell_type": "code",
   "execution_count": null,
   "metadata": {},
   "outputs": [],
   "source": [
    "result = transform_spaces_color(image_3,  type_transf = 'yiq')\n",
    "skdemo.imshow_with_histogram(result[:,:,0])\n",
    "skdemo.imshow_with_histogram(result[:,:,1])\n",
    "skdemo.imshow_with_histogram(result[:,:,2])"
   ]
  },
  {
   "cell_type": "code",
   "execution_count": null,
   "metadata": {},
   "outputs": [],
   "source": [
    "result = transform_spaces_color(image_5,  type_transf = 'yiq')\n",
    "skdemo.imshow_with_histogram(result[:,:,0])\n",
    "skdemo.imshow_with_histogram(result[:,:,1])\n",
    "skdemo.imshow_with_histogram(result[:,:,2])"
   ]
  },
  {
   "cell_type": "code",
   "execution_count": null,
   "metadata": {},
   "outputs": [],
   "source": [
    "result = transform_spaces_color(image_17,  type_transf = 'yiq')\n",
    "skdemo.imshow_with_histogram(result[:,:,0])\n",
    "skdemo.imshow_with_histogram(result[:,:,1])\n",
    "skdemo.imshow_with_histogram(result[:,:,2])"
   ]
  },
  {
   "cell_type": "code",
   "execution_count": null,
   "metadata": {},
   "outputs": [],
   "source": [
    "result = transform_spaces_color(image_20,  type_transf = 'yiq')\n",
    "skdemo.imshow_with_histogram(result[:,:,0])\n",
    "skdemo.imshow_with_histogram(result[:,:,1])\n",
    "skdemo.imshow_with_histogram(result[:,:,2])"
   ]
  },
  {
   "cell_type": "code",
   "execution_count": null,
   "metadata": {},
   "outputs": [],
   "source": [
    "result = transform_spaces_color(image_21,  type_transf = 'yiq')\n",
    "skdemo.imshow_with_histogram(result[:,:,0])\n",
    "skdemo.imshow_with_histogram(result[:,:,1])\n",
    "skdemo.imshow_with_histogram(result[:,:,2])"
   ]
  },
  {
   "cell_type": "code",
   "execution_count": null,
   "metadata": {},
   "outputs": [],
   "source": [
    "result = transform_spaces_color(image_22,  type_transf = 'yiq')\n",
    "skdemo.imshow_with_histogram(result[:,:,0])\n",
    "skdemo.imshow_with_histogram(result[:,:,1])\n",
    "skdemo.imshow_with_histogram(result[:,:,2])"
   ]
  },
  {
   "cell_type": "code",
   "execution_count": null,
   "metadata": {},
   "outputs": [],
   "source": [
    "result = transform_spaces_color(image_23,  type_transf = 'yiq')\n",
    "skdemo.imshow_with_histogram(result[:,:,0])\n",
    "skdemo.imshow_with_histogram(result[:,:,1])\n",
    "skdemo.imshow_with_histogram(result[:,:,2])"
   ]
  },
  {
   "cell_type": "markdown",
   "metadata": {},
   "source": [
    "<div style=\"padding:10px; border-radius:10px; border:2px solid #0F7CCC;\">\n",
    "<span style=\"color:#0F7CCC\"><h3>YUV</h3></span>"
   ]
  },
  {
   "cell_type": "code",
   "execution_count": null,
   "metadata": {},
   "outputs": [],
   "source": [
    "result = transform_spaces_color(image_1,  type_transf = 'yuv')\n",
    "skdemo.imshow_with_histogram(result[:,:,0])\n",
    "skdemo.imshow_with_histogram(result[:,:,1])\n",
    "skdemo.imshow_with_histogram(result[:,:,2])"
   ]
  },
  {
   "cell_type": "code",
   "execution_count": null,
   "metadata": {},
   "outputs": [],
   "source": [
    "result = transform_spaces_color(image_2,  type_transf = 'yuv')\n",
    "skdemo.imshow_with_histogram(result[:,:,0])\n",
    "skdemo.imshow_with_histogram(result[:,:,1])\n",
    "skdemo.imshow_with_histogram(result[:,:,2])"
   ]
  },
  {
   "cell_type": "code",
   "execution_count": null,
   "metadata": {},
   "outputs": [],
   "source": [
    "result = transform_spaces_color(image_3,  type_transf = 'yuv')\n",
    "skdemo.imshow_with_histogram(result[:,:,0])\n",
    "skdemo.imshow_with_histogram(result[:,:,1])\n",
    "skdemo.imshow_with_histogram(result[:,:,2])"
   ]
  },
  {
   "cell_type": "code",
   "execution_count": null,
   "metadata": {},
   "outputs": [],
   "source": [
    "result = transform_spaces_color(image_4,  type_transf = 'yuv')\n",
    "skdemo.imshow_with_histogram(result[:,:,0])\n",
    "skdemo.imshow_with_histogram(result[:,:,1])\n",
    "skdemo.imshow_with_histogram(result[:,:,2])"
   ]
  },
  {
   "cell_type": "code",
   "execution_count": null,
   "metadata": {},
   "outputs": [],
   "source": [
    "result = transform_spaces_color(image_5,  type_transf = 'yuv')\n",
    "skdemo.imshow_with_histogram(result[:,:,0])\n",
    "skdemo.imshow_with_histogram(result[:,:,1])\n",
    "skdemo.imshow_with_histogram(result[:,:,2])"
   ]
  },
  {
   "cell_type": "code",
   "execution_count": null,
   "metadata": {},
   "outputs": [],
   "source": [
    "result = transform_spaces_color(image_6,  type_transf = 'yuv')\n",
    "skdemo.imshow_with_histogram(result[:,:,0])\n",
    "skdemo.imshow_with_histogram(result[:,:,1])\n",
    "skdemo.imshow_with_histogram(result[:,:,2])"
   ]
  },
  {
   "cell_type": "code",
   "execution_count": null,
   "metadata": {},
   "outputs": [],
   "source": [
    "result = transform_spaces_color(image_7,  type_transf = 'yuv')\n",
    "skdemo.imshow_with_histogram(result[:,:,0])\n",
    "skdemo.imshow_with_histogram(result[:,:,1])\n",
    "skdemo.imshow_with_histogram(result[:,:,2])"
   ]
  },
  {
   "cell_type": "code",
   "execution_count": null,
   "metadata": {},
   "outputs": [],
   "source": [
    "result = transform_spaces_color(image_8,  type_transf = 'yuv')\n",
    "skdemo.imshow_with_histogram(result[:,:,0])\n",
    "skdemo.imshow_with_histogram(result[:,:,1])\n",
    "skdemo.imshow_with_histogram(result[:,:,2])"
   ]
  },
  {
   "cell_type": "code",
   "execution_count": null,
   "metadata": {},
   "outputs": [],
   "source": [
    "result = transform_spaces_color(image_9,  type_transf = 'yuv')\n",
    "skdemo.imshow_with_histogram(result[:,:,0])\n",
    "skdemo.imshow_with_histogram(result[:,:,1])\n",
    "skdemo.imshow_with_histogram(result[:,:,2])"
   ]
  },
  {
   "cell_type": "code",
   "execution_count": null,
   "metadata": {},
   "outputs": [],
   "source": [
    "result = transform_spaces_color(image_10,  type_transf = 'yuv')\n",
    "skdemo.imshow_with_histogram(result[:,:,0])\n",
    "skdemo.imshow_with_histogram(result[:,:,1])\n",
    "skdemo.imshow_with_histogram(result[:,:,2])"
   ]
  },
  {
   "cell_type": "code",
   "execution_count": null,
   "metadata": {},
   "outputs": [],
   "source": [
    "result = transform_spaces_color(image_11,  type_transf = 'yuv')\n",
    "skdemo.imshow_with_histogram(result[:,:,0])\n",
    "skdemo.imshow_with_histogram(result[:,:,1])\n",
    "skdemo.imshow_with_histogram(result[:,:,2])"
   ]
  },
  {
   "cell_type": "code",
   "execution_count": null,
   "metadata": {},
   "outputs": [],
   "source": [
    "result = transform_spaces_color(image_17,  type_transf = 'yuv')\n",
    "skdemo.imshow_with_histogram(result[:,:,0])\n",
    "skdemo.imshow_with_histogram(result[:,:,1])\n",
    "skdemo.imshow_with_histogram(result[:,:,2])"
   ]
  },
  {
   "cell_type": "code",
   "execution_count": null,
   "metadata": {},
   "outputs": [],
   "source": [
    "result = transform_spaces_color(image_18,  type_transf = 'yuv')\n",
    "skdemo.imshow_with_histogram(result[:,:,0])\n",
    "skdemo.imshow_with_histogram(result[:,:,1])\n",
    "skdemo.imshow_with_histogram(result[:,:,2])"
   ]
  },
  {
   "cell_type": "code",
   "execution_count": null,
   "metadata": {},
   "outputs": [],
   "source": [
    "result = transform_spaces_color(image_19,  type_transf = 'yuv')\n",
    "skdemo.imshow_with_histogram(result[:,:,0])\n",
    "skdemo.imshow_with_histogram(result[:,:,1])\n",
    "skdemo.imshow_with_histogram(result[:,:,2])"
   ]
  },
  {
   "cell_type": "code",
   "execution_count": null,
   "metadata": {},
   "outputs": [],
   "source": [
    "result = transform_spaces_color(image_20,  type_transf = 'yuv')\n",
    "skdemo.imshow_with_histogram(result[:,:,0])\n",
    "skdemo.imshow_with_histogram(result[:,:,1])\n",
    "skdemo.imshow_with_histogram(result[:,:,2])"
   ]
  },
  {
   "cell_type": "code",
   "execution_count": null,
   "metadata": {},
   "outputs": [],
   "source": [
    "result = transform_spaces_color(image_21,  type_transf = 'yuv')\n",
    "skdemo.imshow_with_histogram(result[:,:,0])\n",
    "skdemo.imshow_with_histogram(result[:,:,1])\n",
    "skdemo.imshow_with_histogram(result[:,:,2])"
   ]
  },
  {
   "cell_type": "code",
   "execution_count": null,
   "metadata": {},
   "outputs": [],
   "source": [
    "result = transform_spaces_color(image_22,  type_transf = 'yuv')\n",
    "skdemo.imshow_with_histogram(result[:,:,0])\n",
    "skdemo.imshow_with_histogram(result[:,:,1])\n",
    "skdemo.imshow_with_histogram(result[:,:,2])"
   ]
  },
  {
   "cell_type": "code",
   "execution_count": null,
   "metadata": {},
   "outputs": [],
   "source": [
    "result = transform_spaces_color(image_23,  type_transf = 'yuv')\n",
    "skdemo.imshow_with_histogram(result[:,:,0])\n",
    "skdemo.imshow_with_histogram(result[:,:,1])\n",
    "skdemo.imshow_with_histogram(result[:,:,2])"
   ]
  },
  {
   "cell_type": "markdown",
   "metadata": {},
   "source": [
    "<div style=\"padding:10px; border-radius:10px; border:2px solid #0F7CCC;\">\n",
    "<span style=\"color:#0F7CCC\"><h3>HSV</h3></span>"
   ]
  },
  {
   "cell_type": "code",
   "execution_count": null,
   "metadata": {},
   "outputs": [],
   "source": [
    "result = transform_spaces_color(image_1,  type_transf = 'hsv')\n",
    "skdemo.imshow_with_histogram(result[:,:,0])\n",
    "skdemo.imshow_with_histogram(result[:,:,1])\n",
    "skdemo.imshow_with_histogram(result[:,:,2])"
   ]
  },
  {
   "cell_type": "code",
   "execution_count": null,
   "metadata": {},
   "outputs": [],
   "source": [
    "result = transform_spaces_color(image_2,  type_transf = 'hsv')\n",
    "skdemo.imshow_with_histogram(result[:,:,0])\n",
    "skdemo.imshow_with_histogram(result[:,:,1])\n",
    "skdemo.imshow_with_histogram(result[:,:,2])"
   ]
  },
  {
   "cell_type": "code",
   "execution_count": null,
   "metadata": {},
   "outputs": [],
   "source": [
    "result = transform_spaces_color(image_3,  type_transf = 'hsv')\n",
    "skdemo.imshow_with_histogram(result[:,:,0])\n",
    "skdemo.imshow_with_histogram(result[:,:,1])\n",
    "skdemo.imshow_with_histogram(result[:,:,2])"
   ]
  },
  {
   "cell_type": "code",
   "execution_count": null,
   "metadata": {},
   "outputs": [],
   "source": [
    "result = transform_spaces_color(image_4,  type_transf = 'hsv')\n",
    "skdemo.imshow_with_histogram(result[:,:,0])\n",
    "skdemo.imshow_with_histogram(result[:,:,1])\n",
    "skdemo.imshow_with_histogram(result[:,:,2])"
   ]
  },
  {
   "cell_type": "code",
   "execution_count": null,
   "metadata": {},
   "outputs": [],
   "source": [
    "result = transform_spaces_color(image_5,  type_transf = 'hsv')\n",
    "skdemo.imshow_with_histogram(result[:,:,0])\n",
    "skdemo.imshow_with_histogram(result[:,:,1])\n",
    "skdemo.imshow_with_histogram(result[:,:,2])"
   ]
  },
  {
   "cell_type": "code",
   "execution_count": null,
   "metadata": {},
   "outputs": [],
   "source": [
    "result = transform_spaces_color(image_6,  type_transf = 'hsv')\n",
    "skdemo.imshow_with_histogram(result[:,:,0])\n",
    "skdemo.imshow_with_histogram(result[:,:,1])\n",
    "skdemo.imshow_with_histogram(result[:,:,2])"
   ]
  },
  {
   "cell_type": "code",
   "execution_count": null,
   "metadata": {},
   "outputs": [],
   "source": [
    "result = transform_spaces_color(image_7,  type_transf = 'hsv')\n",
    "skdemo.imshow_with_histogram(result[:,:,0])\n",
    "skdemo.imshow_with_histogram(result[:,:,1])\n",
    "skdemo.imshow_with_histogram(result[:,:,2])"
   ]
  },
  {
   "cell_type": "code",
   "execution_count": null,
   "metadata": {},
   "outputs": [],
   "source": [
    "result = transform_spaces_color(image_8,  type_transf = 'hsv')\n",
    "skdemo.imshow_with_histogram(result[:,:,0])\n",
    "skdemo.imshow_with_histogram(result[:,:,1])\n",
    "skdemo.imshow_with_histogram(result[:,:,2])"
   ]
  },
  {
   "cell_type": "code",
   "execution_count": null,
   "metadata": {},
   "outputs": [],
   "source": [
    "result = transform_spaces_color(image_9,  type_transf = 'hsv')\n",
    "skdemo.imshow_with_histogram(result[:,:,0])\n",
    "skdemo.imshow_with_histogram(result[:,:,1])\n",
    "skdemo.imshow_with_histogram(result[:,:,2])"
   ]
  },
  {
   "cell_type": "code",
   "execution_count": null,
   "metadata": {},
   "outputs": [],
   "source": [
    "result = transform_spaces_color(image_10,  type_transf = 'hsv')\n",
    "skdemo.imshow_with_histogram(result[:,:,0])\n",
    "skdemo.imshow_with_histogram(result[:,:,1])\n",
    "skdemo.imshow_with_histogram(result[:,:,2])"
   ]
  },
  {
   "cell_type": "code",
   "execution_count": null,
   "metadata": {},
   "outputs": [],
   "source": [
    "result = transform_spaces_color(image_11,  type_transf = 'hsv')\n",
    "skdemo.imshow_with_histogram(result[:,:,0])\n",
    "skdemo.imshow_with_histogram(result[:,:,1])\n",
    "skdemo.imshow_with_histogram(result[:,:,2])"
   ]
  },
  {
   "cell_type": "code",
   "execution_count": null,
   "metadata": {},
   "outputs": [],
   "source": [
    "result = transform_spaces_color(image_12,  type_transf = 'hsv')\n",
    "skdemo.imshow_with_histogram(result[:,:,0])\n",
    "skdemo.imshow_with_histogram(result[:,:,1])\n",
    "skdemo.imshow_with_histogram(result[:,:,2])"
   ]
  },
  {
   "cell_type": "code",
   "execution_count": null,
   "metadata": {},
   "outputs": [],
   "source": [
    "result = transform_spaces_color(image_13,  type_transf = 'hsv')\n",
    "skdemo.imshow_with_histogram(result[:,:,0])\n",
    "skdemo.imshow_with_histogram(result[:,:,1])\n",
    "skdemo.imshow_with_histogram(result[:,:,2])"
   ]
  },
  {
   "cell_type": "code",
   "execution_count": null,
   "metadata": {},
   "outputs": [],
   "source": [
    "result = transform_spaces_color(image_14,  type_transf = 'hsv')\n",
    "skdemo.imshow_with_histogram(result[:,:,0])\n",
    "skdemo.imshow_with_histogram(result[:,:,1])\n",
    "skdemo.imshow_with_histogram(result[:,:,2])"
   ]
  },
  {
   "cell_type": "code",
   "execution_count": null,
   "metadata": {},
   "outputs": [],
   "source": [
    "result = transform_spaces_color(image_15,  type_transf = 'hsv')\n",
    "skdemo.imshow_with_histogram(result[:,:,0])\n",
    "skdemo.imshow_with_histogram(result[:,:,1])\n",
    "skdemo.imshow_with_histogram(result[:,:,2])"
   ]
  },
  {
   "cell_type": "code",
   "execution_count": null,
   "metadata": {},
   "outputs": [],
   "source": [
    "result = transform_spaces_color(image_16,  type_transf = 'hsv')\n",
    "skdemo.imshow_with_histogram(result[:,:,0])\n",
    "skdemo.imshow_with_histogram(result[:,:,1])\n",
    "skdemo.imshow_with_histogram(result[:,:,2])"
   ]
  },
  {
   "cell_type": "code",
   "execution_count": null,
   "metadata": {},
   "outputs": [],
   "source": [
    "result = transform_spaces_color(image_17,  type_transf = 'hsv')\n",
    "skdemo.imshow_with_histogram(result[:,:,0])\n",
    "skdemo.imshow_with_histogram(result[:,:,1])\n",
    "skdemo.imshow_with_histogram(result[:,:,2])"
   ]
  },
  {
   "cell_type": "code",
   "execution_count": null,
   "metadata": {},
   "outputs": [],
   "source": [
    "result = transform_spaces_color(image_18,  type_transf = 'hsv')\n",
    "skdemo.imshow_with_histogram(result[:,:,0])\n",
    "skdemo.imshow_with_histogram(result[:,:,1])\n",
    "skdemo.imshow_with_histogram(result[:,:,2])"
   ]
  },
  {
   "cell_type": "code",
   "execution_count": null,
   "metadata": {},
   "outputs": [],
   "source": [
    "result = transform_spaces_color(image_19,  type_transf = 'hsv')\n",
    "skdemo.imshow_with_histogram(result[:,:,0])\n",
    "skdemo.imshow_with_histogram(result[:,:,1])\n",
    "skdemo.imshow_with_histogram(result[:,:,2])"
   ]
  },
  {
   "cell_type": "code",
   "execution_count": null,
   "metadata": {},
   "outputs": [],
   "source": [
    "result = transform_spaces_color(image_20,  type_transf = 'hsv')\n",
    "skdemo.imshow_with_histogram(result[:,:,0])\n",
    "skdemo.imshow_with_histogram(result[:,:,1])\n",
    "skdemo.imshow_with_histogram(result[:,:,2])"
   ]
  },
  {
   "cell_type": "code",
   "execution_count": null,
   "metadata": {},
   "outputs": [],
   "source": [
    "result = transform_spaces_color(image_21,  type_transf = 'hsv')\n",
    "skdemo.imshow_with_histogram(result[:,:,0])\n",
    "skdemo.imshow_with_histogram(result[:,:,1])\n",
    "skdemo.imshow_with_histogram(result[:,:,2])"
   ]
  },
  {
   "cell_type": "code",
   "execution_count": null,
   "metadata": {},
   "outputs": [],
   "source": [
    "result = transform_spaces_color(image_22,  type_transf = 'hsv')\n",
    "skdemo.imshow_with_histogram(result[:,:,0])\n",
    "skdemo.imshow_with_histogram(result[:,:,1])\n",
    "skdemo.imshow_with_histogram(result[:,:,2])"
   ]
  },
  {
   "cell_type": "code",
   "execution_count": null,
   "metadata": {},
   "outputs": [],
   "source": [
    "result = transform_spaces_color(image_23,  type_transf = 'hsv')\n",
    "skdemo.imshow_with_histogram(result[:,:,0])\n",
    "skdemo.imshow_with_histogram(result[:,:,1])\n",
    "skdemo.imshow_with_histogram(result[:,:,2])"
   ]
  },
  {
   "cell_type": "markdown",
   "metadata": {},
   "source": [
    "<div style=\"padding:10px; border-radius:10px; border:2px solid #0F7CCC;\">\n",
    "<span style=\"color:#0F7CCC\"><h3>XYZ</h3></span>"
   ]
  },
  {
   "cell_type": "code",
   "execution_count": null,
   "metadata": {},
   "outputs": [],
   "source": [
    "result = transform_spaces_color(image_1,  type_transf = 'xyz')\n",
    "skdemo.imshow_with_histogram(result[:,:,0])\n",
    "skdemo.imshow_with_histogram(result[:,:,1])\n",
    "skdemo.imshow_with_histogram(result[:,:,2])"
   ]
  },
  {
   "cell_type": "code",
   "execution_count": null,
   "metadata": {},
   "outputs": [],
   "source": [
    "result = transform_spaces_color(image_2,  type_transf = 'xyz')\n",
    "skdemo.imshow_with_histogram(result[:,:,0])\n",
    "skdemo.imshow_with_histogram(result[:,:,1])\n",
    "skdemo.imshow_with_histogram(result[:,:,2])"
   ]
  },
  {
   "cell_type": "code",
   "execution_count": null,
   "metadata": {},
   "outputs": [],
   "source": [
    "result = transform_spaces_color(image_3,  type_transf = 'xyz')\n",
    "skdemo.imshow_with_histogram(result[:,:,0])\n",
    "skdemo.imshow_with_histogram(result[:,:,1])\n",
    "skdemo.imshow_with_histogram(result[:,:,2])"
   ]
  },
  {
   "cell_type": "code",
   "execution_count": null,
   "metadata": {},
   "outputs": [],
   "source": [
    "result = transform_spaces_color(image_4,  type_transf = 'xyz')\n",
    "skdemo.imshow_with_histogram(result[:,:,0])\n",
    "skdemo.imshow_with_histogram(result[:,:,1])\n",
    "skdemo.imshow_with_histogram(result[:,:,2])"
   ]
  },
  {
   "cell_type": "code",
   "execution_count": null,
   "metadata": {},
   "outputs": [],
   "source": [
    "result = transform_spaces_color(image_5,  type_transf = 'xyz')\n",
    "skdemo.imshow_with_histogram(result[:,:,0])\n",
    "skdemo.imshow_with_histogram(result[:,:,1])\n",
    "skdemo.imshow_with_histogram(result[:,:,2])"
   ]
  },
  {
   "cell_type": "code",
   "execution_count": null,
   "metadata": {},
   "outputs": [],
   "source": [
    "result = transform_spaces_color(image_6,  type_transf = 'xyz')\n",
    "skdemo.imshow_with_histogram(result[:,:,0])\n",
    "skdemo.imshow_with_histogram(result[:,:,1])\n",
    "skdemo.imshow_with_histogram(result[:,:,2])"
   ]
  },
  {
   "cell_type": "code",
   "execution_count": null,
   "metadata": {},
   "outputs": [],
   "source": [
    "result = transform_spaces_color(image_7,  type_transf = 'xyz')\n",
    "skdemo.imshow_with_histogram(result[:,:,0])\n",
    "skdemo.imshow_with_histogram(result[:,:,1])\n",
    "skdemo.imshow_with_histogram(result[:,:,2])"
   ]
  },
  {
   "cell_type": "code",
   "execution_count": null,
   "metadata": {},
   "outputs": [],
   "source": [
    "result = transform_spaces_color(image_8,  type_transf = 'xyz')\n",
    "skdemo.imshow_with_histogram(result[:,:,0])\n",
    "skdemo.imshow_with_histogram(result[:,:,1])\n",
    "skdemo.imshow_with_histogram(result[:,:,2])"
   ]
  },
  {
   "cell_type": "code",
   "execution_count": null,
   "metadata": {},
   "outputs": [],
   "source": [
    "result = transform_spaces_color(image_9,  type_transf = 'xyz')\n",
    "skdemo.imshow_with_histogram(result[:,:,0])\n",
    "skdemo.imshow_with_histogram(result[:,:,1])\n",
    "skdemo.imshow_with_histogram(result[:,:,2])"
   ]
  },
  {
   "cell_type": "code",
   "execution_count": null,
   "metadata": {},
   "outputs": [],
   "source": [
    "result = transform_spaces_color(image_10,  type_transf = 'xyz')\n",
    "skdemo.imshow_with_histogram(result[:,:,0])\n",
    "skdemo.imshow_with_histogram(result[:,:,1])\n",
    "skdemo.imshow_with_histogram(result[:,:,2])"
   ]
  },
  {
   "cell_type": "code",
   "execution_count": null,
   "metadata": {},
   "outputs": [],
   "source": [
    "result = transform_spaces_color(image_11,  type_transf = 'xyz')\n",
    "skdemo.imshow_with_histogram(result[:,:,0])\n",
    "skdemo.imshow_with_histogram(result[:,:,1])\n",
    "skdemo.imshow_with_histogram(result[:,:,2])"
   ]
  },
  {
   "cell_type": "code",
   "execution_count": null,
   "metadata": {},
   "outputs": [],
   "source": [
    "result = transform_spaces_color(image_12,  type_transf = 'xyz')\n",
    "skdemo.imshow_with_histogram(result[:,:,0])\n",
    "skdemo.imshow_with_histogram(result[:,:,1])\n",
    "skdemo.imshow_with_histogram(result[:,:,2])"
   ]
  },
  {
   "cell_type": "code",
   "execution_count": null,
   "metadata": {},
   "outputs": [],
   "source": [
    "result = transform_spaces_color(image_13,  type_transf = 'xyz')\n",
    "skdemo.imshow_with_histogram(result[:,:,0])\n",
    "skdemo.imshow_with_histogram(result[:,:,1])\n",
    "skdemo.imshow_with_histogram(result[:,:,2])"
   ]
  },
  {
   "cell_type": "code",
   "execution_count": null,
   "metadata": {},
   "outputs": [],
   "source": [
    "result = transform_spaces_color(image_14,  type_transf = 'xyz')\n",
    "skdemo.imshow_with_histogram(result[:,:,0])\n",
    "skdemo.imshow_with_histogram(result[:,:,1])\n",
    "skdemo.imshow_with_histogram(result[:,:,2])"
   ]
  },
  {
   "cell_type": "code",
   "execution_count": null,
   "metadata": {},
   "outputs": [],
   "source": [
    "result = transform_spaces_color(image_15,  type_transf = 'xyz')\n",
    "skdemo.imshow_with_histogram(result[:,:,0])\n",
    "skdemo.imshow_with_histogram(result[:,:,1])\n",
    "skdemo.imshow_with_histogram(result[:,:,2])"
   ]
  },
  {
   "cell_type": "code",
   "execution_count": null,
   "metadata": {},
   "outputs": [],
   "source": [
    "result = transform_spaces_color(image_16,  type_transf = 'xyz')\n",
    "skdemo.imshow_with_histogram(result[:,:,0])\n",
    "skdemo.imshow_with_histogram(result[:,:,1])\n",
    "skdemo.imshow_with_histogram(result[:,:,2])"
   ]
  },
  {
   "cell_type": "code",
   "execution_count": null,
   "metadata": {},
   "outputs": [],
   "source": [
    "result = transform_spaces_color(image_17,  type_transf = 'xyz')\n",
    "skdemo.imshow_with_histogram(result[:,:,0])\n",
    "skdemo.imshow_with_histogram(result[:,:,1])\n",
    "skdemo.imshow_with_histogram(result[:,:,2])"
   ]
  },
  {
   "cell_type": "code",
   "execution_count": null,
   "metadata": {},
   "outputs": [],
   "source": [
    "result = transform_spaces_color(image_18,  type_transf = 'xyz')\n",
    "skdemo.imshow_with_histogram(result[:,:,0])\n",
    "skdemo.imshow_with_histogram(result[:,:,1])\n",
    "skdemo.imshow_with_histogram(result[:,:,2])"
   ]
  },
  {
   "cell_type": "code",
   "execution_count": null,
   "metadata": {},
   "outputs": [],
   "source": [
    "result = transform_spaces_color(image_19,  type_transf = 'xyz')\n",
    "skdemo.imshow_with_histogram(result[:,:,0])\n",
    "skdemo.imshow_with_histogram(result[:,:,1])\n",
    "skdemo.imshow_with_histogram(result[:,:,2])"
   ]
  },
  {
   "cell_type": "code",
   "execution_count": null,
   "metadata": {},
   "outputs": [],
   "source": [
    "result = transform_spaces_color(image_20,  type_transf = 'xyz')\n",
    "skdemo.imshow_with_histogram(result[:,:,0])\n",
    "skdemo.imshow_with_histogram(result[:,:,1])\n",
    "skdemo.imshow_with_histogram(result[:,:,2])"
   ]
  },
  {
   "cell_type": "code",
   "execution_count": null,
   "metadata": {},
   "outputs": [],
   "source": [
    "result = transform_spaces_color(image_21,  type_transf = 'xyz')\n",
    "skdemo.imshow_with_histogram(result[:,:,0])\n",
    "skdemo.imshow_with_histogram(result[:,:,1])\n",
    "skdemo.imshow_with_histogram(result[:,:,2])"
   ]
  },
  {
   "cell_type": "code",
   "execution_count": null,
   "metadata": {},
   "outputs": [],
   "source": [
    "result = transform_spaces_color(image_22,  type_transf = 'xyz')\n",
    "skdemo.imshow_with_histogram(result[:,:,0])\n",
    "skdemo.imshow_with_histogram(result[:,:,1])\n",
    "skdemo.imshow_with_histogram(result[:,:,2])"
   ]
  },
  {
   "cell_type": "code",
   "execution_count": null,
   "metadata": {},
   "outputs": [],
   "source": [
    "result = transform_spaces_color(image_23,  type_transf = 'xyz')\n",
    "skdemo.imshow_with_histogram(result[:,:,0])\n",
    "skdemo.imshow_with_histogram(result[:,:,1])\n",
    "skdemo.imshow_with_histogram(result[:,:,2])"
   ]
  },
  {
   "cell_type": "markdown",
   "metadata": {},
   "source": [
    "<div style=\"padding:10px; border-radius:10px; border:2px solid #0F7CCC;\">\n",
    "<span style=\"color:#0F7CCC\"><h3>YCbCr</h3></span>"
   ]
  },
  {
   "cell_type": "code",
   "execution_count": null,
   "metadata": {},
   "outputs": [],
   "source": [
    "result = transform_spaces_color(image_1,  type_transf = 'YCbCr')\n",
    "skdemo.imshow_with_histogram(result[:,:,0])\n",
    "skdemo.imshow_with_histogram(result[:,:,1])\n",
    "skdemo.imshow_with_histogram(result[:,:,2])"
   ]
  },
  {
   "cell_type": "code",
   "execution_count": null,
   "metadata": {},
   "outputs": [],
   "source": [
    "result = transform_spaces_color(image_2,  type_transf = 'YCbCr')\n",
    "skdemo.imshow_with_histogram(result[:,:,0])\n",
    "skdemo.imshow_with_histogram(result[:,:,1])\n",
    "skdemo.imshow_with_histogram(result[:,:,2])"
   ]
  },
  {
   "cell_type": "code",
   "execution_count": null,
   "metadata": {},
   "outputs": [],
   "source": [
    "result = transform_spaces_color(image_3,  type_transf = 'YCbCr')\n",
    "skdemo.imshow_with_histogram(result[:,:,0])\n",
    "skdemo.imshow_with_histogram(result[:,:,1])\n",
    "skdemo.imshow_with_histogram(result[:,:,2])"
   ]
  },
  {
   "cell_type": "code",
   "execution_count": null,
   "metadata": {},
   "outputs": [],
   "source": [
    "result = transform_spaces_color(image_4,  type_transf = 'YCbCr')\n",
    "skdemo.imshow_with_histogram(result[:,:,0])\n",
    "skdemo.imshow_with_histogram(result[:,:,1])\n",
    "skdemo.imshow_with_histogram(result[:,:,2])"
   ]
  },
  {
   "cell_type": "code",
   "execution_count": null,
   "metadata": {},
   "outputs": [],
   "source": [
    "result = transform_spaces_color(image_5,  type_transf = 'YCbCr')\n",
    "skdemo.imshow_with_histogram(result[:,:,0])\n",
    "skdemo.imshow_with_histogram(result[:,:,1])\n",
    "skdemo.imshow_with_histogram(result[:,:,2])"
   ]
  },
  {
   "cell_type": "code",
   "execution_count": null,
   "metadata": {},
   "outputs": [],
   "source": [
    "result = transform_spaces_color(image_6,  type_transf = 'YCbCr')\n",
    "skdemo.imshow_with_histogram(result[:,:,0])\n",
    "skdemo.imshow_with_histogram(result[:,:,1])\n",
    "skdemo.imshow_with_histogram(result[:,:,2])"
   ]
  },
  {
   "cell_type": "code",
   "execution_count": null,
   "metadata": {},
   "outputs": [],
   "source": [
    "result = transform_spaces_color(image_7,  type_transf = 'YCbCr')\n",
    "skdemo.imshow_with_histogram(result[:,:,0])\n",
    "skdemo.imshow_with_histogram(result[:,:,1])\n",
    "skdemo.imshow_with_histogram(result[:,:,2])"
   ]
  },
  {
   "cell_type": "code",
   "execution_count": null,
   "metadata": {},
   "outputs": [],
   "source": [
    "result = transform_spaces_color(image_8,  type_transf = 'YCbCr')\n",
    "skdemo.imshow_with_histogram(result[:,:,0])\n",
    "skdemo.imshow_with_histogram(result[:,:,1])\n",
    "skdemo.imshow_with_histogram(result[:,:,2])"
   ]
  },
  {
   "cell_type": "code",
   "execution_count": null,
   "metadata": {},
   "outputs": [],
   "source": [
    "result = transform_spaces_color(image_9,  type_transf = 'YCbCr')\n",
    "skdemo.imshow_with_histogram(result[:,:,0])\n",
    "skdemo.imshow_with_histogram(result[:,:,1])\n",
    "skdemo.imshow_with_histogram(result[:,:,2])"
   ]
  },
  {
   "cell_type": "code",
   "execution_count": null,
   "metadata": {},
   "outputs": [],
   "source": [
    "result = transform_spaces_color(image_10,  type_transf = 'YCbCr')\n",
    "skdemo.imshow_with_histogram(result[:,:,0])\n",
    "skdemo.imshow_with_histogram(result[:,:,1])\n",
    "skdemo.imshow_with_histogram(result[:,:,2])"
   ]
  },
  {
   "cell_type": "code",
   "execution_count": null,
   "metadata": {},
   "outputs": [],
   "source": [
    "result = transform_spaces_color(image_11,  type_transf = 'YCbCr')\n",
    "skdemo.imshow_with_histogram(result[:,:,0])\n",
    "skdemo.imshow_with_histogram(result[:,:,1])\n",
    "skdemo.imshow_with_histogram(result[:,:,2])"
   ]
  },
  {
   "cell_type": "code",
   "execution_count": null,
   "metadata": {},
   "outputs": [],
   "source": [
    "result = transform_spaces_color(image_12,  type_transf = 'YCbCr')\n",
    "skdemo.imshow_with_histogram(result[:,:,0])\n",
    "skdemo.imshow_with_histogram(result[:,:,1])\n",
    "skdemo.imshow_with_histogram(result[:,:,2])"
   ]
  },
  {
   "cell_type": "code",
   "execution_count": null,
   "metadata": {},
   "outputs": [],
   "source": [
    "result = transform_spaces_color(image_13,  type_transf = 'YCbCr')\n",
    "skdemo.imshow_with_histogram(result[:,:,0])\n",
    "skdemo.imshow_with_histogram(result[:,:,1])\n",
    "skdemo.imshow_with_histogram(result[:,:,2])"
   ]
  },
  {
   "cell_type": "code",
   "execution_count": null,
   "metadata": {},
   "outputs": [],
   "source": [
    "result = transform_spaces_color(image_14,  type_transf = 'YCbCr')\n",
    "skdemo.imshow_with_histogram(result[:,:,0])\n",
    "skdemo.imshow_with_histogram(result[:,:,1])\n",
    "skdemo.imshow_with_histogram(result[:,:,2])"
   ]
  },
  {
   "cell_type": "code",
   "execution_count": null,
   "metadata": {},
   "outputs": [],
   "source": [
    "result = transform_spaces_color(image_15,  type_transf = 'YCbCr')\n",
    "skdemo.imshow_with_histogram(result[:,:,0])\n",
    "skdemo.imshow_with_histogram(result[:,:,1])\n",
    "skdemo.imshow_with_histogram(result[:,:,2])"
   ]
  },
  {
   "cell_type": "code",
   "execution_count": null,
   "metadata": {},
   "outputs": [],
   "source": [
    "result = transform_spaces_color(image_16,  type_transf = 'YCbCr')\n",
    "skdemo.imshow_with_histogram(result[:,:,0])\n",
    "skdemo.imshow_with_histogram(result[:,:,1])\n",
    "skdemo.imshow_with_histogram(result[:,:,2])"
   ]
  },
  {
   "cell_type": "code",
   "execution_count": null,
   "metadata": {},
   "outputs": [],
   "source": [
    "result = transform_spaces_color(image_17,  type_transf = 'YCbCr')\n",
    "skdemo.imshow_with_histogram(result[:,:,0])\n",
    "skdemo.imshow_with_histogram(result[:,:,1])\n",
    "skdemo.imshow_with_histogram(result[:,:,2])"
   ]
  },
  {
   "cell_type": "code",
   "execution_count": null,
   "metadata": {},
   "outputs": [],
   "source": [
    "result = transform_spaces_color(image_18,  type_transf = 'YCbCr')\n",
    "skdemo.imshow_with_histogram(result[:,:,0])\n",
    "skdemo.imshow_with_histogram(result[:,:,1])\n",
    "skdemo.imshow_with_histogram(result[:,:,2])"
   ]
  },
  {
   "cell_type": "code",
   "execution_count": null,
   "metadata": {},
   "outputs": [],
   "source": [
    "result = transform_spaces_color(image_19,  type_transf = 'YCbCr')\n",
    "skdemo.imshow_with_histogram(result[:,:,0])\n",
    "skdemo.imshow_with_histogram(result[:,:,1])\n",
    "skdemo.imshow_with_histogram(result[:,:,2])"
   ]
  },
  {
   "cell_type": "code",
   "execution_count": null,
   "metadata": {},
   "outputs": [],
   "source": [
    "result = transform_spaces_color(image_20,  type_transf = 'YCbCr')\n",
    "skdemo.imshow_with_histogram(result[:,:,0])\n",
    "skdemo.imshow_with_histogram(result[:,:,1])\n",
    "skdemo.imshow_with_histogram(result[:,:,2])"
   ]
  },
  {
   "cell_type": "code",
   "execution_count": null,
   "metadata": {},
   "outputs": [],
   "source": [
    "result = transform_spaces_color(image_21,  type_transf = 'YCbCr')\n",
    "skdemo.imshow_with_histogram(result[:,:,0])\n",
    "skdemo.imshow_with_histogram(result[:,:,1])\n",
    "skdemo.imshow_with_histogram(result[:,:,2])"
   ]
  },
  {
   "cell_type": "code",
   "execution_count": null,
   "metadata": {},
   "outputs": [],
   "source": [
    "result = transform_spaces_color(image_22,  type_transf = 'YCbCr')\n",
    "skdemo.imshow_with_histogram(result[:,:,0])\n",
    "skdemo.imshow_with_histogram(result[:,:,1])\n",
    "skdemo.imshow_with_histogram(result[:,:,2])"
   ]
  },
  {
   "cell_type": "code",
   "execution_count": null,
   "metadata": {},
   "outputs": [],
   "source": [
    "result = transform_spaces_color(image_23,  type_transf = 'YCbCr')\n",
    "skdemo.imshow_with_histogram(result[:,:,0])\n",
    "skdemo.imshow_with_histogram(result[:,:,1])\n",
    "skdemo.imshow_with_histogram(result[:,:,2])"
   ]
  },
  {
   "cell_type": "markdown",
   "metadata": {},
   "source": [
    "<div style=\"padding:10px; border-radius:10px; border:2px solid #0F7CCC;\">\n",
    "<span style=\"color:#0F7CCC\"><h2>Segmentacion por umbral simple.</h2></span>"
   ]
  },
  {
   "cell_type": "code",
   "execution_count": null,
   "metadata": {},
   "outputs": [],
   "source": [
    "print(\"type: \", img_ecualizada_ad_1.dtype)"
   ]
  },
  {
   "cell_type": "code",
   "execution_count": null,
   "metadata": {},
   "outputs": [],
   "source": [
    "img_to_gray_1 = color.rgb2gray(img_ecualizada_ad_1)\n",
    "skdemo.imshow_with_histogram(img_to_gray_1)"
   ]
  },
  {
   "cell_type": "code",
   "execution_count": null,
   "metadata": {},
   "outputs": [],
   "source": [
    "img_bw_1 = img_to_gray_1 > 0.3\n",
    "plt.imshow(img_bw_1)"
   ]
  },
  {
   "cell_type": "code",
   "execution_count": null,
   "metadata": {},
   "outputs": [],
   "source": [
    "img_to_gray_2 = color.rgb2gray(img_ecualizada_ad_2)\n",
    "skdemo.imshow_with_histogram(img_to_gray_2)"
   ]
  },
  {
   "cell_type": "code",
   "execution_count": null,
   "metadata": {},
   "outputs": [],
   "source": [
    "img_bw_2 = img_to_gray_2 > 0.3\n",
    "plt.imshow(img_bw_2)"
   ]
  },
  {
   "cell_type": "code",
   "execution_count": null,
   "metadata": {},
   "outputs": [],
   "source": [
    "img_to_gray_2 = color.rgb2gray(img_ecualizada_ad_2)\n",
    "skdemo.imshow_with_histogram(img_to_gray_2)"
   ]
  },
  {
   "cell_type": "code",
   "execution_count": null,
   "metadata": {},
   "outputs": [],
   "source": [
    "img_bw_2 = img_to_gray_2 > 0.3\n",
    "plt.imshow(img_bw_2)"
   ]
  },
  {
   "cell_type": "code",
   "execution_count": null,
   "metadata": {},
   "outputs": [],
   "source": [
    "img_to_gray_3 = color.rgb2gray(img_ecualizada_ad_3)\n",
    "skdemo.imshow_with_histogram(img_to_gray_3)"
   ]
  },
  {
   "cell_type": "code",
   "execution_count": null,
   "metadata": {},
   "outputs": [],
   "source": [
    "img_bw_3 = img_to_gray_3 > 0.3\n",
    "plt.imshow(img_bw_3)"
   ]
  },
  {
   "cell_type": "code",
   "execution_count": null,
   "metadata": {},
   "outputs": [],
   "source": [
    "img_to_gray_4 = color.rgb2gray(img_ecualizada_ad_4)\n",
    "skdemo.imshow_with_histogram(img_to_gray_4)"
   ]
  },
  {
   "cell_type": "code",
   "execution_count": null,
   "metadata": {},
   "outputs": [],
   "source": [
    "img_bw_4 = img_to_gray_4 > 0.3\n",
    "plt.imshow(img_bw_4)"
   ]
  },
  {
   "cell_type": "code",
   "execution_count": null,
   "metadata": {},
   "outputs": [],
   "source": [
    "img_to_gray_5 = color.rgb2gray(img_ecualizada_ad_5)\n",
    "skdemo.imshow_with_histogram(img_to_gray_5)"
   ]
  },
  {
   "cell_type": "code",
   "execution_count": null,
   "metadata": {},
   "outputs": [],
   "source": [
    "img_bw_5 = img_to_gray_5 > 0.3\n",
    "plt.imshow(img_bw_5)"
   ]
  },
  {
   "cell_type": "code",
   "execution_count": null,
   "metadata": {},
   "outputs": [],
   "source": [
    "img_to_gray_6 = color.rgb2gray(img_ecualizada_ad_6)\n",
    "skdemo.imshow_with_histogram(img_to_gray_6)"
   ]
  },
  {
   "cell_type": "code",
   "execution_count": null,
   "metadata": {},
   "outputs": [],
   "source": [
    "img_bw_6 = img_to_gray_6 > 0.3\n",
    "plt.imshow(img_bw_6)"
   ]
  },
  {
   "cell_type": "code",
   "execution_count": null,
   "metadata": {},
   "outputs": [],
   "source": [
    "img_to_gray_7 = color.rgb2gray(img_ecualizada_ad_7)\n",
    "skdemo.imshow_with_histogram(img_to_gray_7)"
   ]
  },
  {
   "cell_type": "code",
   "execution_count": null,
   "metadata": {},
   "outputs": [],
   "source": [
    "img_bw_7 = img_to_gray_7 > 0.3\n",
    "plt.imshow(img_bw_7)"
   ]
  },
  {
   "cell_type": "code",
   "execution_count": null,
   "metadata": {},
   "outputs": [],
   "source": [
    "img_to_gray_8 = color.rgb2gray(img_ecualizada_ad_8)\n",
    "skdemo.imshow_with_histogram(img_to_gray_8)"
   ]
  },
  {
   "cell_type": "code",
   "execution_count": null,
   "metadata": {},
   "outputs": [],
   "source": [
    "img_bw_8 = img_to_gray_8 > 0.3\n",
    "plt.imshow(img_bw_8)"
   ]
  },
  {
   "cell_type": "code",
   "execution_count": null,
   "metadata": {},
   "outputs": [],
   "source": [
    "img_to_gray_9 = color.rgb2gray(img_ecualizada_ad_2)\n",
    "skdemo.imshow_with_histogram(img_to_gray_9)"
   ]
  },
  {
   "cell_type": "code",
   "execution_count": null,
   "metadata": {},
   "outputs": [],
   "source": [
    "img_bw_9 = img_to_gray_9 > 0.3\n",
    "plt.imshow(img_bw_9)"
   ]
  },
  {
   "cell_type": "code",
   "execution_count": null,
   "metadata": {},
   "outputs": [],
   "source": [
    "img_to_gray_10 = color.rgb2gray(img_ecualizada_ad_10)\n",
    "skdemo.imshow_with_histogram(img_to_gray_10)"
   ]
  },
  {
   "cell_type": "code",
   "execution_count": null,
   "metadata": {},
   "outputs": [],
   "source": [
    "img_bw_10 = img_to_gray_10 > 0.3\n",
    "plt.imshow(img_bw_10)"
   ]
  },
  {
   "cell_type": "code",
   "execution_count": null,
   "metadata": {},
   "outputs": [],
   "source": [
    "img_to_gray_11 = color.rgb2gray(img_ecualizada_ad_11)\n",
    "skdemo.imshow_with_histogram(img_to_gray_11)"
   ]
  },
  {
   "cell_type": "code",
   "execution_count": null,
   "metadata": {},
   "outputs": [],
   "source": [
    "img_bw_11 = img_to_gray_11 > 0.3\n",
    "plt.imshow(img_bw_11)"
   ]
  },
  {
   "cell_type": "code",
   "execution_count": null,
   "metadata": {},
   "outputs": [],
   "source": [
    "img_to_gray_12 = color.rgb2gray(img_ecualizada_ad_12)\n",
    "skdemo.imshow_with_histogram(img_to_gray_12)"
   ]
  },
  {
   "cell_type": "code",
   "execution_count": null,
   "metadata": {},
   "outputs": [],
   "source": [
    "img_bw_12 = img_to_gray_12 > 0.3\n",
    "plt.imshow(img_bw_12)"
   ]
  },
  {
   "cell_type": "code",
   "execution_count": null,
   "metadata": {},
   "outputs": [],
   "source": [
    "img_to_gray_13 = color.rgb2gray(img_ecualizada_ad_13)\n",
    "skdemo.imshow_with_histogram(img_to_gray_13)"
   ]
  },
  {
   "cell_type": "code",
   "execution_count": null,
   "metadata": {},
   "outputs": [],
   "source": [
    "img_bw_13 = img_to_gray_13 > 0.3\n",
    "plt.imshow(img_bw_13)"
   ]
  },
  {
   "cell_type": "code",
   "execution_count": null,
   "metadata": {},
   "outputs": [],
   "source": [
    "img_to_gray_14 = color.rgb2gray(img_ecualizada_ad_14)\n",
    "skdemo.imshow_with_histogram(img_to_gray_14)"
   ]
  },
  {
   "cell_type": "code",
   "execution_count": null,
   "metadata": {},
   "outputs": [],
   "source": [
    "img_bw_14 = img_to_gray_14 > 0.3\n",
    "plt.imshow(img_bw_14)"
   ]
  },
  {
   "cell_type": "code",
   "execution_count": null,
   "metadata": {},
   "outputs": [],
   "source": [
    "img_to_gray_15 = color.rgb2gray(img_ecualizada_ad_15)\n",
    "skdemo.imshow_with_histogram(img_to_gray_15)"
   ]
  },
  {
   "cell_type": "code",
   "execution_count": null,
   "metadata": {},
   "outputs": [],
   "source": [
    "img_bw_15 = img_to_gray_15 > 0.3\n",
    "plt.imshow(img_bw_15)"
   ]
  },
  {
   "cell_type": "code",
   "execution_count": null,
   "metadata": {},
   "outputs": [],
   "source": [
    "img_to_gray_16 = color.rgb2gray(img_ecualizada_ad_16)\n",
    "skdemo.imshow_with_histogram(img_to_gray_16)"
   ]
  },
  {
   "cell_type": "code",
   "execution_count": null,
   "metadata": {},
   "outputs": [],
   "source": [
    "img_bw_16 = img_to_gray_16 > 0.3\n",
    "plt.imshow(img_bw_16)"
   ]
  },
  {
   "cell_type": "code",
   "execution_count": null,
   "metadata": {},
   "outputs": [],
   "source": [
    "img_to_gray_17 = color.rgb2gray(img_ecualizada_ad_17)\n",
    "skdemo.imshow_with_histogram(img_to_gray_17)"
   ]
  },
  {
   "cell_type": "code",
   "execution_count": null,
   "metadata": {},
   "outputs": [],
   "source": [
    "img_bw_17 = img_to_gray_17 > 0.3\n",
    "plt.imshow(img_bw_17)"
   ]
  },
  {
   "cell_type": "code",
   "execution_count": null,
   "metadata": {},
   "outputs": [],
   "source": [
    "img_to_gray_18 = color.rgb2gray(img_ecualizada_ad_18)\n",
    "skdemo.imshow_with_histogram(img_to_gray_18)"
   ]
  },
  {
   "cell_type": "code",
   "execution_count": null,
   "metadata": {},
   "outputs": [],
   "source": [
    "img_bw_18 = img_to_gray_18 > 0.3\n",
    "plt.imshow(img_bw_18)"
   ]
  },
  {
   "cell_type": "code",
   "execution_count": null,
   "metadata": {},
   "outputs": [],
   "source": [
    "img_to_gray_19 = color.rgb2gray(img_ecualizada_ad_19)\n",
    "skdemo.imshow_with_histogram(img_to_gray_19)"
   ]
  },
  {
   "cell_type": "code",
   "execution_count": null,
   "metadata": {},
   "outputs": [],
   "source": [
    "img_bw_19 = img_to_gray_19 > 0.3\n",
    "plt.imshow(img_bw_19)"
   ]
  },
  {
   "cell_type": "code",
   "execution_count": null,
   "metadata": {},
   "outputs": [],
   "source": [
    "img_to_gray_20 = color.rgb2gray(img_ecualizada_ad_2)\n",
    "skdemo.imshow_with_histogram(img_to_gray_20)"
   ]
  },
  {
   "cell_type": "code",
   "execution_count": null,
   "metadata": {},
   "outputs": [],
   "source": [
    "img_bw_20 = img_to_gray_20 > 0.3\n",
    "plt.imshow(img_bw_20)"
   ]
  },
  {
   "cell_type": "code",
   "execution_count": null,
   "metadata": {},
   "outputs": [],
   "source": [
    "img_to_gray_21 = color.rgb2gray(img_ecualizada_ad_21)\n",
    "skdemo.imshow_with_histogram(img_to_gray_21)"
   ]
  },
  {
   "cell_type": "code",
   "execution_count": null,
   "metadata": {},
   "outputs": [],
   "source": [
    "img_bw_21 = img_to_gray_21 > 0.3\n",
    "plt.imshow(img_bw_21)"
   ]
  },
  {
   "cell_type": "code",
   "execution_count": null,
   "metadata": {},
   "outputs": [],
   "source": [
    "img_to_gray_22 = color.rgb2gray(img_ecualizada_ad_22)\n",
    "skdemo.imshow_with_histogram(img_to_gray_22)"
   ]
  },
  {
   "cell_type": "code",
   "execution_count": null,
   "metadata": {},
   "outputs": [],
   "source": [
    "img_bw_22 = img_to_gray_22 > 0.3\n",
    "plt.imshow(img_bw_22)"
   ]
  },
  {
   "cell_type": "code",
   "execution_count": null,
   "metadata": {},
   "outputs": [],
   "source": [
    "img_to_gray_23 = color.rgb2gray(img_ecualizada_ad_23)\n",
    "skdemo.imshow_with_histogram(img_to_gray_23)"
   ]
  },
  {
   "cell_type": "code",
   "execution_count": null,
   "metadata": {},
   "outputs": [],
   "source": [
    "img_bw_23 = img_to_gray_23 > 0.3\n",
    "plt.imshow(img_bw_23)"
   ]
  },
  {
   "cell_type": "markdown",
   "metadata": {},
   "source": [
    "<div style=\"padding:10px; border-radius:10px; border:2px solid #0F7CCC;\">\n",
    "<span style=\"color:#0F7CCC\"><h2>Segmentacion por umbral adaptativo.</h2></span>\n",
    "<ol>\n",
    "    <li>Adaptativo local</li>\n"
   ]
  },
  {
   "cell_type": "code",
   "execution_count": null,
   "metadata": {},
   "outputs": [],
   "source": [
    "# Método Adaptativo\n",
    "def metodo_adaptativo(img_to_gray):\n",
    "    t1 = filters.threshold_local(img_to_gray, 35, 'mean')\n",
    "    t2 = filters.threshold_local(img_to_gray, 75, 'gaussian')\n",
    "\n",
    "    img_BW_1 = img_to_gray > t1\n",
    "    img_BW_2 = img_to_gray > t2\n",
    "\n",
    "    skdemo.imshow_all(img_to_gray, img_BW_1, img_BW_2, titles=[\"Original\",\"umbral Adaptativo - Mean\", \"umbral Adaptativo - gaussian\"])\n"
   ]
  },
  {
   "cell_type": "code",
   "execution_count": null,
   "metadata": {},
   "outputs": [],
   "source": [
    "metodo_adaptativo(img_to_gray_1)"
   ]
  },
  {
   "cell_type": "code",
   "execution_count": null,
   "metadata": {},
   "outputs": [],
   "source": [
    "metodo_adaptativo(img_to_gray_2)"
   ]
  },
  {
   "cell_type": "code",
   "execution_count": null,
   "metadata": {},
   "outputs": [],
   "source": [
    "metodo_adaptativo(img_to_gray_13)"
   ]
  },
  {
   "cell_type": "code",
   "execution_count": null,
   "metadata": {},
   "outputs": [],
   "source": [
    "metodo_adaptativo(img_to_gray_16)"
   ]
  },
  {
   "cell_type": "markdown",
   "metadata": {},
   "source": [
    "\n",
    "<p><strong> 2. Adaptativo Isodata</strong></p>\n"
   ]
  },
  {
   "cell_type": "code",
   "execution_count": null,
   "metadata": {},
   "outputs": [],
   "source": [
    "# Método ISODATA\n",
    "\n",
    "def metodo_isodata(img_to_gray):\n",
    "    t_iso_1 = filters.threshold_isodata(img_to_gray)\n",
    "\n",
    "    img_BW_iso_1 = img_to_gray > t_iso_1;\n",
    "\n",
    "    skdemo.imshow_all(img_to_gray, img_BW_iso_1, titles=[\"Original\",\"umbral isodata\"])\n",
    "    \n",
    "    return img_BW_iso_1"
   ]
  },
  {
   "cell_type": "code",
   "execution_count": null,
   "metadata": {},
   "outputs": [],
   "source": [
    "img_iso_1 = metodo_isodata(img_to_gray_1)"
   ]
  },
  {
   "cell_type": "code",
   "execution_count": null,
   "metadata": {},
   "outputs": [],
   "source": [
    "img_iso_2 = metodo_isodata(img_to_gray_2)"
   ]
  },
  {
   "cell_type": "code",
   "execution_count": null,
   "metadata": {},
   "outputs": [],
   "source": [
    "img_iso_3 = metodo_isodata(img_to_gray_3)"
   ]
  },
  {
   "cell_type": "code",
   "execution_count": null,
   "metadata": {},
   "outputs": [],
   "source": [
    "img_iso_4 = metodo_isodata(img_to_gray_4)"
   ]
  },
  {
   "cell_type": "code",
   "execution_count": null,
   "metadata": {},
   "outputs": [],
   "source": [
    "img_iso_5 = metodo_isodata(img_to_gray_5)"
   ]
  },
  {
   "cell_type": "code",
   "execution_count": null,
   "metadata": {},
   "outputs": [],
   "source": [
    "img_iso_6 = metodo_isodata(img_to_gray_6)"
   ]
  },
  {
   "cell_type": "code",
   "execution_count": null,
   "metadata": {},
   "outputs": [],
   "source": [
    "img_iso_7 = metodo_isodata(img_to_gray_7)"
   ]
  },
  {
   "cell_type": "code",
   "execution_count": null,
   "metadata": {},
   "outputs": [],
   "source": [
    "img_iso_8 = metodo_isodata(img_to_gray_8)"
   ]
  },
  {
   "cell_type": "code",
   "execution_count": null,
   "metadata": {},
   "outputs": [],
   "source": [
    "img_iso_9 = metodo_isodata(img_to_gray_9)"
   ]
  },
  {
   "cell_type": "code",
   "execution_count": null,
   "metadata": {},
   "outputs": [],
   "source": [
    "img_iso_10 = metodo_isodata(img_to_gray_10)"
   ]
  },
  {
   "cell_type": "code",
   "execution_count": null,
   "metadata": {},
   "outputs": [],
   "source": [
    "img_iso_11 = metodo_isodata(img_to_gray_11)"
   ]
  },
  {
   "cell_type": "code",
   "execution_count": null,
   "metadata": {},
   "outputs": [],
   "source": [
    "img_iso_12 = metodo_isodata(img_to_gray_12)"
   ]
  },
  {
   "cell_type": "code",
   "execution_count": null,
   "metadata": {},
   "outputs": [],
   "source": [
    "img_iso_13 = metodo_isodata(img_to_gray_13)"
   ]
  },
  {
   "cell_type": "code",
   "execution_count": null,
   "metadata": {},
   "outputs": [],
   "source": [
    "img_iso_14 = metodo_isodata(img_to_gray_14)"
   ]
  },
  {
   "cell_type": "code",
   "execution_count": null,
   "metadata": {},
   "outputs": [],
   "source": [
    "img_iso_15 = metodo_isodata(img_to_gray_15)"
   ]
  },
  {
   "cell_type": "code",
   "execution_count": null,
   "metadata": {},
   "outputs": [],
   "source": [
    "img_iso_16 = metodo_isodata(img_to_gray_16)"
   ]
  },
  {
   "cell_type": "code",
   "execution_count": null,
   "metadata": {},
   "outputs": [],
   "source": [
    "img_iso_17 = metodo_isodata(img_to_gray_17)"
   ]
  },
  {
   "cell_type": "code",
   "execution_count": null,
   "metadata": {},
   "outputs": [],
   "source": [
    "img_iso_18 = metodo_isodata(img_to_gray_18)"
   ]
  },
  {
   "cell_type": "code",
   "execution_count": null,
   "metadata": {},
   "outputs": [],
   "source": [
    "img_iso_19 = metodo_isodata(img_to_gray_19)"
   ]
  },
  {
   "cell_type": "code",
   "execution_count": null,
   "metadata": {},
   "outputs": [],
   "source": [
    "img_iso_20 = metodo_isodata(img_to_gray_20)"
   ]
  },
  {
   "cell_type": "code",
   "execution_count": null,
   "metadata": {},
   "outputs": [],
   "source": [
    "img_iso_21 = metodo_isodata(img_to_gray_21)"
   ]
  },
  {
   "cell_type": "code",
   "execution_count": null,
   "metadata": {},
   "outputs": [],
   "source": [
    "img_iso_22 = metodo_isodata(img_to_gray_22)"
   ]
  },
  {
   "cell_type": "code",
   "execution_count": null,
   "metadata": {},
   "outputs": [],
   "source": [
    "img_iso_23 = metodo_isodata(img_to_gray_23)"
   ]
  },
  {
   "cell_type": "markdown",
   "metadata": {},
   "source": [
    "<p><strong> 3. Adaptativo yen.</strong></p>"
   ]
  },
  {
   "cell_type": "code",
   "execution_count": null,
   "metadata": {},
   "outputs": [],
   "source": [
    "def metodo_yen(img_to_gray):\n",
    "    t_otsu_1a = filters.threshold_yen(img_to_gray)\n",
    "    t_otsu_1b = filters.threshold_yen(img_to_gray)\n",
    "\n",
    "    img_BW_1a_otsu = img_to_gray > t_otsu_1a;\n",
    "    img_BW_1b_otsu = img_to_gray > t_otsu_1b;\n",
    "\n",
    "    skdemo.imshow_all(img_to_gray, img_BW_1a_otsu, img_BW_1b_otsu, titles=[\"Original\",\"umbral Yen\", \"umbral Yen\"])\n"
   ]
  },
  {
   "cell_type": "code",
   "execution_count": null,
   "metadata": {},
   "outputs": [],
   "source": [
    "metodo_yen(img_to_gray_1)\n"
   ]
  },
  {
   "cell_type": "code",
   "execution_count": null,
   "metadata": {},
   "outputs": [],
   "source": [
    "metodo_yen(img_to_gray_2)"
   ]
  },
  {
   "cell_type": "code",
   "execution_count": null,
   "metadata": {},
   "outputs": [],
   "source": [
    "metodo_yen(img_to_gray_3)"
   ]
  },
  {
   "cell_type": "code",
   "execution_count": null,
   "metadata": {},
   "outputs": [],
   "source": [
    "metodo_yen(img_to_gray_4)"
   ]
  },
  {
   "cell_type": "code",
   "execution_count": null,
   "metadata": {},
   "outputs": [],
   "source": [
    "metodo_yen(img_to_gray_5)"
   ]
  },
  {
   "cell_type": "code",
   "execution_count": null,
   "metadata": {},
   "outputs": [],
   "source": [
    "metodo_yen(img_to_gray_13)"
   ]
  },
  {
   "cell_type": "code",
   "execution_count": null,
   "metadata": {},
   "outputs": [],
   "source": [
    "metodo_yen(img_to_gray_14)"
   ]
  },
  {
   "cell_type": "code",
   "execution_count": null,
   "metadata": {},
   "outputs": [],
   "source": [
    "metodo_yen(img_to_gray_15)"
   ]
  },
  {
   "cell_type": "code",
   "execution_count": null,
   "metadata": {},
   "outputs": [],
   "source": [
    "metodo_yen(img_to_gray_16)"
   ]
  },
  {
   "cell_type": "code",
   "execution_count": null,
   "metadata": {},
   "outputs": [],
   "source": [
    "metodo_yen(img_to_gray_17)"
   ]
  },
  {
   "cell_type": "code",
   "execution_count": null,
   "metadata": {},
   "outputs": [],
   "source": [
    "metodo_yen(img_to_gray_18)"
   ]
  },
  {
   "cell_type": "code",
   "execution_count": null,
   "metadata": {},
   "outputs": [],
   "source": [
    "metodo_yen(img_to_gray_19)"
   ]
  },
  {
   "cell_type": "code",
   "execution_count": null,
   "metadata": {},
   "outputs": [],
   "source": [
    "metodo_yen(img_to_gray_20)"
   ]
  },
  {
   "cell_type": "code",
   "execution_count": null,
   "metadata": {},
   "outputs": [],
   "source": [
    "metodo_yen(img_to_gray_21)"
   ]
  },
  {
   "cell_type": "code",
   "execution_count": null,
   "metadata": {},
   "outputs": [],
   "source": [
    "metodo_yen(img_to_gray_22)"
   ]
  },
  {
   "cell_type": "code",
   "execution_count": null,
   "metadata": {},
   "outputs": [],
   "source": [
    "metodo_yen(img_to_gray_23)"
   ]
  },
  {
   "cell_type": "markdown",
   "metadata": {},
   "source": [
    "<div style=\"padding:10px; border-radius:10px; border:2px solid #0F7CCC;\">\n",
    "<span style=\"color:#0F7CCC\"><h2>Extraccion de bordes.</h2></span>\n",
    "<ol>\n",
    "    <li>Filtro sobel.</li>\n",
    "    <li>Filtro scharr.</li>\n",
    "    <li>Filtro prewitt.</li>\n",
    "    <li>Filtro roberts.</li>\n",
    "</ol>"
   ]
  },
  {
   "cell_type": "code",
   "execution_count": null,
   "metadata": {},
   "outputs": [],
   "source": [
    "def aplicar_ext_bordes(img):\n",
    "    g_sobel_1 = filters.sobel(img)\n",
    "    g_scharr_1 = filters.scharr(img)\n",
    "    g_prewitt_1 = filters.prewitt(img)\n",
    "    g_roberts_1 = filters.roberts(img)\n",
    "\n",
    "    skdemo.imshow_all(g_sobel_1, g_scharr_1, titles=[\"Sobel\", \"Scharr\"])\n",
    "    skdemo.imshow_all(g_prewitt_1, g_roberts_1, titles=[\"Prewitt\", \"Roberts\"])"
   ]
  },
  {
   "cell_type": "code",
   "execution_count": null,
   "metadata": {},
   "outputs": [],
   "source": [
    "aplicar_ext_bordes(img_to_gray_1)"
   ]
  },
  {
   "cell_type": "code",
   "execution_count": null,
   "metadata": {},
   "outputs": [],
   "source": [
    "aplicar_ext_bordes(img_to_gray_2)"
   ]
  },
  {
   "cell_type": "code",
   "execution_count": null,
   "metadata": {},
   "outputs": [],
   "source": [
    "aplicar_ext_bordes(img_to_gray_3)"
   ]
  },
  {
   "cell_type": "code",
   "execution_count": null,
   "metadata": {},
   "outputs": [],
   "source": [
    "aplicar_ext_bordes(img_to_gray_13)"
   ]
  },
  {
   "cell_type": "code",
   "execution_count": null,
   "metadata": {},
   "outputs": [],
   "source": [
    "aplicar_ext_bordes(img_to_gray_14)"
   ]
  },
  {
   "cell_type": "code",
   "execution_count": null,
   "metadata": {},
   "outputs": [],
   "source": [
    "aplicar_ext_bordes(img_to_gray_15)"
   ]
  },
  {
   "cell_type": "code",
   "execution_count": null,
   "metadata": {},
   "outputs": [],
   "source": [
    "# Aplicamos el detector de bordes Canny\n",
    "def detectar_bordes_canny_and_hough(img):\n",
    "    img_edges = feature.canny(img, sigma=1, low_threshold=0.2, high_threshold=0.5)\n",
    "\n",
    "    skdemo.imshow_all(img, img_edges, titles=[\"Original\", \"Bordes Canny\"], size=8)\n",
    "\n",
    "    #Aplicamos la transformada de Hough para líneas sobre los bordes de la imagen \n",
    "    lines = transform.probabilistic_hough_line(img_edges, threshold=10, line_length=30, line_gap=1)\n",
    "\n",
    "    fig, axes = plt.subplots(1, 2, figsize=(20,5))\n",
    "    ax = axes.ravel()\n",
    "\n",
    "    ax[0].imshow(img_edges)\n",
    "    ax[1].imshow(img)\n",
    "\n",
    "    for line in lines:\n",
    "        p0, p1 = line\n",
    "        ax[1].plot((p0[0], p1[0]), (p0[1], p1[1]))\n",
    "    ax[1].set_title('Líneas con Transformda de Hough')"
   ]
  },
  {
   "cell_type": "code",
   "execution_count": null,
   "metadata": {},
   "outputs": [],
   "source": [
    "detectar_bordes_canny_and_hough(img_to_gray_1)"
   ]
  },
  {
   "cell_type": "code",
   "execution_count": null,
   "metadata": {},
   "outputs": [],
   "source": [
    "detectar_bordes_canny_and_hough(img_to_gray_2)"
   ]
  },
  {
   "cell_type": "code",
   "execution_count": null,
   "metadata": {},
   "outputs": [],
   "source": [
    "detectar_bordes_canny_and_hough(img_to_gray_3)"
   ]
  },
  {
   "cell_type": "code",
   "execution_count": null,
   "metadata": {},
   "outputs": [],
   "source": [
    "detectar_bordes_canny_and_hough(img_to_gray_13)"
   ]
  },
  {
   "cell_type": "code",
   "execution_count": null,
   "metadata": {},
   "outputs": [],
   "source": [
    "detectar_bordes_canny_and_hough(img_to_gray_14)"
   ]
  },
  {
   "cell_type": "code",
   "execution_count": null,
   "metadata": {},
   "outputs": [],
   "source": [
    "detectar_bordes_canny_and_hough(img_to_gray_15)"
   ]
  },
  {
   "cell_type": "code",
   "execution_count": null,
   "metadata": {},
   "outputs": [],
   "source": [
    "from mpl_toolkits.mplot3d import Axes3D\n",
    "\n",
    "def aplicar_watershed(img):\n",
    "    skdemo.imshow_with_histogram(img)\n",
    "    img_edges_sobel = filters.sobel(img)\n",
    "    skdemo.imshow_with_histogram(img_edges_sobel)\n",
    "    print (\"Tipo de dato d: \", img_edges_sobel.dtype)\n",
    "    # Visualizamos el mapa de elevacion, es decir el gradiente como una imagen 3D\n",
    "    xx, yy = np.mgrid[0:img_edges_sobel.shape[0], 0:img_edges_sobel.shape[1]]\n",
    "    fig = plt.figure(figsize=(15,10))\n",
    "    ax = fig.gca(projection='3d')\n",
    "    ax.plot_surface(xx, yy, img_edges_sobel, cmap=\"jet\")\n",
    "    ax.view_init(70, 10)\n",
    "    ax.set_title(\"Mapa de Elevación\")\n",
    "    plt.show()\n",
    "\n",
    "    markers = np.zeros_like(img)\n",
    "    markers[img < 0.1] = 1\n",
    "    markers[img > 0.6] = 2\n",
    "    print (\"Tipo de dato d: \", markers.dtype)\n",
    "\n",
    "    # Aplicamos el método de segmentación\n",
    "    segmentation = morphology.watershed(img_edges_sobel, markers)\n",
    "\n",
    "    #Etiquetamos las regiones y las mostramos\n",
    "    tags = measure.label(segmentation)\n",
    "    plt.imshow(tags, cmap=\"jet\")\n",
    "    plt.imshow(segmentation)"
   ]
  },
  {
   "cell_type": "code",
   "execution_count": null,
   "metadata": {},
   "outputs": [],
   "source": [
    "aplicar_watershed(img_to_gray_1)"
   ]
  },
  {
   "cell_type": "code",
   "execution_count": null,
   "metadata": {},
   "outputs": [],
   "source": [
    "aplicar_watershed(img_to_gray_13)"
   ]
  },
  {
   "cell_type": "code",
   "execution_count": null,
   "metadata": {},
   "outputs": [],
   "source": [
    "aplicar_watershed(img_to_gray_14)"
   ]
  },
  {
   "cell_type": "code",
   "execution_count": null,
   "metadata": {},
   "outputs": [],
   "source": [
    "aplicar_watershed(img_to_gray_15)"
   ]
  },
  {
   "cell_type": "code",
   "execution_count": null,
   "metadata": {},
   "outputs": [],
   "source": [
    "aplicar_watershed(img_to_gray_16)"
   ]
  },
  {
   "cell_type": "code",
   "execution_count": null,
   "metadata": {},
   "outputs": [],
   "source": [
    "aplicar_watershed(img_to_gray_17)"
   ]
  },
  {
   "cell_type": "code",
   "execution_count": null,
   "metadata": {},
   "outputs": [],
   "source": [
    "aplicar_watershed(img_to_gray_18)"
   ]
  },
  {
   "cell_type": "code",
   "execution_count": null,
   "metadata": {},
   "outputs": [],
   "source": [
    "aplicar_watershed(img_to_gray_19)"
   ]
  },
  {
   "cell_type": "code",
   "execution_count": null,
   "metadata": {},
   "outputs": [],
   "source": [
    "aplicar_watershed(img_to_gray_20)"
   ]
  },
  {
   "cell_type": "code",
   "execution_count": null,
   "metadata": {},
   "outputs": [],
   "source": [
    "aplicar_watershed(img_to_gray_21)"
   ]
  },
  {
   "cell_type": "code",
   "execution_count": null,
   "metadata": {},
   "outputs": [],
   "source": [
    "aplicar_watershed(img_to_gray_22)"
   ]
  },
  {
   "cell_type": "code",
   "execution_count": null,
   "metadata": {},
   "outputs": [],
   "source": [
    "aplicar_watershed(img_to_gray_23)"
   ]
  },
  {
   "cell_type": "markdown",
   "metadata": {},
   "source": [
    "<div style=\"padding:10px; border-radius:10px; border:2px solid #0F7CCC;\">\n",
    "<span style=\"color:#0F7CCC\"><h3>Operaciones morfologicas.</h3></span>"
   ]
  },
  {
   "cell_type": "markdown",
   "metadata": {},
   "source": [
    "## 1. Elementos estructurantes."
   ]
  },
  {
   "cell_type": "code",
   "execution_count": null,
   "metadata": {},
   "outputs": [],
   "source": [
    "sq = morphology.square(width=3)\n",
    "print(\"E.E. Cuadrado 3x3: \\n\", sq)"
   ]
  },
  {
   "cell_type": "code",
   "execution_count": null,
   "metadata": {},
   "outputs": [],
   "source": [
    "dia = morphology.diamond(radius=1)\n",
    "print(\"E.E. diamond: \\n\", dia)"
   ]
  },
  {
   "cell_type": "code",
   "execution_count": null,
   "metadata": {},
   "outputs": [],
   "source": [
    "rd = morphology.disk(radius=2)\n",
    "print(\"E.E. Redondo: \\n\", rd)"
   ]
  },
  {
   "cell_type": "markdown",
   "metadata": {},
   "source": [
    "## 2. Dilatación."
   ]
  },
  {
   "cell_type": "code",
   "execution_count": null,
   "metadata": {},
   "outputs": [],
   "source": [
    "def aplicar_elementos_estructurantes(img_iso, img_original):\n",
    "    img_dilatada_sq = morphology.dilation(img_iso, sq)\n",
    "    \n",
    "    img_dilatada_diamond = morphology.dilation(img_iso, dia)\n",
    "    \n",
    "    img_dilatada_radius = morphology.dilation(img_iso, rd)\n",
    "    titles = [\"Original\", \"isodata\", \"SE - Square\", \"SE - Diamond\", \"SE - Radius\"]\n",
    "    skdemo.imshow_all(img_original, img_iso_1, img_dilatada_sq, img_dilatada_diamond, img_dilatada_radius, titles= titles)\n",
    "    "
   ]
  },
  {
   "cell_type": "code",
   "execution_count": null,
   "metadata": {},
   "outputs": [],
   "source": [
    "aplicar_elementos_estructurantes(img_iso_1, image_1)"
   ]
  },
  {
   "cell_type": "code",
   "execution_count": null,
   "metadata": {},
   "outputs": [],
   "source": [
    "aplicar_elementos_estructurantes(img_iso_2, image_2)"
   ]
  },
  {
   "cell_type": "code",
   "execution_count": null,
   "metadata": {},
   "outputs": [],
   "source": [
    "aplicar_elementos_estructurantes(img_iso_3, image_3)"
   ]
  },
  {
   "cell_type": "code",
   "execution_count": null,
   "metadata": {},
   "outputs": [],
   "source": [
    "aplicar_elementos_estructurantes(img_iso_4, image_4)"
   ]
  },
  {
   "cell_type": "code",
   "execution_count": null,
   "metadata": {},
   "outputs": [],
   "source": [
    "aplicar_elementos_estructurantes(img_iso_5, image_5)"
   ]
  },
  {
   "cell_type": "code",
   "execution_count": null,
   "metadata": {},
   "outputs": [],
   "source": [
    "aplicar_elementos_estructurantes(img_iso_6, image_6)"
   ]
  },
  {
   "cell_type": "code",
   "execution_count": null,
   "metadata": {},
   "outputs": [],
   "source": [
    "aplicar_elementos_estructurantes(img_iso_7, image_7)"
   ]
  },
  {
   "cell_type": "code",
   "execution_count": null,
   "metadata": {},
   "outputs": [],
   "source": [
    "aplicar_elementos_estructurantes(img_iso_8, image_8)"
   ]
  },
  {
   "cell_type": "code",
   "execution_count": null,
   "metadata": {},
   "outputs": [],
   "source": [
    "aplicar_elementos_estructurantes(img_iso_9, image_9)"
   ]
  },
  {
   "cell_type": "code",
   "execution_count": null,
   "metadata": {},
   "outputs": [],
   "source": [
    "aplicar_elementos_estructurantes(img_iso_10, image_10)"
   ]
  },
  {
   "cell_type": "code",
   "execution_count": null,
   "metadata": {},
   "outputs": [],
   "source": [
    "aplicar_elementos_estructurantes(img_iso_11, image_11)"
   ]
  },
  {
   "cell_type": "code",
   "execution_count": null,
   "metadata": {},
   "outputs": [],
   "source": [
    "aplicar_elementos_estructurantes(img_iso_12, image_12)"
   ]
  },
  {
   "cell_type": "code",
   "execution_count": null,
   "metadata": {},
   "outputs": [],
   "source": [
    "aplicar_elementos_estructurantes(img_iso_13, image_13)"
   ]
  },
  {
   "cell_type": "code",
   "execution_count": null,
   "metadata": {},
   "outputs": [],
   "source": [
    "aplicar_elementos_estructurantes(img_iso_14, image_14)"
   ]
  },
  {
   "cell_type": "code",
   "execution_count": null,
   "metadata": {},
   "outputs": [],
   "source": [
    "aplicar_elementos_estructurantes(img_iso_15, image_15)"
   ]
  },
  {
   "cell_type": "code",
   "execution_count": null,
   "metadata": {},
   "outputs": [],
   "source": [
    "aplicar_elementos_estructurantes(img_iso_16, image_16)"
   ]
  },
  {
   "cell_type": "code",
   "execution_count": null,
   "metadata": {},
   "outputs": [],
   "source": [
    "aplicar_elementos_estructurantes(img_iso_17, image_17)"
   ]
  },
  {
   "cell_type": "code",
   "execution_count": null,
   "metadata": {},
   "outputs": [],
   "source": [
    "aplicar_elementos_estructurantes(img_iso_18, image_18)"
   ]
  },
  {
   "cell_type": "code",
   "execution_count": null,
   "metadata": {},
   "outputs": [],
   "source": [
    "aplicar_elementos_estructurantes(img_iso_19, image_19)"
   ]
  },
  {
   "cell_type": "code",
   "execution_count": null,
   "metadata": {},
   "outputs": [],
   "source": [
    "aplicar_elementos_estructurantes(img_iso_20, image_20)"
   ]
  },
  {
   "cell_type": "code",
   "execution_count": null,
   "metadata": {},
   "outputs": [],
   "source": [
    "aplicar_elementos_estructurantes(img_iso_21, image_21)"
   ]
  },
  {
   "cell_type": "code",
   "execution_count": null,
   "metadata": {},
   "outputs": [],
   "source": [
    "aplicar_elementos_estructurantes(img_iso_22, image_22)"
   ]
  },
  {
   "cell_type": "code",
   "execution_count": null,
   "metadata": {},
   "outputs": [],
   "source": [
    "aplicar_elementos_estructurantes(img_iso_23, image_23)"
   ]
  },
  {
   "cell_type": "markdown",
   "metadata": {},
   "source": [
    "## 3. Erosión."
   ]
  },
  {
   "cell_type": "code",
   "execution_count": null,
   "metadata": {},
   "outputs": [],
   "source": [
    "def aplicar_elementos_estructurantes_erosion(img_iso, img_original):\n",
    "    img_erosioned_sq = morphology.erosion(img_iso, sq)\n",
    "    \n",
    "    img_erosioned_diamond = morphology.erosion(img_iso, dia)\n",
    "    \n",
    "    img_erosioned_radius = morphology.erosion(img_iso, rd)\n",
    "    titles = [\"Original\", \"isodata\", \"SE - Square\", \"SE - Diamond\", \"SE - Radius\"]\n",
    "    skdemo.imshow_all(img_original, img_iso, img_erosioned_sq, img_erosioned_diamond, img_erosioned_radius, titles= titles)\n",
    "    "
   ]
  },
  {
   "cell_type": "code",
   "execution_count": null,
   "metadata": {},
   "outputs": [],
   "source": [
    "aplicar_elementos_estructurantes_erosion(img_iso_1, image_1)"
   ]
  },
  {
   "cell_type": "code",
   "execution_count": null,
   "metadata": {},
   "outputs": [],
   "source": [
    "aplicar_elementos_estructurantes_erosion(img_iso_2, image_2)"
   ]
  },
  {
   "cell_type": "code",
   "execution_count": null,
   "metadata": {},
   "outputs": [],
   "source": [
    "aplicar_elementos_estructurantes_erosion(img_iso_3, image_3)"
   ]
  },
  {
   "cell_type": "code",
   "execution_count": null,
   "metadata": {},
   "outputs": [],
   "source": [
    "aplicar_elementos_estructurantes_erosion(img_iso_4, image_4)"
   ]
  },
  {
   "cell_type": "code",
   "execution_count": null,
   "metadata": {},
   "outputs": [],
   "source": [
    "aplicar_elementos_estructurantes_erosion(img_iso_5, image_5)"
   ]
  },
  {
   "cell_type": "code",
   "execution_count": null,
   "metadata": {},
   "outputs": [],
   "source": [
    "aplicar_elementos_estructurantes_erosion(img_iso_6, image_6)"
   ]
  },
  {
   "cell_type": "code",
   "execution_count": null,
   "metadata": {},
   "outputs": [],
   "source": [
    "aplicar_elementos_estructurantes_erosion(img_iso_7, image_7)"
   ]
  },
  {
   "cell_type": "code",
   "execution_count": null,
   "metadata": {},
   "outputs": [],
   "source": [
    "aplicar_elementos_estructurantes_erosion(img_iso_8, image_8)"
   ]
  },
  {
   "cell_type": "code",
   "execution_count": null,
   "metadata": {},
   "outputs": [],
   "source": [
    "aplicar_elementos_estructurantes_erosion(img_iso_9, image_9)"
   ]
  },
  {
   "cell_type": "code",
   "execution_count": null,
   "metadata": {},
   "outputs": [],
   "source": [
    "aplicar_elementos_estructurantes_erosion(img_iso_10, image_10)"
   ]
  },
  {
   "cell_type": "code",
   "execution_count": null,
   "metadata": {},
   "outputs": [],
   "source": [
    "aplicar_elementos_estructurantes_erosion(img_iso_11, image_11)"
   ]
  },
  {
   "cell_type": "code",
   "execution_count": null,
   "metadata": {},
   "outputs": [],
   "source": [
    "aplicar_elementos_estructurantes_erosion(img_iso_12, image_12)"
   ]
  },
  {
   "cell_type": "code",
   "execution_count": null,
   "metadata": {},
   "outputs": [],
   "source": [
    "aplicar_elementos_estructurantes_erosion(img_iso_13, image_13)"
   ]
  },
  {
   "cell_type": "code",
   "execution_count": null,
   "metadata": {},
   "outputs": [],
   "source": [
    "aplicar_elementos_estructurantes_erosion(img_iso_14, image_14)"
   ]
  },
  {
   "cell_type": "code",
   "execution_count": null,
   "metadata": {},
   "outputs": [],
   "source": [
    "aplicar_elementos_estructurantes_erosion(img_iso_15, image_15)"
   ]
  },
  {
   "cell_type": "code",
   "execution_count": null,
   "metadata": {},
   "outputs": [],
   "source": [
    "aplicar_elementos_estructurantes_erosion(img_iso_16, image_16)"
   ]
  },
  {
   "cell_type": "code",
   "execution_count": null,
   "metadata": {},
   "outputs": [],
   "source": [
    "aplicar_elementos_estructurantes_erosion(img_iso_17, image_17)"
   ]
  },
  {
   "cell_type": "code",
   "execution_count": null,
   "metadata": {},
   "outputs": [],
   "source": [
    "aplicar_elementos_estructurantes_erosion(img_iso_18, image_18)"
   ]
  },
  {
   "cell_type": "code",
   "execution_count": null,
   "metadata": {},
   "outputs": [],
   "source": [
    "aplicar_elementos_estructurantes_erosion(img_iso_19, image_19)"
   ]
  },
  {
   "cell_type": "code",
   "execution_count": null,
   "metadata": {},
   "outputs": [],
   "source": [
    "aplicar_elementos_estructurantes_erosion(img_iso_20, image_20)"
   ]
  },
  {
   "cell_type": "code",
   "execution_count": null,
   "metadata": {},
   "outputs": [],
   "source": [
    "aplicar_elementos_estructurantes_erosion(img_iso_21, image_21)"
   ]
  },
  {
   "cell_type": "code",
   "execution_count": null,
   "metadata": {},
   "outputs": [],
   "source": [
    "aplicar_elementos_estructurantes_erosion(img_iso_22, image_22)"
   ]
  },
  {
   "cell_type": "code",
   "execution_count": null,
   "metadata": {},
   "outputs": [],
   "source": [
    "aplicar_elementos_estructurantes_erosion(img_iso_23, image_23)"
   ]
  },
  {
   "cell_type": "code",
   "execution_count": null,
   "metadata": {},
   "outputs": [],
   "source": [
    "def apply_opening_and_closing(img_iso, img_original):\n",
    "    # Apertura con una máscara cuadrada\n",
    "    img_open_sq = morphology.opening(img_iso, sq) # erosion -> dilatacion\n",
    "    skdemo.imshow_all(img_original, img_iso, img_open_sq, titles=[\"Original\", \"ISODATA\",\"Openening - sq\"]) \n",
    "\n",
    "    # Cierre con una máscara cuadrada\n",
    "    img_close_sq = morphology.closing(img_iso, sq) # dilatacion -> erosion\n",
    "    skdemo.imshow_all(img_original, img_iso, img_close_sq, titles=[\"Original\",\"ISODATA\",\"Closing - sq\"]) \n",
    "\n",
    "    img_open_dia = morphology.opening(img_iso, dia) # erosion -> dilatacion\n",
    "    skdemo.imshow_all(img_original, img_iso, img_open_dia, titles=[\"Original\", \"ISODATA\",\"Openening - diamond\"]) \n",
    "    \n",
    "    img_close_dia = morphology.closing(img_iso, dia) # dilatacion -> erosion\n",
    "    skdemo.imshow_all(img_original, img_iso, img_close_dia, titles=[\"Original\",\"ISODATA\",\"Closing - diamond\"]) \n",
    "    \n",
    "    img_open_rd = morphology.opening(img_iso, rd) # erosion -> dilatacion\n",
    "    skdemo.imshow_all(img_original, img_iso, img_open_rd, titles=[\"Original\", \"ISODATA\",\"Openening - rd\"]) \n",
    "    \n",
    "    img_close_rd = morphology.closing(img_iso, rd) # dilatacion -> erosion\n",
    "    skdemo.imshow_all(img_original, img_iso, img_close_rd, titles=[\"Original\",\"ISODATA\",\"Closing - rd\"]) "
   ]
  },
  {
   "cell_type": "code",
   "execution_count": null,
   "metadata": {},
   "outputs": [],
   "source": [
    "apply_opening_and_closing(img_iso_1, image_1)"
   ]
  },
  {
   "cell_type": "code",
   "execution_count": null,
   "metadata": {},
   "outputs": [],
   "source": [
    "apply_opening_and_closing(img_iso_2, image_2)"
   ]
  },
  {
   "cell_type": "code",
   "execution_count": null,
   "metadata": {},
   "outputs": [],
   "source": [
    "apply_opening_and_closing(img_iso_3, image_3)"
   ]
  },
  {
   "cell_type": "code",
   "execution_count": null,
   "metadata": {},
   "outputs": [],
   "source": [
    "apply_opening_and_closing(img_iso_4, image_4)"
   ]
  },
  {
   "cell_type": "code",
   "execution_count": null,
   "metadata": {},
   "outputs": [],
   "source": [
    "apply_opening_and_closing(img_iso_5, image_5)"
   ]
  },
  {
   "cell_type": "code",
   "execution_count": null,
   "metadata": {},
   "outputs": [],
   "source": [
    "apply_opening_and_closing(img_iso_6, image_6)"
   ]
  },
  {
   "cell_type": "code",
   "execution_count": null,
   "metadata": {},
   "outputs": [],
   "source": [
    "apply_opening_and_closing(img_iso_7, image_7)"
   ]
  },
  {
   "cell_type": "code",
   "execution_count": null,
   "metadata": {},
   "outputs": [],
   "source": [
    "apply_opening_and_closing(img_iso_8, image_8)"
   ]
  },
  {
   "cell_type": "code",
   "execution_count": null,
   "metadata": {},
   "outputs": [],
   "source": [
    "apply_opening_and_closing(img_iso_9, image_9)"
   ]
  },
  {
   "cell_type": "code",
   "execution_count": null,
   "metadata": {},
   "outputs": [],
   "source": [
    "apply_opening_and_closing(img_iso_10, image_10)"
   ]
  },
  {
   "cell_type": "code",
   "execution_count": null,
   "metadata": {},
   "outputs": [],
   "source": [
    "apply_opening_and_closing(img_iso_11, image_11)"
   ]
  },
  {
   "cell_type": "code",
   "execution_count": null,
   "metadata": {},
   "outputs": [],
   "source": [
    "apply_opening_and_closing(img_iso_12, image_12)"
   ]
  },
  {
   "cell_type": "code",
   "execution_count": null,
   "metadata": {},
   "outputs": [],
   "source": [
    "apply_opening_and_closing(img_iso_13, image_13)"
   ]
  },
  {
   "cell_type": "code",
   "execution_count": null,
   "metadata": {},
   "outputs": [],
   "source": [
    "apply_opening_and_closing(img_iso_14, image_14)"
   ]
  },
  {
   "cell_type": "code",
   "execution_count": null,
   "metadata": {},
   "outputs": [],
   "source": [
    "apply_opening_and_closing(img_iso_15, image_15)"
   ]
  },
  {
   "cell_type": "code",
   "execution_count": null,
   "metadata": {},
   "outputs": [],
   "source": [
    "apply_opening_and_closing(img_iso_16, image_16)"
   ]
  },
  {
   "cell_type": "code",
   "execution_count": null,
   "metadata": {},
   "outputs": [],
   "source": [
    "apply_opening_and_closing(img_iso_17, image_17)"
   ]
  },
  {
   "cell_type": "code",
   "execution_count": null,
   "metadata": {},
   "outputs": [],
   "source": [
    "apply_opening_and_closing(img_iso_18, image_18)"
   ]
  },
  {
   "cell_type": "code",
   "execution_count": null,
   "metadata": {},
   "outputs": [],
   "source": [
    "apply_opening_and_closing(img_iso_19, image_19)"
   ]
  },
  {
   "cell_type": "code",
   "execution_count": null,
   "metadata": {},
   "outputs": [],
   "source": [
    "apply_opening_and_closing(img_iso_20, image_20)"
   ]
  },
  {
   "cell_type": "code",
   "execution_count": null,
   "metadata": {},
   "outputs": [],
   "source": [
    "apply_opening_and_closing(img_iso_21, image_21)"
   ]
  },
  {
   "cell_type": "code",
   "execution_count": null,
   "metadata": {},
   "outputs": [],
   "source": [
    "apply_opening_and_closing(img_iso_22, image_22)"
   ]
  },
  {
   "cell_type": "code",
   "execution_count": null,
   "metadata": {},
   "outputs": [],
   "source": [
    "apply_opening_and_closing(img_iso_23, image_23)"
   ]
  },
  {
   "cell_type": "code",
   "execution_count": null,
   "metadata": {},
   "outputs": [],
   "source": []
  }
 ],
 "metadata": {
  "kernelspec": {
   "display_name": "Python 3",
   "language": "python",
   "name": "python3"
  },
  "language_info": {
   "codemirror_mode": {
    "name": "ipython",
    "version": 3
   },
   "file_extension": ".py",
   "mimetype": "text/x-python",
   "name": "python",
   "nbconvert_exporter": "python",
   "pygments_lexer": "ipython3",
   "version": "3.7.3"
  }
 },
 "nbformat": 4,
 "nbformat_minor": 2
}
