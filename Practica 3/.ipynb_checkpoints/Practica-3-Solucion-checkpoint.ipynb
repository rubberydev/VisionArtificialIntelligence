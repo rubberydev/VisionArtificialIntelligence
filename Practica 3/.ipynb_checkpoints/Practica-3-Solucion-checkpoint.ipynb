{
 "cells": [
  {
   "cell_type": "markdown",
   "metadata": {},
   "source": [
    "![Curso de Visión Artificial](imagenes/encabezado.png)\n",
    "\n"
   ]
  },
  {
   "cell_type": "markdown",
   "metadata": {},
   "source": [
    "# Procesamiento Básico de Imágenes II\n",
    "\n",
    "Después de la captura de las imágenes, el siguiente paso consiste en preprocesar la imagen a fin de eliminar el ruido en la misma y/o resaltar los objetos de interés. Como se mencinó en la clase, existen diferentes tipos de operaciones. En esta práctica nos centraremos en las operaciones puntuales, específicamente en las operaciones sobre el histograma.\n"
   ]
  },
  {
   "cell_type": "markdown",
   "metadata": {},
   "source": [
    "\n",
    "\n",
    "## El Histograma\n",
    "\n",
    "En la práctica pasada utilizamos un código básico para mostrar una imagen y su histograma, tanto para imágenes en niveles de gris como para imágenes a color.\n",
    "\n",
    "Dado en los proyectos de visión artificial es muy común visualizar usar el histograma de una imagen para detarminar que tipo de preprocesamiento aplicar a la misma, es necesario crear o utilizar una función que nos permita hacerlo. Lamentablemente, `skimage` no poseee dicha función, aunque esta si se encuentra implementada en un paquete creado para los tutoriales de `skimage`. Dicho paquete, llamado `skdemo`, se anexa a los archivos de esta práctica, por lo que empezaremos a utilizarlo.\n"
   ]
  },
  {
   "cell_type": "code",
   "execution_count": 1,
   "metadata": {},
   "outputs": [],
   "source": [
    "# Siempre que usemos matplotlib en Jupyter es necesario poner esta línea antes de cualquier otra\n",
    "%matplotlib inline\n",
    "\n",
    "# Importamos las bibliotecas necesarias y les asigamos un alias\n",
    "import skdemo\n",
    "import numpy as np\n",
    "from matplotlib import pyplot as plt\n",
    "from skimage import data\n",
    "from skimage import color\n",
    "from skimage import exposure\n",
    "from skimage import io\n",
    "\n"
   ]
  },
  {
   "cell_type": "markdown",
   "metadata": {},
   "source": [
    "Entonces, ahora usemos skdemo para mostrar el histograma de una imagen:"
   ]
  },
  {
   "cell_type": "code",
   "execution_count": null,
   "metadata": {},
   "outputs": [],
   "source": [
    "# Cargamos la imagen\n",
    "img = data.camera()\n",
    "\n",
    "# Calcula y muestra el histograma de la imagen\n",
    "skdemo.imshow_with_histogram(img)"
   ]
  },
  {
   "cell_type": "markdown",
   "metadata": {},
   "source": [
    "Ahora si, iniciemos con las operaciones sobre el histograma."
   ]
  },
  {
   "cell_type": "markdown",
   "metadata": {},
   "source": [
    "## Expansión del Histograma"
   ]
  },
  {
   "cell_type": "markdown",
   "metadata": {
    "collapsed": true
   },
   "source": [
    "Como vimos en clase, mejorar el contraste de una imagen nos permite identificar más fácilmente los objetos de interés en la imagen, además que facilita el proceso de su segmentación y la extracción de sus características, esto bien sea a ojo o utilizando diferentes tipos de algoritmos.\n",
    "\n",
    "Eche un vistazo a la imagen del fotografo y a su histograma:\n",
    "* Observe detenidamente el histograma: dado que la imagen es de tipo `uint8`, los valores de niveles de intensidad van de 0 a 255. \n",
    "* Advierta que hay algunos pocos píxeles hacia el valor 255 y otros pocos por debajo del 10. Esto nos indica que la imagen no tiene una distribución adecuada de los píxeles cercanos al blanco.\n",
    "\n",
    "En este caso, podemos aplicar una **Expansión del Histograma**:\n",
    "\n",
    "![alt text](imagenes/expansion.png)\n",
    "\n",
    "Para hacer esto podemos hacer uso de la función `rescale_intensity` de `Scikit-Image`:"
   ]
  },
  {
   "cell_type": "code",
   "execution_count": null,
   "metadata": {},
   "outputs": [],
   "source": [
    "# Los puntos que se están moviendo son m=10 y M=180, de acuerdo a la ecuación presentada en las diapositivas\n",
    "img_contraste = exposure.rescale_intensity(img, in_range=(10, 180))\n",
    "\n",
    "# Mostramos el histograma usando la biblioteca skdemo\n",
    "skdemo.imshow_with_histogram(img_contraste);\n"
   ]
  },
  {
   "cell_type": "markdown",
   "metadata": {},
   "source": [
    "Ahora, el contraste en la imagen es visiblemente más alto, y esto se puede observar en el histograma. El pico tan alto a   la derecha se genera porque todos los píxeles mayores a 180 (en la imagen original) se agruparon en el valor 255. Es decir, hay muchos píxeles que quedaron **saturados**.\n",
    "\n",
    "Esta función además tambien permite definir cual es el intervalo de los niveles de gris de salida, por ejemplo, apliquemos una expanción definiendo,además, el intervalo de salida de los niveles de gris.\n"
   ]
  },
  {
   "cell_type": "code",
   "execution_count": null,
   "metadata": {},
   "outputs": [],
   "source": [
    "# En este caso apliquemos la expansión a la imagen 3 de la práctica\n",
    "img3 = io.imread(\"imagenes/img3.jpg\")\n",
    "\n",
    "# Visualizamos la imagen y su histograma\n",
    "skdemo.imshow_with_histogram(img3);\n"
   ]
  },
  {
   "cell_type": "markdown",
   "metadata": {},
   "source": [
    "En el resultado vemos que los histogramas están concetrados en valores cercanos al nivel de gris 100, que es un nivel de gris oscuro, lo que hace que la imagen esté oscura. Apliquemos una expansión al histograma con valores de salida de los niveles de gris entre entre el 20 y el 220:\n"
   ]
  },
  {
   "cell_type": "code",
   "execution_count": null,
   "metadata": {
    "scrolled": true
   },
   "outputs": [],
   "source": [
    "# Los puntos que se están moviendo son m=0 y M=180, de acuerdo a la ecuación presentada en las diapositivas\n",
    "img3_contraste = exposure.rescale_intensity(img3, in_range=(0, 180), out_range=(20,220))\n",
    "\n",
    "# Mostramos el histograma usando la biblioteca skdemo\n",
    "skdemo.imshow_with_histogram(img3_contraste);"
   ]
  },
  {
   "cell_type": "markdown",
   "metadata": {},
   "source": [
    "Note que el contraste de la imagen mejoró, pero no lo suficiente. Tratemos ahora haciendo una expansión completa del histograma, es decir, con un rango de salida del 0 al 255 (el cual no se especifica en la transformación).\n",
    "\n",
    "\n",
    "<div class=\"alert alert-warning\">**Nota**: tenga presente que si desea visualizar una imagen es escala de grises se debe pasar el parámetro `cmap='gray'` en el llamado de la función `imshow` </div>"
   ]
  },
  {
   "cell_type": "code",
   "execution_count": null,
   "metadata": {},
   "outputs": [],
   "source": [
    "# Los puntos que se están moviendo son m=0 y M=180, de acuerdo a la ecuación presentada en las diapositivas\n",
    "img3_contraste = exposure.rescale_intensity(img3, in_range=(0, 180))\n",
    "\n",
    "# Mostramos el histograma usando la biblioteca skdemo\n",
    "skdemo.imshow_with_histogram(img3_contraste);"
   ]
  },
  {
   "cell_type": "markdown",
   "metadata": {},
   "source": [
    "En este caso particular, la aplicación de la expansión del histograma mejoró mucho con respecto a la iamgen original.\n"
   ]
  },
  {
   "cell_type": "markdown",
   "metadata": {},
   "source": [
    "\n",
    "## Ecualización del Histograma\n",
    "\n",
    "Si bien, la expansión del histograma suele funcionar, hay funciones un poco más \"inteligentes\" que logran mejores resultados. Una de ellas es la **ecualización del histograma** la cual busca generar una imagen cuyo histograma tenga una **distribución uniforme** entre los valores de intensidad. \n",
    "\n",
    "Empecemos entonces viendo la función de distribución acumulada (CDF) de las intensidades de la imagen del fotografo:"
   ]
  },
  {
   "cell_type": "code",
   "execution_count": null,
   "metadata": {},
   "outputs": [],
   "source": [
    "ax_image, ax_hist = skdemo.imshow_with_histogram(img)\n",
    "skdemo.plot_cdf(img, ax=ax_hist.twinx())"
   ]
  },
  {
   "cell_type": "markdown",
   "metadata": {},
   "source": [
    "\n",
    "La CDF muestra, para cada valor de intensidad, cual es la probabilidad cumulada de ese valor de intensidad.\n",
    "\n",
    "Una forma de determinar el contraste en la imagen es observar que tan uniforme es la distribución de valores de intensidad. Note que la capa del fotográfo contrasta marcadamente con el fondo, pero la distribución tan apretada de los píxeles en esa zona significa que los detalles de la capa están ocultos.\n",
    "\n",
    "Para mejorar el contraste, se deben dispersar las intensidades que están estrechamente distribuidas y combinar estas con las intensidades cercanas que solo utilizan unos pocos píxeles.\n",
    "\n",
    "Esta redistribución es exactamente lo que hace la **ecualización del histograma**. Y la CDF es importante porque una distribución perfectamente uniforme da una CDF que es una línea recta. \n",
    "\n",
    "Para ecualizar una imagen en `Skimage`, se usa el comando `equalize_hist` del paquete` exposure`:"
   ]
  },
  {
   "cell_type": "code",
   "execution_count": null,
   "metadata": {},
   "outputs": [],
   "source": [
    "# Se ecualiza la imagen\n",
    "img_ecualizada = exposure.equalize_hist(img)\n",
    "\n",
    "# Se calcula y muestra el histograma y la CDF de la imagen ecualizada\n",
    "ax_image, ax_hist = skdemo.imshow_with_histogram(img_ecualizada)\n",
    "skdemo.plot_cdf(img_ecualizada, ax=ax_hist.twinx())"
   ]
  },
  {
   "cell_type": "markdown",
   "metadata": {
    "collapsed": true
   },
   "source": [
    "Note que los píxeles oscuros que describen el abrigo se han extendido, esto permite ver los detalles que antes no se veían. Además, note que la función de distribución acumulada es más pareja y se aproxima a una línea recta.\n",
    "\n",
    "<div class=\"alert alert-warning\"> **NOTA: ** tenga presente que los niveles de intensidad cambiaron y ya no están en el rango [0, 255], sino en el rango [0.0, 1.0], lo que significa que el tipos de la imagen cambió.</div>"
   ]
  },
  {
   "cell_type": "code",
   "execution_count": null,
   "metadata": {},
   "outputs": [],
   "source": [
    "img_ecualizada.dtype"
   ]
  },
  {
   "cell_type": "markdown",
   "metadata": {},
   "source": [
    "\n",
    "<div class=\"alert alert-info\"> Las funciones en `scikit-image` normalmente funcionan con cualquier tipo de datos de  entrada, pero la salida puede cambiar dependiendo del algoritmo. Si bien ` uint8` es realmente eficiente en términos de almacenamiento, algunos cálculos que usan imágenes `uint8` pueden ser problemáticos en ciertos casos.\n",
    "\n",
    "Si necesita un tipo de datos específico, consulte las funciones de conversión de imágenes.</div>"
   ]
  },
  {
   "cell_type": "markdown",
   "metadata": {},
   "source": [
    "\n",
    "## Ecualización Adaptativa del Histograma\n",
    "\n",
    "Un problema de la ecualización del histograma es que esta tiende generar imágenes cuyo contraste es artificialmente alto. No obstante, la ecualización se puede mejorar solamente si se aplica localmente a ciertas partes de la imagen, en lugar de aplicarla a la imagen completa. Note que en el ejemplo anterior, el contraste en la capa del fotógrafo es mucho mejor, pero el contraste en la hierba se reduce.\n",
    "\n",
    "La **ecualización adaptativa del histograma con limitaciones de contraste (CLAHE)** aborda estos problemas. Los detalles de implementación no se presentan, pero ver el resultado es muy útil:"
   ]
  },
  {
   "cell_type": "code",
   "execution_count": null,
   "metadata": {},
   "outputs": [],
   "source": [
    "img_ecualizada = exposure.equalize_adapthist(img)\n",
    "\n",
    "ax_image, ax_hist = skdemo.imshow_with_histogram(img_ecualizada)\n",
    "skdemo.plot_cdf(img_ecualizada, ax=ax_hist.twinx())\n"
   ]
  },
  {
   "cell_type": "markdown",
   "metadata": {},
   "source": [
    "En comparación con la ecualización de histograma simple, note que se mantiene contraste alto en la capa, pero el contraste en la hierba también se mejora, manteniendo el contraste del cielo. Esto hace que la imagen no se vea excesivamente mejorada.\n",
    "\n",
    "De nuevo, tenga cuidado con el tipo de dato de salida, puesto que en este caso la imagen es de tipo `uint16`.\n",
    "\n",
    "Más imformación sobre la ecualización adaptativa se puede consultar en:\n",
    "\n",
    "http://scikit-image.org/docs/dev/api/skimage.exposure.html \n",
    "\n"
   ]
  },
  {
   "cell_type": "markdown",
   "metadata": {},
   "source": [
    "# Entregable de la Práctica\n"
   ]
  },
  {
   "cell_type": "markdown",
   "metadata": {},
   "source": [
    "### Ejercicio 1. Operaciones Entre Múltiples Imágenes\n",
    "\n",
    "Las operaciones entre múltiples imágenes son comunes en la etapa de preprocesamiento. Una aplicación frecuente de este tipo de operaciones se presenta en el proceso de extracción del background (o fondo) de una imagen para segmentar los objetos de interés en la misma, por ejemplo, para extraer los objetos en movimiento de un video.\n",
    "\n",
    "Siga los pasos a continuación para segmentar los objetos en movimiento en una vía rápida:"
   ]
  },
  {
   "cell_type": "code",
   "execution_count": null,
   "metadata": {},
   "outputs": [],
   "source": [
    "# 1. Creee un vector de ceros de 240x320x3x100 llamado imagenes\n",
    "imagenes = np.zeros((240,320,3,100))"
   ]
  },
  {
   "cell_type": "code",
   "execution_count": null,
   "metadata": {},
   "outputs": [],
   "source": [
    "# 2. Almacene en dicho vector las primeras 100 imágenes del vídeo en la carpeta highway, saltando de dos en dos\n",
    "#    Para realizar este punto revise como dar formato a enteros con la función format\n",
    "#    Cree una lista con la url de las imagenes a cargar\n",
    "lista = []\n",
    "for i in range(0,100):\n",
    "    lista.append(\"imagenes/highway/in{:0>6d}.jpg\".format((i*2+1)))\n",
    "\n",
    "# 3. Lea las imagenes como una colección\n",
    "ic = io.imread_collection(lista)\n",
    "\n",
    "# 4. Concatene las imágenes en un arreglo de 100x240x320x3\n",
    "imagenes = io.concatenate_images(ic)\n",
    "\n",
    "# 5. Visualice 4 de las imágenes cargadas en un subplot de 4x4\n",
    "f, axes = plt.subplots(2, 2, figsize=(20,10))\n",
    "axes = axes.ravel()\n",
    "\n",
    "for ax in axes:\n",
    "    ax.axis('off')\n",
    "\n",
    "(ax_1, ax_2, ax_3, ax_4) = axes\n",
    " \n",
    "ax_1.imshow(imagenes[0,:,:,:])\n",
    "ax_2.imshow(imagenes[25,:,:,:])\n",
    "ax_3.imshow(imagenes[50,:,:,:])\n",
    "ax_4.imshow(imagenes[75,:,:,:])\n"
   ]
  },
  {
   "cell_type": "code",
   "execution_count": null,
   "metadata": {},
   "outputs": [],
   "source": [
    "# 6. Estime el background de la escena, para ello promedie las imágenes leídas anteriormente\n",
    "background = np.mean(imagenes, axis=0).astype('uint8')\n",
    "\n",
    "# 7. Muestre el background calculado\n",
    "plt.imshow(background)\n",
    "plt.axis(\"off\")"
   ]
  },
  {
   "cell_type": "code",
   "execution_count": null,
   "metadata": {},
   "outputs": [],
   "source": [
    "# 8. Lea la imagen de prueba (in001637.jpg)  en la variable test \n",
    "test = io.imread(\"highway/in001637.jpg\")\n",
    "\n",
    "# 9. Restar las imagenes de test y background, haciendoq ue la suma sea entera\n",
    "out = (test.astype(int) - background.astype(int))\n",
    "\n",
    "# 10. Sature los píxeles con valores <0 y >255\n",
    "out[out < 0] = 0\n",
    "out[out > 255] = 255\n",
    "\n",
    "# 11. Cambie el tipo de la imagen a uint8\n",
    "out = out.astype(np.uint8)\n",
    "\n",
    "# 12. Muestre la imagen resultante y su histograma\n",
    "skdemo.imshow_with_histogram(out)\n"
   ]
  },
  {
   "cell_type": "code",
   "execution_count": null,
   "metadata": {},
   "outputs": [],
   "source": [
    "# 13. Haga una expansión de la imagen en el rango 0, 180\n",
    "out2 = exposure.rescale_intensity(out, in_range=(0, 180))\n",
    "\n",
    "# 14. Umbralice cada canal por separado mantenga los píxeles >= 128\n",
    "Ro = out2[:,:,0] >= 128;\n",
    "Go = out2[:,:,1] >= 128;\n",
    "Bo = out2[:,:,2] >= 128;\n",
    "\n",
    "# 15. Genere una imagen de salida que corresponda al OR entre los canales\n",
    "out3 = np.logical_or(Ro, Go)\n",
    "out3 = np.logical_or(out3, Bo)\n",
    "\n",
    "# 16. Muestre los objetos de interés en la imagen (out3)\n",
    "plt.imshow(Bo, cmap=\"gray\")\n",
    "plt.axis(\"off\")\n"
   ]
  },
  {
   "cell_type": "code",
   "execution_count": null,
   "metadata": {},
   "outputs": [],
   "source": []
  }
 ],
 "metadata": {
  "kernelspec": {
   "display_name": "Python 3",
   "language": "python",
   "name": "python3"
  },
  "language_info": {
   "codemirror_mode": {
    "name": "ipython",
    "version": 3
   },
   "file_extension": ".py",
   "mimetype": "text/x-python",
   "name": "python",
   "nbconvert_exporter": "python",
   "pygments_lexer": "ipython3",
   "version": "3.7.3"
  }
 },
 "nbformat": 4,
 "nbformat_minor": 2
}
