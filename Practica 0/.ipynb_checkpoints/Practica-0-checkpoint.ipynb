{
 "cells": [
  {
   "cell_type": "markdown",
   "metadata": {},
   "source": [
    "![Curso de Visión Artificial](imagenes/encabezado.png)\n"
   ]
  },
  {
   "cell_type": "markdown",
   "metadata": {},
   "source": [
    "# Introducción a Python 3 con Jupyter\n",
    "\n",
    "\n",
    "En este curso utilizaremos como base para las prácticas el `notebook` de Jupyter. Jupyter no es más que un intérprete de Python con una interfaz interactiva más fácil de utilizar que la línea de comandos propia de Python. Sin embargo, para el desarrollo de programas más complejos se recomienda el uso de algún IDE como Spyder. \n",
    "\n",
    "Los `notebooks` de Jupyter, como este que estás leyendo, pueden contener texto, imágenes, pero lo más importante es que pueden contener código ejecutable agrupado por celdas. \n",
    "\n",
    "Se debe tener en cuenta que un notebook no es más que un archivo con extensión .ipynb que está almacenado en el PC en la ruta que aparece. Si en esa carpeta no hay `notebooks`, veremos un mensaje indicando que la lista de notebooks está vacía.\n",
    "\n",
    "Al crear un nuevo `notebook` o al abrir uno existente, se despliega la interfaz de Jupyter en la que podemos empezar a trabajar. Cada una de las celdas del notebbok está marcada por la palabra `In` [<n>] y están numeradas. Tan solo tenemos que escribir el código en ella y usar el atajo <span style=\"background-color:#DDDDDD; color:blue; font-family:Courier new\">**shift + Enter** </span> para ejecutar su contenido. El resultado de la celda se muestra en el campo `Out` [<n>], también numerado y coincidiendo con la celda que acabamos de ejecutar. Esto es importante, como ya veremos luego.\n",
    "\n",
    "Vamos ahora a hacer una introducción muy rápida a la sintaxis de Python, y a medida que avancemos iremos describiendo más características de Jupyter que nos pueden resultar útiles.\n"
   ]
  },
  {
   "cell_type": "markdown",
   "metadata": {},
   "source": [
    "# Ejecutando el contenido de una celda\n",
    "\n",
    "Para probar como se ejecuta el contenido de una celda basta con oprimir las teclas <span style=\"background-color:#DDDDDD; color:blue; font-family:Courier new\"> **shift + Enter**</span>. Prueba ejecutando la siguiente celda ..."
   ]
  },
  {
   "cell_type": "code",
   "execution_count": null,
   "metadata": {},
   "outputs": [],
   "source": [
    "print (\"Hola Mundo! \\nEste es mi primera línea de código usando Jupyter\")"
   ]
  },
  {
   "cell_type": "markdown",
   "metadata": {
    "collapsed": true
   },
   "source": [
    "\n",
    "\n",
    "\n",
    "# Operadores de Entrada y Salida\n",
    "\n",
    "En Python hay dos operadores importantes que son los operadores de entrada (<span style=\"background-color:#DDDDDD; color:blue; font-family:Courier new\">**input**</span>) y de salida (<span style=\"background-color:#DDDDDD; color:blue; font-family:Courier new\">**print**</span>). A continuación encuentra algunos ejemplos de como usarlos."
   ]
  },
  {
   "cell_type": "code",
   "execution_count": null,
   "metadata": {},
   "outputs": [],
   "source": [
    "# Para mostrar un mensaje en pantalla\n",
    "print('Hola mundo, nos vemos de nuevo!') "
   ]
  },
  {
   "cell_type": "code",
   "execution_count": null,
   "metadata": {},
   "outputs": [],
   "source": [
    "# Para mostrar el valor de una o más variables \n",
    "ndays = 365\n",
    "print('Hay', ndays, 'en un año')"
   ]
  },
  {
   "cell_type": "code",
   "execution_count": null,
   "metadata": {},
   "outputs": [],
   "source": [
    "# Para solicitar al usuario una cadena de caracteres\n",
    "nombre = input('Escribe tu nombre: ')"
   ]
  },
  {
   "cell_type": "code",
   "execution_count": null,
   "metadata": {},
   "outputs": [],
   "source": [
    "# Para solicitar al usuario un número entero\n",
    "edad = int(input(nombre + ' ingresa tu edad como un número entero: ')) "
   ]
  },
  {
   "cell_type": "code",
   "execution_count": null,
   "metadata": {},
   "outputs": [],
   "source": [
    "# Para solicitar al usuario un número real\n",
    "peso = float(input('Ahora ingresa tu peso en Kg: '))"
   ]
  },
  {
   "cell_type": "code",
   "execution_count": null,
   "metadata": {},
   "outputs": [],
   "source": [
    "print('Tu nombre es', nombre)\n",
    "print('Tienes', edad, 'años')\n",
    "print('Indicaste que pesas', peso, 'Kg.')"
   ]
  },
  {
   "cell_type": "markdown",
   "metadata": {},
   "source": [
    "# Tipos de Datos\n",
    "\n",
    "\n",
    "## Variables Numéricas\n",
    "\n",
    "Como es habitual en todos los lenguajes de programación se cuenta con diferentes tipos de datos numéricos: enteros (<span style=\"color:green; font-family:Courier new\">int</span>), reales (<span style=\"color:green; font-family:Courier new\">float</span>) y complejos (<span style=\"color:green; font-family:Courier new\">complex</span>). "
   ]
  },
  {
   "cell_type": "code",
   "execution_count": null,
   "metadata": {},
   "outputs": [],
   "source": [
    "# En Python el tipo de dato de una variable es dinámico, por esta razón no se especifica su tipo cuando se crea\n",
    "\n",
    "# Varibales enteras\n",
    "a = 0\n",
    "b = 2\n",
    "\n",
    "print (\"Variables Enteras: \")\n",
    "print (\"a =\", a)\n",
    "print (\"b =\", b)\n",
    "print (\"Typo de a: \", type(a))\n",
    "\n",
    "# Variables reales\n",
    "x = 2.5\n",
    "y = x + 1.5\n",
    "\n",
    "print (\"\\n\\nVariables Reales: \")\n",
    "print (\"x =\", x)\n",
    "print (\"y =\", y)\n",
    "print (\"Typo de y: \", type(y))\n",
    "\n",
    "\n",
    "# Variables complejas\n",
    "z = 3j + 2\n",
    "w = z + b\n",
    "\n",
    "print (\"\\n\\nVariables Complejas: \")\n",
    "print (\"z =\", z)\n",
    "print (\"w =\", w)\n",
    "print (\"Typo de w: \", type(w))\n"
   ]
  },
  {
   "cell_type": "markdown",
   "metadata": {},
   "source": [
    "\n",
    "## Variables Booleanas\n",
    "\n",
    "Las variables boolenas son aquellas que almacenan un valor de verdad. En Python los valores de verdad son <span style=\"background-color:#DDDDDD; color:green; font-family:Courier new\">True</span> y <span style=\"background-color:#DDDDDD; color:green; font-family:Courier new\">False</span>. \n",
    "\n",
    "<span style=\"color:#A43D39\">**Nota:**</span>Tenga presentan que empiezan en mayúscula!"
   ]
  },
  {
   "cell_type": "code",
   "execution_count": null,
   "metadata": {},
   "outputs": [],
   "source": [
    "# Variables Booleanas\n",
    "p = True\n",
    "q = False\n",
    "r = p and q\n",
    "\n",
    "print (\"Variables Booleanas: \")\n",
    "print (\"p =\", p)\n",
    "print (\"q =\", q)\n",
    "print (\"Typo de r: \", type(r))"
   ]
  },
  {
   "cell_type": "markdown",
   "metadata": {},
   "source": [
    "\n",
    "\n",
    "## Variables tipo Cadena (Strings)\n",
    "\n",
    "A diferencia de otros lenguajes de programación, Python tiene diferentes formas de crear cadenas, usando comillas (<span style=\"background-color:#DDDDDD; color:green; font-family:Courier new\">'</span>) sencillas o comillas dobles (<span style=\"background-color:#DDDDDD; color:green; font-family:Courier new\">\"</span>)."
   ]
  },
  {
   "cell_type": "code",
   "execution_count": null,
   "metadata": {},
   "outputs": [],
   "source": [
    "# Variable String con comillas sensillas\n",
    "cad1 = 'Esto es una cadena con comilla sencilla'\n",
    "\n",
    "# Variable String con comillas dobles\n",
    "cad2 = \"Esto es una cadena con comillas dobles\"\n",
    "\n",
    "# Variable String con comillas sensillas y de múltiples líneas\n",
    "cad3 = '''Esto es una cadena con,\n",
    "            Multiples líneas'''\n",
    "\n",
    "print (cad1)\n",
    "print ('\\n'+cad2)\n",
    "print ('\\n'+cad3)"
   ]
  },
  {
   "cell_type": "code",
   "execution_count": null,
   "metadata": {},
   "outputs": [],
   "source": [
    "# El operador + se usa para concatenar cadanas\n",
    "cad4 = 'Así puedo unir' + ' dos cadenas'\n",
    "\n",
    "print(cad4)"
   ]
  },
  {
   "cell_type": "code",
   "execution_count": null,
   "metadata": {},
   "outputs": [],
   "source": [
    "# El operador * se utiliza para repetir una cadena un número de veces\n",
    "cad5 = \"ABC \"*4\n",
    "\n",
    "print(cad5)"
   ]
  },
  {
   "cell_type": "code",
   "execution_count": null,
   "metadata": {},
   "outputs": [],
   "source": [
    "# La función len se usa para determinar la longitud de una cadena\n",
    "print ('La longitud de cad4 es: ', len(cad4))"
   ]
  },
  {
   "cell_type": "markdown",
   "metadata": {},
   "source": [
    "### Podemos jugar un poco con las cadenas"
   ]
  },
  {
   "cell_type": "code",
   "execution_count": null,
   "metadata": {},
   "outputs": [],
   "source": [
    "msg = 'Gooooool'\n",
    "if msg == 'Gooooool':\n",
    "     print('Gané!')"
   ]
  },
  {
   "cell_type": "code",
   "execution_count": null,
   "metadata": {},
   "outputs": [],
   "source": [
    "if msg < 'n':\n",
    "    print('a-m')\n",
    "else:\n",
    "    print('n-z') #las cadenas se comparan con un caracter"
   ]
  },
  {
   "cell_type": "code",
   "execution_count": null,
   "metadata": {},
   "outputs": [],
   "source": [
    "'e' in msg  #aquí la salida es booleana (True o False) y pregunta por un caracter particual dentro del string"
   ]
  },
  {
   "cell_type": "code",
   "execution_count": null,
   "metadata": {},
   "outputs": [],
   "source": [
    "'ool' in msg  #o por una cadena dentro de la cadena"
   ]
  },
  {
   "cell_type": "code",
   "execution_count": null,
   "metadata": {},
   "outputs": [],
   "source": [
    "msg.upper()  #lo volvemos graaaaaande"
   ]
  },
  {
   "cell_type": "code",
   "execution_count": null,
   "metadata": {},
   "outputs": [],
   "source": [
    "msg.count('o') #contamos el número de o's"
   ]
  },
  {
   "cell_type": "code",
   "execution_count": null,
   "metadata": {},
   "outputs": [],
   "source": [
    "msg.replace('G','S') #podemos reemplazar caracteres"
   ]
  },
  {
   "cell_type": "code",
   "execution_count": null,
   "metadata": {},
   "outputs": [],
   "source": [
    "msg.replace('o','') #o eliminarlos"
   ]
  },
  {
   "cell_type": "code",
   "execution_count": null,
   "metadata": {},
   "outputs": [],
   "source": [
    "msg.islower() # y se pueden preguntar cosas sobre la cadena"
   ]
  },
  {
   "cell_type": "markdown",
   "metadata": {},
   "source": [
    "# Operadores"
   ]
  },
  {
   "cell_type": "markdown",
   "metadata": {},
   "source": [
    "## Operadores Aritméticos\n",
    "\n",
    "Son los operadores que nos permiten operar variables o valores numéricos. Estos son:"
   ]
  },
  {
   "cell_type": "code",
   "execution_count": null,
   "metadata": {},
   "outputs": [],
   "source": [
    "# Se de claran dos variables, una entera y otra real\n",
    "x = 7;\n",
    "y = 2.5\n",
    "\n",
    "# Suma, Resta, Multiplicación y División\n",
    "a = x + y\n",
    "b = x - y\n",
    "c = x * y\n",
    "d = x / y\n",
    "\n",
    "print(\"Resultado de las operaciones: \\na =\", a, \"\\nb =\", b, \"\\nc =\", c, \"\\nd =\", d)"
   ]
  },
  {
   "cell_type": "code",
   "execution_count": null,
   "metadata": {},
   "outputs": [],
   "source": [
    "# Se declara otra variable entera\n",
    "z = 2\n",
    "\n",
    "# Div: el cociente de la división entera\n",
    "e = x // z\n",
    "\n",
    "# Módulo: el residuo de la división entera\n",
    "f = x % z\n",
    "\n",
    "# La potencia\n",
    "g = x ** z;\n",
    "\n",
    "print(\"Resultado de las operaciones: \\ne =\", e, \"\\nf =\", f, \"\\ng =\", g)"
   ]
  },
  {
   "cell_type": "markdown",
   "metadata": {},
   "source": [
    "## Operadores Lógicos\n",
    "\n",
    "Estos operadores tienen como entrada valores boolenaos y generan como resultado otro booleano."
   ]
  },
  {
   "cell_type": "code",
   "execution_count": null,
   "metadata": {},
   "outputs": [],
   "source": [
    "# Se declaran dos variables lógicas\n",
    "p = True\n",
    "q = False\n",
    "\n",
    "# Conjunción - and\n",
    "r = p and q\n",
    "\n",
    "# Disyunción - or\n",
    "s = p or q\n",
    "\n",
    "# Negación - not\n",
    "t = not p\n",
    "\n",
    "print(\"Resultado de las operaciones: \\nr =\", r, \"\\ns =\", s, \"\\nt =\", t)"
   ]
  },
  {
   "cell_type": "markdown",
   "metadata": {},
   "source": [
    "## Operadores Relacionales\n",
    "\n",
    "Este tipo de operadores es, normalmente, utilizado en las condiciones de las estructuras de control de flujo. Tienen como entrada valores numéricos y devuelven un valor booleano."
   ]
  },
  {
   "cell_type": "code",
   "execution_count": null,
   "metadata": {},
   "outputs": [],
   "source": [
    "# Se declaran dos variables enteras\n",
    "x = 10 \n",
    "y = 5\n",
    "\n",
    "# Uso de los operadores relacionales\n",
    "a = (x == y)\n",
    "b = (x != y)\n",
    "c = (x < y)\n",
    "d = (x > y)\n",
    "e = (x <= y)\n",
    "f = (x >= y)\n",
    "\n",
    "print(\"Resultado de los operadores relacionales: \\na =\", a, \"\\nb =\", b, \"\\nc =\", c, \"\\nd =\", d, \"\\ne =\", e, \"\\nf =\", f)"
   ]
  },
  {
   "cell_type": "markdown",
   "metadata": {},
   "source": [
    "\n",
    "# Estructuras de Control de Flujo\n",
    "\n",
    "Las estructuras de control de flujo en Python son los condicionales <span style=\"background-color:#DDDDDD; color:blue; font-family:Courier new\"> if - elif - else</span> y los cilos <span style=\"background-color:#DDDDDD; color:blue; font-family:Courier new\">for</span> y <span style=\"background-color:#DDDDDD; color:blue; font-family:Courier new\">while</span>. \n",
    "\n"
   ]
  },
  {
   "cell_type": "markdown",
   "metadata": {},
   "source": [
    "## Estructuras de control (I): condicionales\n",
    "\n",
    "En Python, los condicionales siguen esta estructura:"
   ]
  },
  {
   "cell_type": "code",
   "execution_count": null,
   "metadata": {},
   "outputs": [],
   "source": [
    "print(x, y)\n",
    "if x > y:\n",
    "    print(\"x es mayor que y\")\n",
    "    print(\"x sigue siendo mayor que y\")"
   ]
  },
  {
   "cell_type": "markdown",
   "metadata": {},
   "source": [
    "<div style=\"padding:20px; border-radius: 15px; border: 2px solid #A43D39; background:#EEEEEE\">\n",
    "<span style=\"color:#A43D39\"><h3>**Importante:**</h3></span> En Python los bloques se delimitan por el sangrado (o identación). Una sangría válida consta de cuatro espacios. Cuando ponemos los dos puntos al final de la primera línea del condicional, todo lo que vaya a continuación con *un* nivel de sangrado superior se considera dentro del condicional. En cuanto escribimos la primera línea con un nivel de sangrado inferior, hemos cerrado el condicional. Si no seguimos esta regla por completo Python generará errores; es una forma de forzar a que el código sea legible.</div>"
   ]
  },
  {
   "cell_type": "code",
   "execution_count": null,
   "metadata": {},
   "outputs": [],
   "source": [
    "# Segunda línea del condicional mal identada\n",
    "if 1 < 0:\n",
    "    print(\"1 es menor que 0\")\n",
    "print(\"1 sigue siendo menor que 0\")  # ESTO ESTÁ MAL!!!!!"
   ]
  },
  {
   "cell_type": "code",
   "execution_count": null,
   "metadata": {},
   "outputs": [],
   "source": [
    "# Segunda línea del condicional mal identada ---> Se genera un error en la ejecución\n",
    "if 1 < 0:\n",
    "    print(\"1 es menor que 0\")\n",
    "     print(\"1 sigue siendo menor que 0\")"
   ]
  },
  {
   "cell_type": "markdown",
   "metadata": {},
   "source": [
    "Si queremos añadir ramas adicionales al condicional, podemos emplear la sentencia <span style=\"background-color:#DDDDDD; color:blue; font-family:Courier new\">elif</span> (abreviatura de <span style=\"background-color:#DDDDDD; color:blue; font-family:Courier new\">else if</span>). Para la parte final, que debe ejecutarse si ninguna de las condiciones anteriores se ha cumplido, usamos la sentencia <span style=\"background-color:#DDDDDD; color:blue; font-family:Courier new\">else</span>:"
   ]
  },
  {
   "cell_type": "code",
   "execution_count": null,
   "metadata": {},
   "outputs": [],
   "source": [
    "print(\"x =\", x, \"y =\", y)\n",
    "if x > y:\n",
    "    print(\"x es mayor que y\")\n",
    "elif x == y:\n",
    "    print(\"x es igual a y\")\n",
    "else:\n",
    "    print(\"x no es ni mayor ni igual que y\")"
   ]
  },
  {
   "cell_type": "code",
   "execution_count": null,
   "metadata": {},
   "outputs": [],
   "source": [
    "# Un par de ejemplos sencillos adicionales\n",
    "\n",
    "x = 3\n",
    "if x == 3:\n",
    "    print('x es 3')  #No olvides indentar!!!"
   ]
  },
  {
   "cell_type": "code",
   "execution_count": null,
   "metadata": {},
   "outputs": [],
   "source": [
    "mark = 80\n",
    "if mark >= 50:\n",
    "    print('pasa')\n",
    "else:\n",
    "    print('no pasa') #Igual aquí con la indentación"
   ]
  },
  {
   "cell_type": "code",
   "execution_count": null,
   "metadata": {},
   "outputs": [],
   "source": [
    "mark = 80\n",
    "if mark >= 65:\n",
    "    print('crédito')\n",
    "elif mark >= 50:     #el elif lo puedes usar las veces que quieras\n",
    "    print('pasa')\n",
    "else:\n",
    "    print('no pasa')"
   ]
  },
  {
   "cell_type": "markdown",
   "metadata": {},
   "source": [
    "\n",
    "\n",
    "## Estructuras de control (II): ciclos\n",
    "\n",
    "Los bucles también se demarcan con el sangrado. En Python hay dos tipos de bucles: <span style=\"background-color:#DDDDDD; color:blue; font-family:Courier new\">while</span> y <span style=\"background-color:#DDDDDD; color:blue; font-family:Courier new\">for</span>."
   ]
  },
  {
   "cell_type": "code",
   "execution_count": null,
   "metadata": {},
   "outputs": [],
   "source": [
    "i = 0\n",
    "while i < 5:\n",
    "    print(i)\n",
    "    i += 1"
   ]
  },
  {
   "cell_type": "markdown",
   "metadata": {},
   "source": [
    "Podemos interrumpir el bucle a la mitad usando la sentencia <span style=\"background-color:#DDDDDD; color:blue; font-family:Courier new\">break</span>:"
   ]
  },
  {
   "cell_type": "code",
   "execution_count": null,
   "metadata": {},
   "outputs": [],
   "source": [
    "i = 0\n",
    "while i < 5:\n",
    "    print(i)\n",
    "    i += 1\n",
    "    if i == 3:\n",
    "        break"
   ]
  },
  {
   "cell_type": "markdown",
   "metadata": {},
   "source": [
    "Un bloque <span style=\"background-color:#DDDDDD; color:blue; font-family:Courier new\">else</span> justo después del bucle se ejecuta si este no ha sido interrumpido por nosotros:"
   ]
  },
  {
   "cell_type": "code",
   "execution_count": null,
   "metadata": {},
   "outputs": [],
   "source": [
    "ii = 0\n",
    "while ii < 5:\n",
    "    print(ii)\n",
    "    ii += 1\n",
    "    if ii == 3:\n",
    "        break\n",
    "else:\n",
    "    print(\"El bucle ha terminado\")"
   ]
  },
  {
   "cell_type": "code",
   "execution_count": null,
   "metadata": {},
   "outputs": [],
   "source": [
    "ii = 0\n",
    "while ii < 5:\n",
    "    print(ii)\n",
    "    ii += 1\n",
    "    #if ii == 3:\n",
    "        #break\n",
    "else:\n",
    "    print(\"El bucle ha terminado\")"
   ]
  },
  {
   "cell_type": "markdown",
   "metadata": {},
   "source": [
    "El otro bucle en Python es el bucle <span style=\"background-color:#DDDDDD; color:blue; font-family:Courier new\">for</span>, y funciona de manera un poco peculiar. La idea es recorrer un conjunto de elementos:"
   ]
  },
  {
   "cell_type": "code",
   "execution_count": null,
   "metadata": {},
   "outputs": [],
   "source": [
    "for ii in 1, 2, 4:\n",
    "    print(ii)"
   ]
  },
  {
   "cell_type": "markdown",
   "metadata": {},
   "source": [
    "Una cosa que haremos de manera recurrente será recorrer un rango de números. Esto lo conseguimos con la función <span style=\"background-color:#DDDDDD; color:blue; font-family:Courier new\">range</span>:"
   ]
  },
  {
   "cell_type": "code",
   "execution_count": null,
   "metadata": {},
   "outputs": [],
   "source": [
    "# Note que la variable de control llega a un valor antes del límite\n",
    "for ii in range(3):\n",
    "    print(ii)"
   ]
  },
  {
   "cell_type": "code",
   "execution_count": null,
   "metadata": {},
   "outputs": [],
   "source": [
    "# En este caso la función range tiene un límite inferior (2) y un límite superior (3)\n",
    "for jj in range(2, 5):\n",
    "    print(jj)"
   ]
  },
  {
   "cell_type": "code",
   "execution_count": null,
   "metadata": {},
   "outputs": [],
   "source": [
    "# En caso de que queramos cambiar el valor de incremento usamos un tercer parámetro\n",
    "for i in range(3, 10, 2):\n",
    "    print(i)"
   ]
  },
  {
   "cell_type": "code",
   "execution_count": null,
   "metadata": {},
   "outputs": [],
   "source": [
    "# Considere la identación en el siguiente ejemplo\n",
    "total = 0\n",
    "for i in range(10):\n",
    "    total = total + i\n",
    "    \n",
    "print(total)  #el print está por fuera del ciclo, por ello no está indentado"
   ]
  },
  {
   "cell_type": "code",
   "execution_count": null,
   "metadata": {},
   "outputs": [],
   "source": [
    "# Podemos ejecutar ciclos no solo sobre números sino tambien sobre cadenas, listas, arreglos, diccionarios y conjuntos\n",
    "for c in 'Goooooool':\n",
    "    print(c)  #esto es algo extraño :)"
   ]
  },
  {
   "cell_type": "code",
   "execution_count": null,
   "metadata": {},
   "outputs": [],
   "source": [
    "for c in 'Gooooool':\n",
    "    print(c, end=' ')\n",
    "print('!')   #imprime en línea"
   ]
  },
  {
   "cell_type": "code",
   "execution_count": null,
   "metadata": {},
   "outputs": [],
   "source": [
    "msg = 'Me gusta Python!'\n",
    "for i in range(len(msg)):\n",
    "    print(i, msg[i])  #éste también es raro!"
   ]
  },
  {
   "cell_type": "code",
   "execution_count": null,
   "metadata": {},
   "outputs": [],
   "source": [
    "# Recorriendo una lista de nombres\n",
    "\n",
    "for nombre in \"Juan\", \"Luis\", \"Carlos\":\n",
    "    print(nombre)"
   ]
  },
  {
   "cell_type": "markdown",
   "metadata": {},
   "source": [
    "\n",
    "# Arreglos con NumPy\n",
    "\n",
    "NumPy es una de las bibliotecas más utilizadas para la creación y manipulación de arreglos n-dimensionales en Phyton. Básicamente, Numpy es:\n",
    "* Una biblioteca para Python: <span style=\"background-color:#DDDDDD; color:blue; font-family:Courier new\">ndarray</span> + <span style=\"background-color:#DDDDDD; color:blue; font-family:Courier new\">ufunc</span>\n",
    "* Los arrays multidimensionales (<span style=\"background-color:#DDDDDD; color:blue; font-family:Courier new\">ndarray</span>) nos permiten almacenar datos de manera estructurada\n",
    "* Las funciones universales (<span style=\"background-color:#DDDDDD; color:blue; font-family:Courier new\">ufunc</span>) nos permiten operar con esos datos de manera eficiente\n",
    "\n",
    "Para poder trabajar con esta biblioteca lo primero que debemos hacer es importarla:\n"
   ]
  },
  {
   "cell_type": "code",
   "execution_count": null,
   "metadata": {},
   "outputs": [],
   "source": [
    "import numpy as np"
   ]
  },
  {
   "cell_type": "markdown",
   "metadata": {},
   "source": [
    "<div style=\"padding:20px; border-radius: 15px; border: 2px solid #A43D39; background:#EEEEEE\">\n",
    "<span style=\"color:#A43D39\"><h3>**Importante:**</h3></span> Note que en este caso estamos creando un *alias* al paquete NumPy, al que hemos llamado `np`. Esta es una forma de abreviar el código y separar las funciones en paquetes (o **espacios de nombres**) lo que conduce a una mayor legibilidad del código y a la supresión de ambigüedades.\n",
    "</div>"
   ]
  },
  {
   "cell_type": "markdown",
   "metadata": {},
   "source": [
    "## ¿Qué es exactamente un arreglo en NumPy?\n",
    "\n",
    "Un arreglo no es más que una colección de `N` elementos, igual que una secuencia de Python (por ejemplo, una lista). Tiene las mismas propiedades que una secuencia y alguna más. \n",
    "\n",
    "Para crear un arreglo la forma más directa es pasarle una secuencia a la función <span style=\"background-color:#DDDDDD; color:blue; font-family:Courier new\">np.array</span>."
   ]
  },
  {
   "cell_type": "code",
   "execution_count": null,
   "metadata": {},
   "outputs": [],
   "source": [
    "arr = np.array([1, 2, 3])\n",
    "\n",
    "print (\"Contenido del arreglo:\", arr)\n",
    "print (\"Tipo de datos del arreglo:\", type(arr))\n"
   ]
  },
  {
   "cell_type": "markdown",
   "metadata": {},
   "source": [
    "Note que un arreglo de NumPy es diferente a una secuencia de Python, las cuales son usadas como arreglos en el Python nativo:"
   ]
  },
  {
   "cell_type": "code",
   "execution_count": null,
   "metadata": {},
   "outputs": [],
   "source": [
    "seq = [1,2,3]\n",
    "\n",
    "print (\"Arreglo:\", arr)\n",
    "print (\"Tipo de datos del arreglo:\", type(arr))\n",
    "\n",
    "print (\"Secuencia:\", seq)\n",
    "print (\"Tipo de datos de la secuencia:\", type(seq))"
   ]
  },
  {
   "cell_type": "markdown",
   "metadata": {},
   "source": [
    "Los arrays de NumPy son *homogéneos*, es decir, todos sus elementos son del mismo tipo. Si le pasamos a <span style=\"background-color:#DDDDDD; color:blue; font-family:Courier new\">np.array</span> una secuencia con objetos de tipos diferentes, promocionará todos al tipo con más información. Para acceder al tipo del array, podemos usar el atributo <span style=\"background-color:#DDDDDD; color:blue; font-family:Courier new\">dtype</span>."
   ]
  },
  {
   "cell_type": "code",
   "execution_count": null,
   "metadata": {},
   "outputs": [],
   "source": [
    "a = np.array([1, 2, 3.0])\n",
    "print(a.dtype)"
   ]
  },
  {
   "cell_type": "code",
   "execution_count": null,
   "metadata": {},
   "outputs": [],
   "source": [
    "np.array([1, 2, \"3\"])"
   ]
  },
  {
   "cell_type": "markdown",
   "metadata": {},
   "source": [
    "<div style=\"padding:20px; border-radius: 15px; border: 2px solid #A43D39; background:#EEEEEE\">\n",
    "<span style=\"color:#A43D39\">**Nota**:</span> Si NumPy no entiende el tipo de datos o construimos un array con argumentos incorrectos devolverá un array con <span style=\"background-color:#DDDDDD; color:blue; font-family:Courier new\">dtype object</span>. Estos arrays rara vez son útiles y su aparición suele ser signo de que algo falla en nuestro programa.</div>"
   ]
  },
  {
   "cell_type": "markdown",
   "metadata": {},
   "source": [
    "NumPy intentará automáticamente construir un array con el tipo adecuado teniendo en cuenta los datos de entrada, aunque nosotros podemos forzarlo."
   ]
  },
  {
   "cell_type": "code",
   "execution_count": null,
   "metadata": {},
   "outputs": [],
   "source": [
    "np.array([1, 2, 3], dtype=float)"
   ]
  },
  {
   "cell_type": "code",
   "execution_count": null,
   "metadata": {},
   "outputs": [],
   "source": [
    "np.array([1, 2, 3], dtype=complex)"
   ]
  },
  {
   "cell_type": "markdown",
   "metadata": {},
   "source": [
    "También podemos convertir un array de un tipo a otro utilizando el método <span style=\"background-color:#DDDDDD; color:blue; font-family:Courier new\">.astype</span>."
   ]
  },
  {
   "cell_type": "code",
   "execution_count": null,
   "metadata": {},
   "outputs": [],
   "source": [
    "a"
   ]
  },
  {
   "cell_type": "code",
   "execution_count": null,
   "metadata": {},
   "outputs": [],
   "source": [
    "a.astype(int)"
   ]
  },
  {
   "cell_type": "markdown",
   "metadata": {},
   "source": [
    "## Indexación de Arreglos\n",
    "\n"
   ]
  },
  {
   "cell_type": "code",
   "execution_count": null,
   "metadata": {},
   "outputs": [],
   "source": [
    "import numpy as np\n",
    "# Creamos una matriz de 2x3 \n",
    "a = np.array([\n",
    "    [1, 2, 3],\n",
    "    [4, 5, 6]])\n",
    "\n",
    "b = np.array([\n",
    "    [1, 2, 3],\n",
    "    [4, 5, 6]])\n",
    "a+b"
   ]
  },
  {
   "cell_type": "markdown",
   "metadata": {},
   "source": [
    "Para acceder al arreglo se utilizan corchetes indicando el índice de la posición a la que se quiere acceder. Debe tener presente que en Python los índices empiezan en 0. Por ejemplo, si accedemos el primer elemento de un arreglo de dos dimensiones, obtenemos la primera fila."
   ]
  },
  {
   "cell_type": "code",
   "execution_count": null,
   "metadata": {},
   "outputs": [],
   "source": [
    "a[0]"
   ]
  },
  {
   "cell_type": "markdown",
   "metadata": {},
   "source": [
    "Para acceder a cada elemento del elemento se debe indicar la fila y la columna. Para ello podemos usar una de dos formas:"
   ]
  },
  {
   "cell_type": "code",
   "execution_count": null,
   "metadata": {},
   "outputs": [],
   "source": [
    "# Se especifica la fila y la columna en 2 corchetes \n",
    "print (a[0][1])\n",
    "\n",
    "# Se simplifica la notación usando solo un corchete y los 2 índices (Esta es la más usada)\n",
    "print (a[0,1])"
   ]
  },
  {
   "cell_type": "markdown",
   "metadata": {},
   "source": [
    "<div style=\"padding:20px; border-radius: 15px; border: 2px solid #A43D39; background:#EEEEEE\">\n",
    "<span style=\"color:#A43D39\">**Importante:**</span> No sólo podemos recuperar un elemento aislado, sino que también podemos obtener porciones del arreglo (como en Matlab), utilizando la sintaxis <span style=\"background-color:#EEEEEE;  font-family:Courier new\">[inicio:final:salto]</span>. </div>"
   ]
  },
  {
   "cell_type": "code",
   "execution_count": null,
   "metadata": {},
   "outputs": [],
   "source": [
    "# Obtenga la fila 0, columnas 1 y 2\n",
    "a[0, 1:3]"
   ]
  },
  {
   "cell_type": "code",
   "execution_count": null,
   "metadata": {},
   "outputs": [],
   "source": [
    "# Obtenga las filas 0 y 1 y las columnas 0 y 1\n",
    "a[0:2, 0:2]"
   ]
  },
  {
   "cell_type": "markdown",
   "metadata": {},
   "source": [
    "## Creación de Arreglos\n",
    "\n",
    "Hay diferentes formas de crear arreglos:\n",
    "\n",
    "* Unos y ceros: <span style=\"background-color:#EEEEEE; color:blue; font-family:Courier new\">empty<span>, <span style=\"background-color:#EEEEEE; color:blue; font-family:Courier new\">eye, ones, zeros, *_like\n",
    "* Usando rangos: <span style=\"background-color:#EEEEEE; color:blue; font-family:Courier new\">arange, linspace, logspace, meshgrid </span>\n",
    "* Aleatorios: <span style=\"background-color:#EEEEEE; color:blue; font-family:Courier new\">rand, randn</span>"
   ]
  },
  {
   "cell_type": "markdown",
   "metadata": {},
   "source": [
    "### Unos y Ceros\n",
    "\n",
    "Es muy común que se requiera crear arreglos especiales cuyo contenido sean unos y ceros. Estas son las formas más comunes para hacerlo:\n",
    "* <span style=\"background-color:#EEEEEE; color:blue; font-family:Courier new\">zeros</span>(<span style=\"background-color:#EEEEEE; color:green; font-family:Courier new\">shape</span>) y  <span style=\"background-color:#EEEEEE; color:blue; font-family:Courier new\">ones</span>(<span style=\"background-color:#EEEEEE; color:green; font-family:Courier new\">shape</span>) crean arreglos de ceros y unos, respectivamente. EL parámetro <span style=\"background-color:#EEEEEE; color:green; font-family:Courier new\">shape</span> es una tupla con el número de filas y columnas del arreglo.\n",
    "* <span style=\"background-color:#EEEEEE; color:blue; font-family:Courier new\">empty</span>(<span style=\"background-color:#EEEEEE; color:green; font-family:Courier new\">shape</span>) crea un array con «basura», equivalente a no inicializarlo, ligeramente más rápido que <span style=\"background-color:#EEEEEE; color:blue; font-family:Courier new\">zeros o ones</span>\n",
    "* <span style=\"background-color:#EEEEEE; color:blue; font-family:Courier new\">eye</span><span style=\"background-color:#EEEEEE;font-family:Courier new\">(N, M=None, k=0)</span> crea un array con unos en una diagonal y ceros en el resto\n",
    "* <span style=\"background-color:#EEEEEE; color:blue; font-family:Courier new\">identity</span>(<span style=\"background-color:#EEEEEE; font-family:Courier new\">n</span>) devuelve la matriz identidad\n",
    "* <span style=\"background-color:#EEEEEE; color:blue; font-family:Courier new\">full</span>(<span style=\"background-color:#EEEEEE; color:green; font-family:Courier new\">shape</span>, <span style=\"background-color:#EEEEEE; font-family:Courier new\">fill_value</span>) crea una matriz cuyo contenido está especificado por el valor <span style=\"background-color:#EEEEEE; font-family:Courier new\">fill_value</span>\n",
    "* Las funciones <span style=\"background-color:#EEEEEE; color:blue; font-family:Courier new\">*_like(a)</span> construyen arrays con el mismo tamaño que uno dado"
   ]
  },
  {
   "cell_type": "code",
   "execution_count": null,
   "metadata": {},
   "outputs": [],
   "source": [
    "# Se crea una matriz de 2 filas y 3 columnas de ceros. Note que el tamaño se especifica en una tupla (fila, columna)\n",
    "A = np.zeros((2,3))\n",
    "print (\"Matriz de ceros reales:\\n\", A)\n",
    "\n",
    "# Note que el tipo es real. Si se requiere algún tipo específico este deber especificado en la creación\n",
    "A = np.zeros((2,3), dtype=int)\n",
    "print (\"\\nMatriz de ceros enteros:\\n\", A)\n"
   ]
  },
  {
   "cell_type": "markdown",
   "metadata": {},
   "source": [
    "<div style=\"padding:20px; border-radius: 15px; border: 2px solid #A43D39; background:#EEEEEE\">\n",
    "<span style=\"color:#A43D39\">**Nota**:</span> Un error muy típico es tratar de crear un arreglo llamando a la función con dos argumentos, como se ejemplifica en la siguiente celda. </div>"
   ]
  },
  {
   "cell_type": "code",
   "execution_count": null,
   "metadata": {},
   "outputs": [],
   "source": [
    "A = np.zeros(3, 4)"
   ]
  },
  {
   "cell_type": "markdown",
   "metadata": {},
   "source": [
    "Esto produce un error, porque NumPy espera un solo argumento: **una tupla** con el número de filas y el número de columnas. Es conveniente asegurarse de cuál es el convenio en cada caso porque no siempre hay consistencia interna.\n",
    "\n",
    "A continuación se muestra la forma correcta para hacerlo:"
   ]
  },
  {
   "cell_type": "code",
   "execution_count": null,
   "metadata": {},
   "outputs": [],
   "source": [
    "# Se crea una matriz de unos de 3x4\n",
    "A = np.ones((3, 4))\n",
    "A"
   ]
  },
  {
   "cell_type": "code",
   "execution_count": null,
   "metadata": {},
   "outputs": [],
   "source": [
    "# Se crea una matriz \"vacía\" (con basura) de 3x3\n",
    "A = np.empty((3,3))\n",
    "A"
   ]
  },
  {
   "cell_type": "code",
   "execution_count": null,
   "metadata": {},
   "outputs": [],
   "source": [
    "# Crea una matriz diagonal de 4x4. Si la matriz es cuadrada esta función solo requiere un parámetro\n",
    "A = np.eye(4)\n",
    "A"
   ]
  },
  {
   "cell_type": "markdown",
   "metadata": {},
   "source": [
    "### Arreglos con Rangos\n",
    "\n",
    "En algunas ocasiones es necesario crear arreglos conciertos rangos específicos:\n",
    "* <span style=\"background-color:#EEEEEE; font-family:Courier new\"><span style=\"color:blue;\">arange</span>(start, stop, step)</span> devuelve números equiespaciados dentro de un intervalo\n",
    "* <span style=\"background-color:#EEEEEE; font-family:Courier new\"><span style=\"color:blue;\">linspace</span>(start, stop, num=50)</span> devuelve números equiespaciados dentro de un intervalo\n",
    "* <span style=\"background-color:#EEEEEE; font-family:Courier new\"><span style=\"color:blue;\">logspace</span>(start, stop, num=50, base=10.0)</span> devuelve números equiespaciados según una escala logarítmica\n",
    "* <span style=\"background-color:#EEEEEE; font-family:Courier new\"><span style=\"color:blue;\">meshgrid</span>(x1, x2, ...)</span> devuelve matrices de n-coordenadas"
   ]
  },
  {
   "cell_type": "code",
   "execution_count": null,
   "metadata": {},
   "outputs": [],
   "source": [
    "# Crea un arreglo con 5 valores en el rango entre 0 y 10 (sin incluirlo) saltando de a 2\n",
    "A = np.arange(0,10,2).astype(float)\n",
    "\n",
    "# Crea un arreglo con 5 valores equiespacidos en el rango entre 0 y 1\n",
    "B = np.linspace(0,1, num=5)\n",
    "\n",
    "print (\"A=\",A, \"\\nB=\",B)"
   ]
  },
  {
   "cell_type": "markdown",
   "metadata": {},
   "source": [
    "La función <span style=\"background-color:#DDDDDD; font-family:Courier new; color:blue;\">np.meshgrid</span> se utiliza mucho a la hora de representar funciones en dos dimensiones, y crea dos arrays: uno varía por filas y otro por columnas. Combinándolos, podemos evaluar la función en un cuadrado."
   ]
  },
  {
   "cell_type": "code",
   "execution_count": null,
   "metadata": {},
   "outputs": [],
   "source": [
    "x = np.linspace(1, 5, num=5)\n",
    "y = np.linspace(1, 5, num=5)\n",
    "print(x)\n",
    "xx, yy = np.meshgrid(x, y)\n",
    "print(xx,\"\\n\\n\",yy)"
   ]
  },
  {
   "cell_type": "markdown",
   "metadata": {},
   "source": [
    "## Comparando Arreglos\n",
    "\n",
    "Algunas veces es necesario realizar comparaciones entre arreglos. Esta es una forma de hacerlo:"
   ]
  },
  {
   "cell_type": "code",
   "execution_count": null,
   "metadata": {},
   "outputs": [],
   "source": [
    "# Crea un arreglo del 0 al 6\n",
    "A = np.arange(6)\n",
    "\n",
    "# Crea un arreglo de unos\n",
    "B = np.ones(6).astype(int)\n",
    "\n",
    "print (\"A=\",A, \"\\nB=\",B)"
   ]
  },
  {
   "cell_type": "code",
   "execution_count": null,
   "metadata": {},
   "outputs": [],
   "source": [
    "# Comparación elemento a elemento\n",
    "A <= B"
   ]
  },
  {
   "cell_type": "code",
   "execution_count": null,
   "metadata": {},
   "outputs": [],
   "source": [
    "# Determina si ALGÚN elemento cumple la condición\n",
    "np.any(A < B)"
   ]
  },
  {
   "cell_type": "code",
   "execution_count": null,
   "metadata": {},
   "outputs": [],
   "source": [
    "# Determina si TODOS los elementos cumplen con la condición\n",
    "np.all(A < B)"
   ]
  },
  {
   "cell_type": "markdown",
   "metadata": {},
   "source": [
    "## Operaciones básicas\n",
    "\n",
    "Veamos ahora algunos ejemplos con opearaciones básicas entre arreglos:"
   ]
  },
  {
   "cell_type": "code",
   "execution_count": null,
   "metadata": {},
   "outputs": [],
   "source": [
    "# Se crean dos matrices de 3x3 con contenido aleatorio en el rango [-9, 10) de tipo entero\n",
    "A = np.random.randint(-9,10, size=16).reshape(4, 4)\n",
    "B = np.random.randint(-9,10, size=16).reshape(4, 4)\n",
    "\n",
    "print (A, \"\\n\\n\",B)"
   ]
  },
  {
   "cell_type": "code",
   "execution_count": null,
   "metadata": {},
   "outputs": [],
   "source": [
    "# Se suma un valor a toda la matriz\n",
    "A = A+10\n",
    "A"
   ]
  },
  {
   "cell_type": "code",
   "execution_count": null,
   "metadata": {},
   "outputs": [],
   "source": [
    "# Se multiplica por un valor todos los elementos de la matriz\n",
    "B = B*2\n",
    "B"
   ]
  },
  {
   "cell_type": "code",
   "execution_count": null,
   "metadata": {},
   "outputs": [],
   "source": [
    "# Se resta 5 los elementos entre las filas 1 y 3(excluida) y columnas 0 y 2(excluida)\n",
    "A[1:3, 0:2] = A[1:3, 0:2] - 5\n",
    "A"
   ]
  },
  {
   "cell_type": "code",
   "execution_count": null,
   "metadata": {},
   "outputs": [],
   "source": [
    "# Se suma el contenido de las 2 matrices, elemento a elemento\n",
    "C = A + B\n",
    "C"
   ]
  },
  {
   "cell_type": "markdown",
   "metadata": {},
   "source": [
    "# Entregables de la Práctica\n"
   ]
  },
  {
   "cell_type": "markdown",
   "metadata": {},
   "source": [
    "### Ejercicio 1. \n",
    "\n",
    "Desarrolle un programa en Python que dado un número ingresado por el usuario, muestre todos los números primos hasta dicho número."
   ]
  },
  {
   "cell_type": "code",
   "execution_count": null,
   "metadata": {},
   "outputs": [],
   "source": [
    "numTop = int(input(\"Enter a number top: \"))\n",
    "\n",
    "cousin = []\n",
    "\n",
    "for i in range(2, numTop):\n",
    "    isCousin = True;\n",
    "    for num in cousin:\n",
    "        if(i % num == 0):\n",
    "            isCousin = False\n",
    "    if isCousin:\n",
    "        cousin.append(i)\n",
    "        print(i)\n",
    "    "
   ]
  },
  {
   "cell_type": "markdown",
   "metadata": {},
   "source": [
    "### Ejercicio 2.\n",
    "\n",
    "La conjetura de Collatz, conocida también como conjetura $3n+1$ o conjetura de Ulam, fue enunciada por el matemático Lothar Collatz en 1937. Escriba un algoritmo que muestre en pantalla la lista de números que se genera aplicando la conjetura de Colllatz a un número **positivo** $n$, teniendo en cuenta que:\n",
    "* Si n es par este se divide por 2\n",
    "* Si n es impar este se multiplica por 3 y se suma 1 al resultado.\n",
    "\n",
    "Los pasos anteriores se repiten hasta que se obtenga como resultado el número 1.\n"
   ]
  },
  {
   "cell_type": "code",
   "execution_count": null,
   "metadata": {},
   "outputs": [],
   "source": [
    "ctrl = True\n",
    "while ctrl:\n",
    "    numero = int(input('Type a positive number: '))\n",
    "    \n",
    "    if numero >= 0:\n",
    "        ctrl = False\n",
    "\n",
    "ctrl = True\n",
    "while ctrl:\n",
    "    if numero % 2 == 0:\n",
    "        numero = numero / 2\n",
    "    else:\n",
    "        numero = (numero * 3) + 1\n",
    "    \n",
    "    print(int(numero))    \n",
    "    if numero == 1:\n",
    "        ctrl = False"
   ]
  },
  {
   "cell_type": "markdown",
   "metadata": {},
   "source": [
    "### Ejercicio 3. \n",
    "\n",
    "Escriba el código en python para:\n",
    "* Crear un arreglo llamado z1 de 3x4 lleno de ceros de tipo entero\n",
    "* Crear un arreglo llamado z2 de 3x4 lleno de ceros salvo la primera fila que serán todo unos\n",
    "* Crear un arreglo llamado z3 de  3x4 lleno de ceros salvo la última fila que tendrá numeros en el rango entre 5 y 8\n",
    "* Crear un arreglo de 10 elementos tal que las posiciones pares contengan un dos y las posiciones impares un 1"
   ]
  },
  {
   "cell_type": "code",
   "execution_count": null,
   "metadata": {},
   "outputs": [],
   "source": [
    "import numpy as np\n",
    "# Crear un arreglo llamado z1 de 3x4 lleno de ceros de tipo entero.\n",
    "z1 = np.zeros([3,4], dtype = 'int')\n",
    "z1"
   ]
  },
  {
   "cell_type": "code",
   "execution_count": null,
   "metadata": {},
   "outputs": [],
   "source": [
    "# Crear un arreglo llamado z2 de  3x4 lleno de ceros salvo la primera fila que serán todo unos.\n",
    "z2 = np.zeros((3,4), dtype='int' )\n",
    "z2[0] = 1\n",
    "z2"
   ]
  },
  {
   "cell_type": "code",
   "execution_count": null,
   "metadata": {},
   "outputs": [],
   "source": [
    "# Crear un arreglo llamado z3 de  3x4 lleno de ceros salvo la última fila que tendrá numeros en el rango entre 5 y 8\n",
    "z3 = np.zeros([3,4], dtype='int')\n",
    "i = 0\n",
    "#for a in range(5,9):\n",
    " #   z3[2,i] = a\n",
    " #  i += 1\n",
    "#z3\n",
    "z3[2] = np.linspace(5,8, num=4)\n",
    "z3"
   ]
  },
  {
   "cell_type": "code",
   "execution_count": null,
   "metadata": {},
   "outputs": [],
   "source": [
    "# Crea un arreglo de 10 elementos tal que las posiciones pares contengan un dos y las posiciones impares un 1\n",
    "z4 = np.ones((1,10), dtype='int')\n",
    "\n",
    "for a in range(0,z4.size,2):\n",
    "    z4[0,a] += 1\n",
    "    \n",
    "print(z4)"
   ]
  },
  {
   "cell_type": "markdown",
   "metadata": {},
   "source": [
    "### Ejercicio 4.\n",
    "\n",
    "Crea una matriz que simule un «tablero de ajedrez», tal que las casillas negras contienen 0 y las casillas blancas contienen un 1."
   ]
  },
  {
   "cell_type": "code",
   "execution_count": null,
   "metadata": {},
   "outputs": [],
   "source": [
    "# Crea una matriz que simule un «tablero de ajedrez», \n",
    "# tal que las casillas negras contienen 0 y las casillas blancas contienen un 1.\n",
    "\n",
    "import numpy as np\n",
    "tablero = np.zeros((8,8), dtype='int')\n",
    "\n",
    "tablero[1::2, ::2] = 1\n",
    "tablero[::2, 1::2] = 1\n",
    "\n",
    "print(tablero)"
   ]
  },
  {
   "cell_type": "code",
   "execution_count": null,
   "metadata": {},
   "outputs": [],
   "source": []
  }
 ],
 "metadata": {
  "kernelspec": {
   "display_name": "Python 3",
   "language": "python",
   "name": "python3"
  },
  "language_info": {
   "codemirror_mode": {
    "name": "ipython",
    "version": 3
   },
   "file_extension": ".py",
   "mimetype": "text/x-python",
   "name": "python",
   "nbconvert_exporter": "python",
   "pygments_lexer": "ipython3",
   "version": "3.7.3"
  }
 },
 "nbformat": 4,
 "nbformat_minor": 2
}
