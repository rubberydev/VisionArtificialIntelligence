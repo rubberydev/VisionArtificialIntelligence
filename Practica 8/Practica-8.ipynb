{
 "cells": [
  {
   "cell_type": "markdown",
   "metadata": {},
   "source": [
    "![Curso de Visión Artificial](imagenes/encabezado.png)\n",
    "\n",
    "\n"
   ]
  },
  {
   "cell_type": "markdown",
   "metadata": {},
   "source": [
    "# OPERACIONES MORFOLÓGICAS\n",
    "\n",
    "La morfología es el estudio de las formas. Así, las operaciones morfológicas son operaciones que afectan la forma de los objetos en la imagen. Este tipo de operaciones están definidas tanto para imágenes **binarias** como para imágenes en niveles de gris, sin embargo, su uso extensivo se hace con las imágenes binarias que se obtenidas de un proceso de segmentación. \n",
    " \n",
    "La documentación para el paquete de morfología de `Skimage` está [aquí](http://scikit-image.org/docs/stable/api/skimage.morphology.html)."
   ]
  },
  {
   "cell_type": "code",
   "execution_count": 2,
   "metadata": {},
   "outputs": [],
   "source": [
    "# Siempre que usemos matplotlib en Jupyter es necesario poner esta línea antes de cualquier otra\n",
    "%matplotlib inline\n",
    "\n",
    "# Importamos las bibliotecas necesarias y les asigamos un alias\n",
    "import skimage                           # Biblioteca para la manipulación de imágenes\n",
    "import numpy as np                       # Biblioteca para la manipulación de matrices\n",
    "\n",
    "# Importamos algunos paquetes específicos\n",
    "from matplotlib import pyplot as plt     # Biblioteca para crear graficas y mostrar las imágenes en pantalla\n",
    "\n",
    "from skimage import data                 # Paquete con imágenes de prueba\n",
    "from skimage import io                   # Paquete para lectura/escritura de imágenes\n",
    "from skimage import color                # Paquete con las operaciones de transformaciones entre espacios de color\n",
    "from skimage import exposure             # Paquete con las funciones para calcular y alterar el histograma\n",
    "from skimage import filters              # Paquete que contiene las máscaras y filtros de suavizado y realzado\n",
    "from skimage import util                 # Paquete que contiene las funciones para cambiar el tipo de dato de las imágenes\n",
    "from skimage import morphology           # Para crear el kernel de convolución en los filtros no lienales\n",
    "from skimage import transform            # Esta biblioteca es la que contiene la implementación de Hough\n",
    "from skimage import measure              # Esta biblioteca contiene el método de etiquetado de regiones\n",
    "from skimage import feature              # Esta biblioteca es la que contiene la implementación del canny\n",
    "\n",
    "from scipy import ndimage                # Usamos esta biblioteca para realizar la operación de convolución\n",
    "\n",
    "import skdemo                            # Paquete ESPECIAL ADJUNTO con algunas funciones extra de visualización\n",
    "\n",
    "# Con este nos aseguramos que las imagenes en niveles de gris, se vean como tal siempre.\n",
    "plt.rcParams['image.cmap'] = 'gray'\n",
    "plt.rcParams['image.interpolation'] = 'none'"
   ]
  },
  {
   "cell_type": "markdown",
   "metadata": {},
   "source": [
    "Iniciamos creando una simple imagen de prueba ..."
   ]
  },
  {
   "cell_type": "code",
   "execution_count": 3,
   "metadata": {},
   "outputs": [
    {
     "data": {
      "image/png": "[encoded data removed]",
      "text/plain": [
       "<Figure size 432x288 with 1 Axes>"
      ]
     },
     "metadata": {
      "needs_background": "light"
     },
     "output_type": "display_data"
    }
   ],
   "source": [
    "# Creamos una imagen artificial de prueba\n",
    "img = np.array([[0, 0, 0, 0, 0, 0, 0],\n",
    "                  [0, 0, 0, 0, 0, 0, 0],\n",
    "                  [0, 0, 1, 1, 1, 0, 0],\n",
    "                  [0, 0, 1, 1, 1, 0, 0],\n",
    "                  [0, 0, 1, 1, 1, 0, 0],\n",
    "                  [0, 0, 0, 0, 0, 0, 0],\n",
    "                  [0, 0, 0, 0, 0, 0, 0]], dtype=np.uint8)\n",
    "plt.imshow(img);"
   ]
  },
  {
   "cell_type": "markdown",
   "metadata": {},
   "source": [
    "## 1. El Elemento Estructurante\n",
    "\n",
    "Es el elemento que hace las veces de una “máscara de convolución” y define la forma y tamaño de la región que será afectada por las operaciones morfológicas.\n",
    "\n",
    "Cómo se vio en la teoría, existen diferentes tipos de elementos estructurantes:"
   ]
  },
  {
   "cell_type": "code",
   "execution_count": 25,
   "metadata": {},
   "outputs": [
    {
     "name": "stdout",
     "output_type": "stream",
     "text": [
      "E.E. Cuadrado: \n",
      " [[1 1]\n",
      " [1 1]]\n"
     ]
    }
   ],
   "source": [
    "# Aquí por ejemplo creamos un elemento estructurante CUADRADO de 3x3\n",
    "sq = morphology.square(width=2)\n",
    "print(\"E.E. Cuadrado: \\n\", sq)\n"
   ]
  },
  {
   "cell_type": "code",
   "execution_count": 5,
   "metadata": {
    "scrolled": true
   },
   "outputs": [
    {
     "name": "stdout",
     "output_type": "stream",
     "text": [
      "E.E. Cuadrado: \n",
      " [[0 1 0]\n",
      " [1 1 1]\n",
      " [0 1 0]]\n"
     ]
    }
   ],
   "source": [
    "# Aquí creamo un elemento estructurante tipo DIAMANTE de radio 1\n",
    "dia = morphology.diamond(radius=1)\n",
    "print(\"E.E. Cuadrado: \\n\", dia)"
   ]
  },
  {
   "cell_type": "code",
   "execution_count": 6,
   "metadata": {},
   "outputs": [
    {
     "name": "stdout",
     "output_type": "stream",
     "text": [
      "E.E. Redondo: \n",
      " [[0 0 1 0 0]\n",
      " [0 1 1 1 0]\n",
      " [1 1 1 1 1]\n",
      " [0 1 1 1 0]\n",
      " [0 0 1 0 0]]\n"
     ]
    }
   ],
   "source": [
    "# Consulte la documentación \n",
    "# Cree un elemento estructurante de forma CIRCULAR de radio 2\n",
    "rd = morphology.disk(radius=2)\n",
    "print(\"E.E. Redondo: \\n\", rd)"
   ]
  },
  {
   "cell_type": "markdown",
   "metadata": {},
   "source": [
    "El valor central del elemento estructurante representa el píxel considerado, y los valores que lo rodean son los vecinos: un valor 1 significa que el píxel cuenta como un vecino, mientras que un valor 0 no."
   ]
  },
  {
   "cell_type": "markdown",
   "metadata": {},
   "source": [
    "## 2. Dilatación\n",
    "\n",
    "Es una operación que permite agregar pixeles a los objetos en la imagen, haciéndolos más grandes. "
   ]
  },
  {
   "cell_type": "code",
   "execution_count": 7,
   "metadata": {},
   "outputs": [
    {
     "data": {
      "image/png": "[encoded data removed]",
      "text/plain": [
       "<Figure size 720x360 with 2 Axes>"
      ]
     },
     "metadata": {
      "needs_background": "light"
     },
     "output_type": "display_data"
    }
   ],
   "source": [
    "# Aplicamos la operación de DILATACIÓN sobre la imagen img\n",
    "# Usamos la máscara cuadrada\n",
    "img_dilatada = morphology.dilation(img, sq)\n",
    "skdemo.imshow_all(img, img_dilatada)\n"
   ]
  },
  {
   "cell_type": "code",
   "execution_count": 8,
   "metadata": {},
   "outputs": [
    {
     "data": {
      "image/png": "[encoded data removed]",
      "text/plain": [
       "<Figure size 720x360 with 2 Axes>"
      ]
     },
     "metadata": {
      "needs_background": "light"
     },
     "output_type": "display_data"
    }
   ],
   "source": [
    "# Aplicamos la operación de DILATACIÓN sobre la imagen img\n",
    "# Usamos la máscara tipo diamante\n",
    "img_dilatada = morphology.dilation(img, dia)\n",
    "skdemo.imshow_all(img, img_dilatada)\n"
   ]
  },
  {
   "cell_type": "markdown",
   "metadata": {},
   "source": [
    "## 3. Erosión\n",
    "\n",
    "Contrario a la Dilatación, esta operación encoge el tamaño de los objetos en la imagen:\n"
   ]
  },
  {
   "cell_type": "code",
   "execution_count": 9,
   "metadata": {},
   "outputs": [
    {
     "data": {
      "image/png": "[encoded data removed]",
      "text/plain": [
       "<Figure size 720x360 with 2 Axes>"
      ]
     },
     "metadata": {
      "needs_background": "light"
     },
     "output_type": "display_data"
    }
   ],
   "source": [
    "# Aplicamos la operación de EROSION sobre la imagen img\n",
    "# Usamos la máscara cuadrada\n",
    "img_erosionada = morphology.erosion(img, sq)\n",
    "skdemo.imshow_all(img, img_erosionada)\n"
   ]
  },
  {
   "cell_type": "code",
   "execution_count": 10,
   "metadata": {},
   "outputs": [
    {
     "data": {
      "image/png": "[encoded data removed]",
      "text/plain": [
       "<Figure size 720x360 with 2 Axes>"
      ]
     },
     "metadata": {
      "needs_background": "light"
     },
     "output_type": "display_data"
    }
   ],
   "source": [
    "# Aplicamos la operación de EROSION sobre la imagen img\n",
    "# Usamos la máscara tipo diamante\n",
    "img_erosionada = morphology.erosion(img, dia)\n",
    "skdemo.imshow_all(img, img_erosionada)"
   ]
  },
  {
   "cell_type": "markdown",
   "metadata": {},
   "source": [
    "## 4. Apertura y Cierre\n",
    "\n",
    "La erosión y la dilatación se pueden combinar en dos operaciones ligeramente más sofisticadas llamadas apertura y cierre. Por ejemplo, considere la siguiente imagen:"
   ]
  },
  {
   "cell_type": "code",
   "execution_count": 19,
   "metadata": {},
   "outputs": [
    {
     "data": {
      "image/png": "[encoded data removed]",
      "text/plain": [
       "<Figure size 432x288 with 1 Axes>"
      ]
     },
     "metadata": {
      "needs_background": "light"
     },
     "output_type": "display_data"
    }
   ],
   "source": [
    "img = np.array([[0, 0, 0, 0, 0, 0, 0, 0, 0, 0],\n",
    "                  [0, 0, 0, 0, 0, 0, 0, 0, 0, 0],\n",
    "                  [0, 0, 1, 1, 1, 1, 1, 1, 0, 0],\n",
    "                  [0, 0, 1, 1, 1, 1, 1, 1, 0, 0],\n",
    "                  [0, 0, 1, 1, 1, 1, 1, 1, 0, 0],\n",
    "                  [0, 0, 1, 1, 1, 0, 0, 1, 0, 0],\n",
    "                  [0, 0, 1, 1, 1, 0, 0, 1, 0, 0],\n",
    "                  [0, 0, 1, 1, 1, 0, 0, 1, 0, 0],\n",
    "                  [0, 0, 1, 1, 1, 1, 1, 1, 0, 0],\n",
    "                  [0, 0, 1, 1, 1, 1, 1, 1, 0, 0],\n",
    "                  [0, 0, 1, 1, 1, 1, 1, 1, 0, 0],\n",
    "                  [0, 0, 0, 0, 0, 0, 0, 0, 0, 0],\n",
    "                  [0, 0, 0, 0, 0, 0, 0, 0, 0, 0]], np.uint8)\n",
    "plt.imshow(img);"
   ]
  },
  {
   "cell_type": "code",
   "execution_count": 26,
   "metadata": {},
   "outputs": [
    {
     "data": {
      "image/png": "[encoded data removed]",
      "text/plain": [
       "<Figure size 1440x360 with 4 Axes>"
      ]
     },
     "metadata": {
      "needs_background": "light"
     },
     "output_type": "display_data"
    },
    {
     "data": {
      "image/png": "[encoded data removed]",
      "text/plain": [
       "<Figure size 1440x360 with 4 Axes>"
      ]
     },
     "metadata": {
      "needs_background": "light"
     },
     "output_type": "display_data"
    }
   ],
   "source": [
    "# Antes de implementarlas, imagine como sería el resultado..\n",
    "# ¿Qué sucede cuando se ejecuta una erosión seguida de una dilatación de esta imagen?\n",
    "image_result_dilation_diamond = morphology.dilation(img, dia)\n",
    "image_result_dilation_square = morphology.dilation(img, sq)\n",
    "image_result_dilation_radio = morphology.dilation(img, rd)\n",
    "\n",
    "image_result_erosion_diamond = morphology.erosion(image_result_dilation_diamond, dia)\n",
    "image_result_erosion_square = morphology.erosion(image_result_dilation_square, sq)\n",
    "image_result_erosion_radio = morphology.erosion(image_result_dilation_radio, rd)\n",
    "\n",
    "titles_dilation_process = ['original', 'diamond dilation', 'square dilation', 'radio dilation']\n",
    "titles_erosion_process = ['original', 'diamond erosion', 'square erosion', 'radio erosion']\n",
    "skdemo.imshow_all(img, image_result_dilation_diamond, image_result_dilation_square, image_result_dilation_radio, titles=titles_dilation_process )\n",
    "skdemo.imshow_all(img, image_result_erosion_diamond, image_result_erosion_square, image_result_erosion_radio, titles=titles_erosion_process )\n",
    "\n",
    "# ¿Qué pasa si se aplican alrevés?\n",
    "\n"
   ]
  },
  {
   "cell_type": "code",
   "execution_count": 27,
   "metadata": {},
   "outputs": [
    {
     "data": {
      "image/png": "[encoded data removed]",
      "text/plain": [
       "<Figure size 720x360 with 2 Axes>"
      ]
     },
     "metadata": {
      "needs_background": "light"
     },
     "output_type": "display_data"
    },
    {
     "data": {
      "image/png": "[encoded data removed]",
      "text/plain": [
       "<Figure size 720x360 with 2 Axes>"
      ]
     },
     "metadata": {
      "needs_background": "light"
     },
     "output_type": "display_data"
    }
   ],
   "source": [
    "# Los comandos DIRECTOS de estas operaciones son los siguientes:\n",
    "\n",
    "# Apertura con una máscara cuadrada\n",
    "img_open = morphology.opening(img, sq) # erosion -> dilatacion\n",
    "skdemo.imshow_all(img, img_open, titles=[\"Original\", \"Openening\"]) \n",
    "\n",
    "# Cierre con una máscara cuadrada\n",
    "img_close = morphology.closing(img, sq) # dilatacion -> erosion\n",
    "skdemo.imshow_all(img, img_close, titles=[\"Original\", \"Closing\"]) \n"
   ]
  },
  {
   "cell_type": "markdown",
   "metadata": {},
   "source": [
    "<div style=\"padding:10px; border-radius:10px; border:2px solid #A43D39; background:#EEEEEE\">\n",
    "<span style=\"color:#A43D39\"><h3>**Nota:**</h3></span> <br\\>\n",
    "\n",
    "- **La Apertura** es una operación que suaviza los contornos de los objetos, rompe uniones angostas (istmos), elimina salientes finas y abre pequeños huecos.<br><br>\n",
    " \n",
    "- **El Cierre:** también suaviza los contornos de los objetos pero, a diferencia de la apertura, fusiona las hendiduras finas presentes en los objetos, elimina agujeros pequeños y rellena brechas en el contorno uniendo objetos cercanos.</div>"
   ]
  },
  {
   "cell_type": "markdown",
   "metadata": {},
   "source": [
    "## 5. Transformacion Top-Hat:\n",
    "\n",
    "Sustrae a la imagen la apertura de la imagen. Como resultado, esta transformación obtiene los píxeles que se eliminaron para redondear puntos, y las conexiones tipo puente entre los objetos.\n"
   ]
  },
  {
   "cell_type": "code",
   "execution_count": 13,
   "metadata": {},
   "outputs": [
    {
     "data": {
      "image/png": "[encoded data removed]",
      "text/plain": [
       "<Figure size 720x360 with 2 Axes>"
      ]
     },
     "metadata": {
      "needs_background": "light"
     },
     "output_type": "display_data"
    }
   ],
   "source": [
    "# Aplicación de la transformación Top-Hat\n",
    "\n",
    "img = color.rgb2gray(io.imread(\"imagenes/canvas.png\"))> 0.5\n",
    "sq = morphology.square(width=9)\n",
    "\n",
    "img_wth = morphology.white_tophat(img,selem=sq)\n",
    "skdemo.imshow_all(img, img_wth, titles=[\"Imagen Original\", \"Transformación Top-Hat\"])\n"
   ]
  },
  {
   "cell_type": "markdown",
   "metadata": {},
   "source": [
    "## 6. Transformada Bottom Hat\n",
    "\n",
    "Sustrae a la imagen del cierre de la misma, en este sentido, la transformada bottom hat muestra los píxeles que se usaron para rellenar \"agujeros\", \"espacios\" y \"puentes\" en la imagen original."
   ]
  },
  {
   "cell_type": "code",
   "execution_count": 14,
   "metadata": {},
   "outputs": [
    {
     "data": {
      "image/png": "[encoded data removed]",
      "text/plain": [
       "<Figure size 720x360 with 2 Axes>"
      ]
     },
     "metadata": {
      "needs_background": "light"
     },
     "output_type": "display_data"
    }
   ],
   "source": [
    "# Aplicación de la transformada Bottom-Hat\n",
    "img = color.rgb2gray(io.imread(\"imagenes/j.png\"))\n",
    "sq = morphology.square(width=9)\n",
    "\n",
    "img_bth = morphology.black_tophat(img,selem=sq)\n",
    "skdemo.imshow_all(img, img_bth, titles=[\"Imagen Original\", \"Transformación Bottom-Hat\"])\n"
   ]
  },
  {
   "cell_type": "markdown",
   "metadata": {},
   "source": [
    "Las transformadas Top Hat y Bottom Hat comúnmente se aplican sobre imágenes en niveles de gris para remover el fondo de algunas escenas. Por ejemplo, considere la imagen de los arroces:\n"
   ]
  },
  {
   "cell_type": "code",
   "execution_count": null,
   "metadata": {
    "collapsed": true
   },
   "outputs": [],
   "source": [
    "# Cargamos la imagen de los arroces\n",
    "img = io.imread(\"imagenes/rice.png\")\n",
    "\n",
    "# Creamos un elemento estructurante redondo de radio 12\n",
    "se = morphology.disk(radius=12)\n",
    "\n",
    "# Aplicamos la tranformada top hat\n",
    "img_wth = morphology.white_tophat(img,selem=sq)\n",
    "img_bth = morphology.black_tophat(img,selem=sq)\n",
    "\n",
    "skdemo.imshow_all(img, img_wth, img_bth, titles=[\"Imagen Original\", \"Transformación Top-Hat\", \"Transformación Bottom-Hat\"])\n",
    "\n"
   ]
  },
  {
   "cell_type": "code",
   "execution_count": null,
   "metadata": {
    "collapsed": true
   },
   "outputs": [],
   "source": [
    "#Aplicamos una mejora a la transformada Top Hat\n",
    "img_wth = exposure.rescale_intensity(img_wth)\n",
    "\n",
    "plt.imshow(img_wth)"
   ]
  },
  {
   "cell_type": "markdown",
   "metadata": {},
   "source": [
    "## 7. Otras Operaciones\n",
    "\n",
    "### Obtención del Esqueleto: \n",
    "Reduce los objetos para obtener su “columna vertebral” manteniendo la forma de los mismos."
   ]
  },
  {
   "cell_type": "code",
   "execution_count": null,
   "metadata": {
    "collapsed": true
   },
   "outputs": [],
   "source": [
    "# Cargamos la imagen de la j\n",
    "img_1 = color.rgb2gray(io.imread(\"imagenes/j.png\"))\n",
    "\n",
    "# Cargamos la imagen del caballo\n",
    "img_2 = util.invert(data.horse())\n",
    "\n",
    "# Calculamos el esqueleto\n",
    "img_1_esq = morphology.skeletonize(img_1)\n",
    "img_2_esq = morphology.skeletonize(img_2)\n",
    "\n",
    "skdemo.imshow_all(img_1, img_1_esq, titles=[\"Original\", \"Esqueleto\"])\n",
    "skdemo.imshow_all(img_2, img_2_esq, titles=[\"Original\", \"Esqueleto\"])\n"
   ]
  },
  {
   "cell_type": "markdown",
   "metadata": {},
   "source": [
    "### Adelgazamiento:\n",
    "Es similar al esqueleto, pero en este caso se reducen los objetos a líneas.\n"
   ]
  },
  {
   "cell_type": "code",
   "execution_count": null,
   "metadata": {
    "collapsed": true
   },
   "outputs": [],
   "source": [
    "# Calculamos el adelgazamiento\n",
    "img_1_th = morphology.thin(img_1)\n",
    "img_2_th = morphology.thin(img_2)\n",
    "\n",
    "skdemo.imshow_all(img_1, img_1_th, titles=[\"Original\", \"Adegazamiento\"])\n",
    "skdemo.imshow_all(img_2, img_2_th, titles=[\"Original\", \"Adegazamiento\"])"
   ]
  },
  {
   "cell_type": "markdown",
   "metadata": {
    "collapsed": true
   },
   "source": [
    "## Entregables de la Práctica\n",
    "\n",
    "### 1. Uso de las Operaciones Morfológicas:\n",
    "Utilice las operaciones morfológicas para eliminar el ruido de una imagen binaria: El objetivo es eliminar los objetos más pequeños de la imagen con el fin de aislar lo que representa la galaxia.\n"
   ]
  },
  {
   "cell_type": "code",
   "execution_count": null,
   "metadata": {
    "collapsed": true
   },
   "outputs": [],
   "source": [
    "# Inicie aquí el desarrollo de la práctica. Trabaje sobre la imageb hub:\n",
    "\n",
    "# Esta instrucción se usa para cambiar el tamaño de visualización de las imágenes\n",
    "plt.rcParams['figure.figsize'] = [8, 6]\n",
    "\n",
    "hub = color.rgb2gray(data.hubble_deep_field()[350:450, 90:190])\n",
    "plt.imshow(hub);\n"
   ]
  },
  {
   "cell_type": "markdown",
   "metadata": {},
   "source": [
    "### 2. Contando granos y burbujas\n",
    "\n",
    "Esta imagen de microscopía corresponde a una muestra de vidrio (matriz gris clara) con algunas burbujas (negro) y granos de arena sin fundir (gris oscuro). Deseamos determinar la fracción de la muestra cubierta por estas tres partes y estimar el número de granos de arena y burbujas en la imagen."
   ]
  },
  {
   "cell_type": "code",
   "execution_count": null,
   "metadata": {
    "collapsed": true
   },
   "outputs": [],
   "source": [
    "# Inicie aquí el desarrollo de la práctica. Trabaje sobre la imageb hub:\n",
    "\n",
    "plt.rcParams['image.interpolation'] = 'nearest'\n",
    "plt.rcParams['figure.figsize'] = (10, 7)\n",
    "\n",
    "img = io.imread('imagenes/bubbles.jpg')[:880, :]\n",
    "plt.imshow(img);\n",
    "\n",
    "# Use un filtro mediana para limpiar la imagen \n",
    "\n",
    "\n",
    "# Visualice la imagen resultante, junto con su histograma\n",
    "\n",
    "\n",
    "# Umbralice con el fin de obtener los objetos de interés en imágenes diferentes\n",
    "burbujas = ...\n",
    "arena = ...\n",
    "vidrio = ...\n",
    "\n",
    "# Visualice las imágenes resultantes. RECUERDE EL PROBLEMA DE VISUALIZAR LAS IMÁGENES JUNTAS!\n",
    "\n",
    "\n",
    "# Aplique las operaciones de apertura y cierra para eliminar el ruido, cerrar huecos en cada imagen\n",
    "\n",
    "\n",
    "\n",
    "# Componga una imagen a color, tratando cada imagen de las anteriores como un canal y visualicela\n",
    "\n",
    "\n",
    "# Aplique el algoritmo de componentes conexasa a cada imagen y muestre el resultado usando el mapa de color \"spectral\"\n",
    "\n",
    "\n"
   ]
  },
  {
   "cell_type": "code",
   "execution_count": null,
   "metadata": {
    "collapsed": true
   },
   "outputs": [],
   "source": []
  }
 ],
 "metadata": {
  "kernelspec": {
   "display_name": "Python 3",
   "language": "python",
   "name": "python3"
  },
  "language_info": {
   "codemirror_mode": {
    "name": "ipython",
    "version": 3
   },
   "file_extension": ".py",
   "mimetype": "text/x-python",
   "name": "python",
   "nbconvert_exporter": "python",
   "pygments_lexer": "ipython3",
   "version": "3.7.3"
  }
 },
 "nbformat": 4,
 "nbformat_minor": 2
}
